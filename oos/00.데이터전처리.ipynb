{
 "cells": [
  {
   "cell_type": "code",
   "execution_count": 2,
   "metadata": {},
   "outputs": [],
   "source": [
    "import os\n",
    "import json\n",
    "import cv2\n",
    "import numpy as np"
   ]
  },
  {
   "cell_type": "code",
   "execution_count": 3,
   "metadata": {},
   "outputs": [],
   "source": [
    "# OpenCV는 한글경로 못일기 때문에 다음과 같이 처리해줌\n",
    "# with open(image_path, 'rb') as f:\n",
    "#     file_data = np.asarray(bytearray(()), dtype=np.uint8)\n",
    "#     image = cv2.imdecode(file_data, cv2.IMREAD_COLOR)"
   ]
  },
  {
   "cell_type": "code",
   "execution_count": 4,
   "metadata": {},
   "outputs": [
    {
     "name": "stdout",
     "output_type": "stream",
     "text": [
      "Processing folder: 0002\n",
      "Processing folder: 0003\n",
      "Processing folder: 0006\n",
      "Processing folder: 0007\n",
      "Processing folder: 0008\n",
      "Processing folder: 0009\n",
      "Processing folder: 0010\n",
      "Processing folder: 0011\n",
      "Processing folder: 0012\n",
      "Processing folder: 0014\n",
      "Image loading complete!\n"
     ]
    }
   ],
   "source": [
    "# 데이터가 저장된 최상위 폴더 경로\n",
    "base_dir = \"E:/Data/028.한국인 피부상태 측정 데이터/3.개방데이터/1.데이터/Training/01.원천데이터/TS/1. 디지털카메라\"\n",
    "\n",
    "# 결과를 저장할 딕셔너리\n",
    "image_data = {}  # {폴더명: {이미지파일명: OpenCV 이미지 객체}}\n",
    "\n",
    "# 폴더 순회\n",
    "for folder_name in os.listdir(base_dir):\n",
    "    folder_path = os.path.join(base_dir, folder_name)\n",
    "\n",
    "    # 폴더인지 확인\n",
    "    if os.path.isdir(folder_path):\n",
    "        print(f\"Processing folder: {folder_name}\")\n",
    "        \n",
    "        # 폴더별 이미지 저장\n",
    "        folder_images = {}\n",
    "        \n",
    "        # 폴더 내 파일 탐색\n",
    "        for file_name in os.listdir(folder_path):\n",
    "            file_path = os.path.join(folder_path, file_name)\n",
    "            \n",
    "            # 이미지 파일 처리 (.jpg 확장자)\n",
    "            if file_name.endswith(\".jpg\"):\n",
    "                try:\n",
    "                    # 한글 경로 처리: 바이너리 읽기 후 OpenCV로 디코딩\n",
    "                    with open(file_path, 'rb') as f:\n",
    "                        file_data = np.asarray(bytearray(f.read()), dtype=np.uint8)\n",
    "                        image = cv2.imdecode(file_data, cv2.IMREAD_COLOR)\n",
    "                    \n",
    "                    # 이미지 로드 및 저장\n",
    "                    if image is not None:\n",
    "                        folder_images[file_name] = image\n",
    "                    else:\n",
    "                        print(f\"Failed to load image: {file_path}\")\n",
    "                except Exception as e:\n",
    "                    print(f\"Error loading image {file_path}: {e}\")\n",
    "        \n",
    "        # 폴더의 이미지 데이터를 최종 딕셔너리에 추가\n",
    "        image_data[folder_name] = folder_images\n",
    "\n",
    "print(\"Image loading complete!\")\n"
   ]
  },
  {
   "cell_type": "code",
   "execution_count": 5,
   "metadata": {},
   "outputs": [
    {
     "name": "stdout",
     "output_type": "stream",
     "text": [
      "dict_keys(['0002', '0003', '0006', '0007', '0008', '0009', '0010', '0011', '0012', '0014'])\n",
      "dict_keys(['0002_01_F.jpg', '0002_01_Fb.jpg', '0002_01_Ft.jpg', '0002_01_L15.jpg', '0002_01_L30.jpg', '0002_01_R15.jpg', '0002_01_R30.jpg'])\n",
      "\n",
      "(3216, 2136, 3)\n"
     ]
    }
   ],
   "source": [
    "#데이터 확인\n",
    "print(image_data.keys())\n",
    "print(image_data['0002'].keys())\n",
    "print()\n",
    "print(image_data['0002']['0002_01_F.jpg'].shape)"
   ]
  },
  {
   "cell_type": "code",
   "execution_count": 6,
   "metadata": {},
   "outputs": [],
   "source": [
    "#경로지정\n",
    "base_dir = r\"E:\\Data\\028.한국인 피부상태 측정 데이터\\3.개방데이터\\1.데이터\\Training\\02.라벨링데이터\\TL\\1. 디지털카메라\""
   ]
  },
  {
   "cell_type": "code",
   "execution_count": 7,
   "metadata": {},
   "outputs": [],
   "source": [
    "#제이슨파일 저장할 딕셔너리 생성\n",
    "filtered_json_data = {}"
   ]
  },
  {
   "cell_type": "code",
   "execution_count": 8,
   "metadata": {},
   "outputs": [
    {
     "name": "stdout",
     "output_type": "stream",
     "text": [
      "processing folder : 0002\n",
      "processing folder : 0003\n",
      "processing folder : 0006\n",
      "processing folder : 0007\n",
      "processing folder : 0008\n",
      "processing folder : 0009\n",
      "processing folder : 0010\n",
      "processing folder : 0011\n",
      "processing folder : 0012\n",
      "processing folder : 0014\n"
     ]
    }
   ],
   "source": [
    "# 지정한 경로에 있는 파일들을 가져옴\n",
    "for forder_name in os.listdir(base_dir):\n",
    "    #기본경로에 위에가져온 파일이름을 붙여서 새로운 경로 작성\n",
    "    forder_path = os.path.join(base_dir, forder_name)\n",
    "    #폴더인지 확인하는 과정\n",
    "    if os.path.isdir(forder_path):\n",
    "        print(f\"processing folder : {forder_name}\")\n",
    "\n",
    "        #폴더내 라벨링 데이터 저장할 공간 생성\n",
    "        forder_jsons = {}\n",
    "\n",
    "        for file_name in os.listdir(forder_path):\n",
    "            file_path = os.path.join(forder_path, file_name)\n",
    "            if file_name.endswith(\"01.json\"):\n",
    "                try:\n",
    "                    with open(file_path, \"r\", encoding= \"utf-8\") as f:\n",
    "                        json_data = json.load(f)\n",
    "\n",
    "                    forder_jsons[file_name] = json_data\n",
    "                except Exception as e:\n",
    "                    print(f\"Error {file_path} : {e}\")\n",
    "\n",
    "        if forder_jsons:\n",
    "            filtered_json_data[forder_name] = forder_jsons"
   ]
  },
  {
   "cell_type": "code",
   "execution_count": 9,
   "metadata": {},
   "outputs": [
    {
     "name": "stdout",
     "output_type": "stream",
     "text": [
      "dict_keys(['0002', '0003', '0006', '0007', '0008', '0009', '0010', '0011', '0012', '0014'])\n",
      "{'0002_01_Fb_01.json': {'info': {'filename': '0002_01_Fb.jpg', 'id': '0002', 'gender': 'F', 'age': 50, 'date': '2023-07-27', 'skin_type': 0, 'sensitive': 0}, 'images': {'device': 0, 'width': 2136, 'height': 3216, 'angle': 2, 'facepart': 1, 'bbox': [584, 993, 1768, 1604]}, 'annotations': {'forehead_pigmentation': 1, 'forehead_wrinkle': 1}, 'equipment': {'forehead_moisture': 75.0, 'forehead_elasticity_R0': 0.287, 'forehead_elasticity_R1': 0.097, 'forehead_elasticity_R2': 0.662, 'forehead_elasticity_R3': 0.329, 'forehead_elasticity_R4': 0.135, 'forehead_elasticity_R5': 0.552, 'forehead_elasticity_R6': 0.649, 'forehead_elasticity_R7': 0.335, 'forehead_elasticity_R8': 0.19, 'forehead_elasticity_R9': 0.042, 'forehead_elasticity_Q0': 57.4, 'forehead_elasticity_Q1': 0.579, 'forehead_elasticity_Q2': 0.438, 'forehead_elasticity_Q3': 0.142}}, '0002_01_Ft_01.json': {'info': {'filename': '0002_01_Ft.jpg', 'id': '0002', 'gender': 'F', 'age': 50, 'date': '2023-07-27', 'skin_type': 0, 'sensitive': 0}, 'images': {'device': 0, 'width': 2136, 'height': 3216, 'angle': 1, 'facepart': 1, 'bbox': [579, 542, 1585, 894]}, 'annotations': {'forehead_pigmentation': 1, 'forehead_wrinkle': 1}, 'equipment': {'forehead_moisture': 75.0, 'forehead_elasticity_R0': 0.287, 'forehead_elasticity_R1': 0.097, 'forehead_elasticity_R2': 0.662, 'forehead_elasticity_R3': 0.329, 'forehead_elasticity_R4': 0.135, 'forehead_elasticity_R5': 0.552, 'forehead_elasticity_R6': 0.649, 'forehead_elasticity_R7': 0.335, 'forehead_elasticity_R8': 0.19, 'forehead_elasticity_R9': 0.042, 'forehead_elasticity_Q0': 57.4, 'forehead_elasticity_Q1': 0.579, 'forehead_elasticity_Q2': 0.438, 'forehead_elasticity_Q3': 0.142}}, '0002_01_F_01.json': {'info': {'filename': '0002_01_F.jpg', 'id': '0002', 'gender': 'F', 'age': 50, 'date': '2023-07-27', 'skin_type': 0, 'sensitive': 0}, 'images': {'device': 0, 'width': 2136, 'height': 3216, 'angle': 0, 'facepart': 1, 'bbox': [564, 710, 1676, 1246]}, 'annotations': {'forehead_pigmentation': 1, 'forehead_wrinkle': 1}, 'equipment': {'forehead_moisture': 75.0, 'forehead_elasticity_R0': 0.287, 'forehead_elasticity_R1': 0.097, 'forehead_elasticity_R2': 0.662, 'forehead_elasticity_R3': 0.329, 'forehead_elasticity_R4': 0.135, 'forehead_elasticity_R5': 0.552, 'forehead_elasticity_R6': 0.649, 'forehead_elasticity_R7': 0.335, 'forehead_elasticity_R8': 0.19, 'forehead_elasticity_R9': 0.042, 'forehead_elasticity_Q0': 57.4, 'forehead_elasticity_Q1': 0.579, 'forehead_elasticity_Q2': 0.438, 'forehead_elasticity_Q3': 0.142}}, '0002_01_L15_01.json': {'info': {'filename': '0002_01_L15.jpg', 'id': '0002', 'gender': 'F', 'age': 50, 'date': '2023-07-27', 'skin_type': 0, 'sensitive': 0}, 'images': {'device': 0, 'width': 2136, 'height': 3216, 'angle': 3, 'facepart': 1, 'bbox': [425, 600, 1471, 1175]}, 'annotations': {'forehead_pigmentation': 1, 'forehead_wrinkle': 1}, 'equipment': {'forehead_moisture': 75.0, 'forehead_elasticity_R0': 0.287, 'forehead_elasticity_R1': 0.097, 'forehead_elasticity_R2': 0.662, 'forehead_elasticity_R3': 0.329, 'forehead_elasticity_R4': 0.135, 'forehead_elasticity_R5': 0.552, 'forehead_elasticity_R6': 0.649, 'forehead_elasticity_R7': 0.335, 'forehead_elasticity_R8': 0.19, 'forehead_elasticity_R9': 0.042, 'forehead_elasticity_Q0': 57.4, 'forehead_elasticity_Q1': 0.579, 'forehead_elasticity_Q2': 0.438, 'forehead_elasticity_Q3': 0.142}}, '0002_01_L30_01.json': {'info': {'filename': '0002_01_L30.jpg', 'id': '0002', 'gender': 'F', 'age': 50, 'date': '2023-07-27', 'skin_type': 0, 'sensitive': 0}, 'images': {'device': 0, 'width': 2136, 'height': 3216, 'angle': 4, 'facepart': 1, 'bbox': [445, 593, 1426, 1159]}, 'annotations': {'forehead_pigmentation': 1, 'forehead_wrinkle': 1}, 'equipment': {'forehead_moisture': 75.0, 'forehead_elasticity_R0': 0.287, 'forehead_elasticity_R1': 0.097, 'forehead_elasticity_R2': 0.662, 'forehead_elasticity_R3': 0.329, 'forehead_elasticity_R4': 0.135, 'forehead_elasticity_R5': 0.552, 'forehead_elasticity_R6': 0.649, 'forehead_elasticity_R7': 0.335, 'forehead_elasticity_R8': 0.19, 'forehead_elasticity_R9': 0.042, 'forehead_elasticity_Q0': 57.4, 'forehead_elasticity_Q1': 0.579, 'forehead_elasticity_Q2': 0.438, 'forehead_elasticity_Q3': 0.142}}, '0002_01_R15_01.json': {'info': {'filename': '0002_01_R15.jpg', 'id': '0002', 'gender': 'F', 'age': 50, 'date': '2023-07-27', 'skin_type': 0, 'sensitive': 0}, 'images': {'device': 0, 'width': 2136, 'height': 3216, 'angle': 5, 'facepart': 1, 'bbox': [869, 619, 1837, 1153]}, 'annotations': {'forehead_pigmentation': 1, 'forehead_wrinkle': 1}, 'equipment': {'forehead_moisture': 75.0, 'forehead_elasticity_R0': 0.287, 'forehead_elasticity_R1': 0.097, 'forehead_elasticity_R2': 0.662, 'forehead_elasticity_R3': 0.329, 'forehead_elasticity_R4': 0.135, 'forehead_elasticity_R5': 0.552, 'forehead_elasticity_R6': 0.649, 'forehead_elasticity_R7': 0.335, 'forehead_elasticity_R8': 0.19, 'forehead_elasticity_R9': 0.042, 'forehead_elasticity_Q0': 57.4, 'forehead_elasticity_Q1': 0.579, 'forehead_elasticity_Q2': 0.438, 'forehead_elasticity_Q3': 0.142}}, '0002_01_R30_01.json': {'info': {'filename': '0002_01_R30.jpg', 'id': '0002', 'gender': 'F', 'age': 50, 'date': '2023-07-27', 'skin_type': 0, 'sensitive': 0}, 'images': {'device': 0, 'width': 2136, 'height': 3216, 'angle': 6, 'facepart': 1, 'bbox': [963, 583, 1817, 1145]}, 'annotations': {'forehead_pigmentation': 1, 'forehead_wrinkle': 1}, 'equipment': {'forehead_moisture': 75.0, 'forehead_elasticity_R0': 0.287, 'forehead_elasticity_R1': 0.097, 'forehead_elasticity_R2': 0.662, 'forehead_elasticity_R3': 0.329, 'forehead_elasticity_R4': 0.135, 'forehead_elasticity_R5': 0.552, 'forehead_elasticity_R6': 0.649, 'forehead_elasticity_R7': 0.335, 'forehead_elasticity_R8': 0.19, 'forehead_elasticity_R9': 0.042, 'forehead_elasticity_Q0': 57.4, 'forehead_elasticity_Q1': 0.579, 'forehead_elasticity_Q2': 0.438, 'forehead_elasticity_Q3': 0.142}}}\n",
      "\n",
      "[584, 993, 1768, 1604]\n"
     ]
    }
   ],
   "source": [
    "#데이터 확인\n",
    "print(filtered_json_data.keys())\n",
    "print(filtered_json_data[\"0002\"])\n",
    "print()\n",
    "print(filtered_json_data['0002']['0002_01_Fb_01.json']['images']['bbox'])"
   ]
  },
  {
   "cell_type": "code",
   "execution_count": 10,
   "metadata": {},
   "outputs": [
    {
     "name": "stdout",
     "output_type": "stream",
     "text": [
      "dict_keys(['0002', '0003', '0006', '0007', '0008', '0009', '0010', '0011', '0012', '0014'])\n",
      "dict_keys(['0002_01_F.jpg', '0002_01_Fb.jpg', '0002_01_Ft.jpg', '0002_01_L15.jpg', '0002_01_L30.jpg', '0002_01_R15.jpg', '0002_01_R30.jpg'])\n",
      "\n",
      "(3216, 2136, 3)\n"
     ]
    }
   ],
   "source": [
    "#데이터 확인\n",
    "print(image_data.keys())\n",
    "print(image_data['0002'].keys())\n",
    "print()\n",
    "print(image_data['0002']['0002_01_F.jpg'].shape)"
   ]
  },
  {
   "cell_type": "code",
   "execution_count": null,
   "metadata": {},
   "outputs": [],
   "source": [
    "\n",
    "\n",
    "cropped_image_dict = {} # 저장받을 딕셔너리 생성\n",
    "\n",
    "for human_id in filtered_json_data.keys(): # 사람번호 조회 0002, 0004 등\n",
    "\n",
    "    for file_name in filtered_json_data[human_id].keys(): # 파일이름 조회 (제이슨파일)\n",
    "        \n",
    "        bbox = filtered_json_data[human_id][file_name]['images']['bbox'] #조회된 파일의 비박스정보 가져오기\n",
    "        x1, y1, x2, y2 = bbox #비박스 데이터 나누기\n",
    "        image_file_name = filtered_json_data[human_id][file_name][\"info\"][\"filename\"] #해당 제이슨 파일의 이미지파일 정보조회\n",
    "        image = image_data[human_id][image_file_name] #이미지 불러오기\n",
    "        cropped_image = image[y1:y2, x1:x2] #불러온 이미지 위에 저장한 비박스로 자르기\n",
    "        cropped_image_dict[image_file_name] = cropped_image #자른이미지 딕셔너리에 이름과 3차원데이터로 저장하기"
   ]
  },
  {
   "cell_type": "code",
   "execution_count": 26,
   "metadata": {},
   "outputs": [
    {
     "name": "stdout",
     "output_type": "stream",
     "text": [
      "dict_keys(['0002_01_Fb.jpg', '0002_01_Ft.jpg', '0002_01_F.jpg', '0002_01_L15.jpg', '0002_01_L30.jpg', '0002_01_R15.jpg', '0002_01_R30.jpg', '0003_01_Fb.jpg', '0003_01_Ft.jpg', '0003_01_F.jpg', '0003_01_L15.jpg', '0003_01_L30.jpg', '0003_01_R15.jpg', '0003_01_R30.jpg', '0006_01_Fb.jpg', '0006_01_Ft.jpg', '0006_01_F.jpg', '0006_01_L15.jpg', '0006_01_L30.jpg', '0006_01_R15.jpg', '0006_01_R30.jpg', '0007_01_Fb.jpg', '0007_01_Ft.jpg', '0007_01_F.jpg', '0007_01_L15.jpg', '0007_01_L30.jpg', '0007_01_R15.jpg', '0007_01_R30.jpg', '0008_01_Fb.jpg', '0008_01_Ft.jpg', '0008_01_F.jpg', '0008_01_L15.jpg', '0008_01_L30.jpg', '0008_01_R15.jpg', '0008_01_R30.jpg', '0009_01_Fb.jpg', '0009_01_Ft.jpg', '0009_01_F.jpg', '0009_01_L15.jpg', '0009_01_L30.jpg', '0009_01_R15.jpg', '0009_01_R30.jpg', '0010_01_Fb.jpg', '0010_01_Ft.jpg', '0010_01_F.jpg', '0010_01_L15.jpg', '0010_01_L30.jpg', '0010_01_R15.jpg', '0010_01_R30.jpg', '0011_01_Fb.jpg', '0011_01_Ft.jpg', '0011_01_F.jpg', '0011_01_L15.jpg', '0011_01_L30.jpg', '0011_01_R15.jpg', '0011_01_R30.jpg', '0012_01_Fb.jpg', '0012_01_Ft.jpg', '0012_01_F.jpg', '0012_01_L15.jpg', '0012_01_L30.jpg', '0012_01_R15.jpg', '0012_01_R30.jpg', '0014_01_Fb.jpg', '0014_01_Ft.jpg', '0014_01_F.jpg', '0014_01_L15.jpg', '0014_01_L30.jpg', '0014_01_R15.jpg', '0014_01_R30.jpg'])\n",
      "70\n",
      "(611, 1184, 3)\n"
     ]
    }
   ],
   "source": [
    "# 이미지 및 바운딩 박스 정보 딕셔너리 구성 확인\n",
    "print(cropped_image_dict.keys())\n",
    "print(len(cropped_image_dict.keys()))\n",
    "print(cropped_image_dict['0002_01_Fb.jpg'].shape)"
   ]
  }
 ],
 "metadata": {
  "kernelspec": {
   "display_name": "oos-dl-env2",
   "language": "python",
   "name": "python3"
  },
  "language_info": {
   "codemirror_mode": {
    "name": "ipython",
    "version": 3
   },
   "file_extension": ".py",
   "mimetype": "text/x-python",
   "name": "python",
   "nbconvert_exporter": "python",
   "pygments_lexer": "ipython3",
   "version": "3.9.21"
  }
 },
 "nbformat": 4,
 "nbformat_minor": 2
}
