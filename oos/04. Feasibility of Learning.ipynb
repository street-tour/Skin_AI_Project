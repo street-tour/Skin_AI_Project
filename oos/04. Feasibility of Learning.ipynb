{
 "cells": [
  {
   "cell_type": "code",
   "execution_count": 1,
   "metadata": {
    "executionInfo": {
     "elapsed": 8326,
     "status": "ok",
     "timestamp": 1736467835152,
     "user": {
      "displayName": "용석오",
      "userId": "17515231940578775335"
     },
     "user_tz": -540
    },
    "id": "ESMMWJC35XQI"
   },
   "outputs": [],
   "source": [
    "import pdb # 디버깅코드\n",
    "import numpy as np\n",
    "import pandas as pd\n",
    "import matplotlib.pyplot as plt\n",
    "\n",
    "import torch\n",
    "import torch.nn as nn\n",
    "import torch.nn.functional as F\n",
    "from torchvision import transforms\n",
    "from torch.utils.data import Dataset"
   ]
  },
  {
   "cell_type": "markdown",
   "metadata": {},
   "source": [
    "데이터 : 스마트폰, 이마, 색소침착, 선발데이터(0, 2) 균형<br>\n",
    "내  용 : 배치 정규화 진행 기울기 소실 방지<br>\n",
    "결  과 : 검증세트가 1:1 비율인데  정확도가 76%까지 나오는 것을 확인"
   ]
  },
  {
   "cell_type": "code",
   "execution_count": 2,
   "metadata": {
    "colab": {
     "base_uri": "https://localhost:8080/"
    },
    "executionInfo": {
     "elapsed": 2236,
     "status": "ok",
     "timestamp": 1736467838269,
     "user": {
      "displayName": "용석오",
      "userId": "17515231940578775335"
     },
     "user_tz": -540
    },
    "id": "-8uuvavA5c2y",
    "outputId": "724b9776-d08f-4359-c7ea-6ac8d82f0199"
   },
   "outputs": [
    {
     "name": "stdout",
     "output_type": "stream",
     "text": [
      "Drive already mounted at /content/drive; to attempt to forcibly remount, call drive.mount(\"/content/drive\", force_remount=True).\n"
     ]
    }
   ],
   "source": [
    "from google.colab import drive\n",
    "drive.mount('/content/drive')"
   ]
  },
  {
   "cell_type": "code",
   "execution_count": 3,
   "metadata": {
    "colab": {
     "base_uri": "https://localhost:8080/"
    },
    "executionInfo": {
     "elapsed": 3,
     "status": "ok",
     "timestamp": 1736467839310,
     "user": {
      "displayName": "용석오",
      "userId": "17515231940578775335"
     },
     "user_tz": -540
    },
    "id": "hAVJPS_O5XQR",
    "outputId": "260e27c5-b7a7-4ba7-a1db-ecaa9b416daf"
   },
   "outputs": [
    {
     "name": "stdout",
     "output_type": "stream",
     "text": [
      "cuda\n"
     ]
    }
   ],
   "source": [
    "if torch.cuda.is_available():\n",
    "    device = torch.device('cuda')\n",
    "else:\n",
    "    device = torch.device('cpu')\n",
    "\n",
    "print(device)"
   ]
  },
  {
   "cell_type": "code",
   "execution_count": 4,
   "metadata": {
    "colab": {
     "base_uri": "https://localhost:8080/"
    },
    "executionInfo": {
     "elapsed": 1400,
     "status": "ok",
     "timestamp": 1736467842774,
     "user": {
      "displayName": "용석오",
      "userId": "17515231940578775335"
     },
     "user_tz": -540
    },
    "id": "f5KsOhQb5XQU",
    "outputId": "adb192c2-dda2-4ce7-e8e3-8273d3ffa068"
   },
   "outputs": [
    {
     "name": "stdout",
     "output_type": "stream",
     "text": [
      "데이터 로드 완료!!\n"
     ]
    }
   ],
   "source": [
    "# 학습 데이터 준비 1. 스마트폰, 전면, 이마, 메타데이터 전체\n",
    "\n",
    "import pickle\n",
    "\n",
    "path = \"/content/drive/MyDrive/Human_Final_Project/Data/Train_Data_Sets_02.pkl\"\n",
    "with open(path, \"rb\") as pickle_file:\n",
    "    train_data_sets = pickle.load(pickle_file)\n",
    "    print(\"데이터 로드 완료!!\")"
   ]
  },
  {
   "cell_type": "code",
   "execution_count": 5,
   "metadata": {
    "executionInfo": {
     "elapsed": 344,
     "status": "ok",
     "timestamp": 1736467845066,
     "user": {
      "displayName": "용석오",
      "userId": "17515231940578775335"
     },
     "user_tz": -540
    },
    "id": "H9YjT9fkfXHL"
   },
   "outputs": [],
   "source": [
    "def data_selector(data_sets, target):\n",
    "    \"\"\"\n",
    "    data_sets : {'Images': dict, 'Metadata': dict}\n",
    "    target : [0, 2] 리스트형식으로 입력\n",
    "    \"\"\"\n",
    "\n",
    "    # 원하는 타겟의 파일이름을 저장하기 위한 리스트 생성\n",
    "    keys = []\n",
    "    for idx, file_name in enumerate(data_sets[\"Metadata\"]):\n",
    "        pig = data_sets[\"Metadata\"][file_name]['annotations']['forehead_pigmentation']\n",
    "        # 타겟리스트안에 있는 파일명만 키에 저장\n",
    "        if pig in target:\n",
    "            keys.append(file_name)\n",
    "\n",
    "    #값을 저장할 딕셔너리 생성\n",
    "    selected_data = {}\n",
    "    image = {}\n",
    "    meta = {}\n",
    "\n",
    "    #앞에서 생성한 키를 이용하여 데이터셋에서 파일명에 해당하는 데이터 추출\n",
    "    for id in keys:\n",
    "        image[id] = data_sets[\"Images\"][id]\n",
    "        meta[id] = data_sets[\"Metadata\"][id]\n",
    "    selected_data[\"Images\"] = image\n",
    "    selected_data[\"Metadata\"] = meta\n",
    "\n",
    "    from collections import Counter\n",
    "\n",
    "    # 전체 데이터셋의 타겟 분포 확인\n",
    "    targets = [metadata[\"annotations\"][\"forehead_pigmentation\"] for metadata in selected_data[\"Metadata\"].values()]\n",
    "    target_distribution = Counter(targets)\n",
    "\n",
    "    # 분포 출력\n",
    "    print(\"Target Distribution (Class Count):\")\n",
    "    for target, count in sorted(target_distribution.items()):\n",
    "        print(f\"Class {target}: {count}\")\n",
    "\n",
    "    # 시각화를 위한 matplotlib 사용\n",
    "    import matplotlib.pyplot as plt\n",
    "\n",
    "    classes = sorted(target_distribution.keys())\n",
    "    counts = [target_distribution[c] for c in classes]\n",
    "\n",
    "    plt.bar(classes, counts, tick_label=[f\"Class {c}\" for c in classes])\n",
    "    plt.xlabel(\"Classes\")\n",
    "    plt.ylabel(\"Count\")\n",
    "    plt.title(\"Target Distribution\")\n",
    "    plt.show()\n",
    "\n",
    "    return selected_data"
   ]
  },
  {
   "cell_type": "code",
   "execution_count": 2,
   "metadata": {
    "colab": {
     "base_uri": "https://localhost:8080/",
     "height": 618
    },
    "executionInfo": {
     "elapsed": 456,
     "status": "ok",
     "timestamp": 1736467907250,
     "user": {
      "displayName": "용석오",
      "userId": "17515231940578775335"
     },
     "user_tz": -540
    },
    "id": "nWd7EtK6hFk6",
    "outputId": "02a34ecd-1990-4697-d08e-aa8bc7184bfe"
   },
   "outputs": [
    {
     "ename": "NameError",
     "evalue": "name 'data_selector' is not defined",
     "output_type": "error",
     "traceback": [
      "\u001b[1;31m---------------------------------------------------------------------------\u001b[0m",
      "\u001b[1;31mNameError\u001b[0m                                 Traceback (most recent call last)",
      "Cell \u001b[1;32mIn[2], line 1\u001b[0m\n\u001b[1;32m----> 1\u001b[0m train_data \u001b[38;5;241m=\u001b[39m \u001b[43mdata_selector\u001b[49m(train_data_sets, [\u001b[38;5;241m0\u001b[39m, \u001b[38;5;241m2\u001b[39m])\n\u001b[0;32m      2\u001b[0m \u001b[38;5;28mlist\u001b[39m(train_data[\u001b[38;5;124m'\u001b[39m\u001b[38;5;124mMetadata\u001b[39m\u001b[38;5;124m'\u001b[39m]\u001b[38;5;241m.\u001b[39mkeys())[:\u001b[38;5;241m5\u001b[39m]\n",
      "\u001b[1;31mNameError\u001b[0m: name 'data_selector' is not defined"
     ]
    }
   ],
   "source": [
    "train_data = data_selector(train_data_sets, [0, 2])\n",
    "list(train_data['Metadata'].keys())[:5]"
   ]
  },
  {
   "cell_type": "code",
   "execution_count": 7,
   "metadata": {
    "colab": {
     "base_uri": "https://localhost:8080/"
    },
    "executionInfo": {
     "elapsed": 5195,
     "status": "ok",
     "timestamp": 1736467887044,
     "user": {
      "displayName": "용석오",
      "userId": "17515231940578775335"
     },
     "user_tz": -540
    },
    "id": "IilNdMPv5XQW",
    "outputId": "d4f51511-89b0-44cc-f2de-71bc3f2c3819"
   },
   "outputs": [
    {
     "name": "stdout",
     "output_type": "stream",
     "text": [
      "데이터 로드 완료!!\n"
     ]
    }
   ],
   "source": [
    "# 검증 데이터 준비 1. 스마트폰, 전면, 이마, 메타데이터 전체\n",
    "path = \"/content/drive/MyDrive/Human_Final_Project/Data/Val_Data_Sets_02.pkl\"\n",
    "with open(path, \"rb\") as pickle_file:\n",
    "    val_data_sets = pickle.load(pickle_file)\n",
    "    print(\"데이터 로드 완료!!\")"
   ]
  },
  {
   "cell_type": "code",
   "execution_count": 11,
   "metadata": {
    "colab": {
     "base_uri": "https://localhost:8080/",
     "height": 618
    },
    "executionInfo": {
     "elapsed": 1156,
     "status": "ok",
     "timestamp": 1736468062695,
     "user": {
      "displayName": "용석오",
      "userId": "17515231940578775335"
     },
     "user_tz": -540
    },
    "id": "S0IgpTyF5XQW",
    "outputId": "e0b39280-3db0-46b2-850b-93b7cec0f808"
   },
   "outputs": [
    {
     "name": "stdout",
     "output_type": "stream",
     "text": [
      "Target Distribution (Class Count):\n",
      "Class 0: 21\n",
      "Class 2: 21\n"
     ]
    },
    {
     "data": {
      "image/png": "[encoded data removed]",
      "text/plain": [
       "<Figure size 640x480 with 1 Axes>"
      ]
     },
     "metadata": {},
     "output_type": "display_data"
    },
    {
     "data": {
      "text/plain": [
       "['0013_03_F_01',\n",
       " '0061_03_F_01',\n",
       " '0072_03_F_01',\n",
       " '0111_03_F_01',\n",
       " '0117_03_F_01']"
      ]
     },
     "execution_count": 11,
     "metadata": {},
     "output_type": "execute_result"
    }
   ],
   "source": [
    "val_data = data_selector(val_data_sets, [0, 2])\n",
    "list(val_data['Metadata'].keys())[:5]"
   ]
  },
  {
   "cell_type": "code",
   "execution_count": 12,
   "metadata": {
    "executionInfo": {
     "elapsed": 347,
     "status": "ok",
     "timestamp": 1736468076092,
     "user": {
      "displayName": "용석오",
      "userId": "17515231940578775335"
     },
     "user_tz": -540
    },
    "id": "awKjH-TE5XQY"
   },
   "outputs": [],
   "source": [
    "# 데이터 준비 1.\n",
    "transform = transforms.Compose([transforms.ToTensor(), transforms.Resize((224, 224))])"
   ]
  },
  {
   "cell_type": "code",
   "execution_count": 13,
   "metadata": {
    "executionInfo": {
     "elapsed": 5,
     "status": "ok",
     "timestamp": 1736468078302,
     "user": {
      "displayName": "용석오",
      "userId": "17515231940578775335"
     },
     "user_tz": -540
    },
    "id": "UtVr_KRa5XQY"
   },
   "outputs": [],
   "source": [
    "class CustomDataset(Dataset):\n",
    "    def __init__(self, data_sets):\n",
    "        \"\"\"\n",
    "        Args:\n",
    "            data_sets (dict): {'Images': dict, 'Metadata': dict}\n",
    "        \"\"\"\n",
    "        self.images = data_sets['Images']\n",
    "        self.metadata = data_sets['Metadata']\n",
    "        self.keys = list(self.images.keys())  # 공통 키 목록\n",
    "        self.transform = transform\n",
    "\n",
    "    def __len__(self):\n",
    "        return len(self.keys)\n",
    "\n",
    "    def __getitem__(self, idx):\n",
    "        key = self.keys[idx]\n",
    "        image = self.images[key]\n",
    "        if self.transform:\n",
    "            image = self.transform(image)\n",
    "\n",
    "        target = torch.tensor(self.metadata[key]['annotations']['forehead_pigmentation'], dtype=torch.float32)  # 타겟 텐서\n",
    "        return image, target\n"
   ]
  },
  {
   "cell_type": "code",
   "execution_count": 14,
   "metadata": {
    "executionInfo": {
     "elapsed": 323,
     "status": "ok",
     "timestamp": 1736468117567,
     "user": {
      "displayName": "용석오",
      "userId": "17515231940578775335"
     },
     "user_tz": -540
    },
    "id": "gSqipmJj5XQY"
   },
   "outputs": [],
   "source": [
    "#데이터셋 생성\n",
    "dataset = CustomDataset(train_data)\n",
    "val_dataset = CustomDataset(val_data)"
   ]
  },
  {
   "cell_type": "code",
   "execution_count": 15,
   "metadata": {
    "colab": {
     "base_uri": "https://localhost:8080/"
    },
    "executionInfo": {
     "elapsed": 334,
     "status": "ok",
     "timestamp": 1736468119185,
     "user": {
      "displayName": "용석오",
      "userId": "17515231940578775335"
     },
     "user_tz": -540
    },
    "id": "DXLr-Pv75XQZ",
    "outputId": "621365b8-fe36-456b-a927-a6fde645adad"
   },
   "outputs": [
    {
     "data": {
      "text/plain": [
       "338"
      ]
     },
     "execution_count": 15,
     "metadata": {},
     "output_type": "execute_result"
    }
   ],
   "source": [
    "len(dataset)"
   ]
  },
  {
   "cell_type": "code",
   "execution_count": 16,
   "metadata": {
    "colab": {
     "base_uri": "https://localhost:8080/"
    },
    "executionInfo": {
     "elapsed": 2146,
     "status": "ok",
     "timestamp": 1736468123867,
     "user": {
      "displayName": "용석오",
      "userId": "17515231940578775335"
     },
     "user_tz": -540
    },
    "id": "DkNWtGFm5XQZ",
    "outputId": "73e38178-e6f9-45b3-e5e2-6e1440b52866"
   },
   "outputs": [
    {
     "name": "stdout",
     "output_type": "stream",
     "text": [
      "샘플 0:\n",
      "이미지 텐서 크기: torch.Size([3, 224, 224])\n",
      "타겟 값: tensor(0.)\n",
      "샘플 1:\n",
      "이미지 텐서 크기: torch.Size([3, 224, 224])\n",
      "타겟 값: tensor(0.)\n",
      "샘플 2:\n",
      "이미지 텐서 크기: torch.Size([3, 224, 224])\n",
      "타겟 값: tensor(2.)\n",
      "샘플 3:\n",
      "이미지 텐서 크기: torch.Size([3, 224, 224])\n",
      "타겟 값: tensor(0.)\n",
      "샘플 4:\n",
      "이미지 텐서 크기: torch.Size([3, 224, 224])\n",
      "타겟 값: tensor(2.)\n"
     ]
    }
   ],
   "source": [
    "# 첫 5개의 샘플 확인\n",
    "for idx, (image, target) in enumerate(dataset):\n",
    "    if idx < 5:\n",
    "        print(f\"샘플 {idx}:\")\n",
    "        print(\"이미지 텐서 크기:\", image.shape)\n",
    "        print(\"타겟 값:\", target)"
   ]
  },
  {
   "cell_type": "code",
   "execution_count": 17,
   "metadata": {
    "executionInfo": {
     "elapsed": 320,
     "status": "ok",
     "timestamp": 1736468232441,
     "user": {
      "displayName": "용석오",
      "userId": "17515231940578775335"
     },
     "user_tz": -540
    },
    "id": "muky-IS25XQZ"
   },
   "outputs": [],
   "source": [
    "train_loader = torch.utils.data.DataLoader(dataset, batch_size=4, shuffle=True)\n",
    "\n",
    "test_loader = torch.utils.data.DataLoader(val_dataset, batch_size=4, shuffle=True)"
   ]
  },
  {
   "cell_type": "code",
   "execution_count": 18,
   "metadata": {
    "colab": {
     "base_uri": "https://localhost:8080/"
    },
    "executionInfo": {
     "elapsed": 364,
     "status": "ok",
     "timestamp": 1736468236055,
     "user": {
      "displayName": "용석오",
      "userId": "17515231940578775335"
     },
     "user_tz": -540
    },
    "id": "pd72jBrH5XQZ",
    "outputId": "d6e13fa1-504d-42ed-f272-355c9809ed39"
   },
   "outputs": [
    {
     "name": "stdout",
     "output_type": "stream",
     "text": [
      "torch.Size([4, 3, 224, 224]) torch.Size([4])\n"
     ]
    }
   ],
   "source": [
    "for X, y in train_loader:\n",
    "    print(X.shape, y.shape)\n",
    "    break"
   ]
  },
  {
   "cell_type": "code",
   "execution_count": 19,
   "metadata": {
    "executionInfo": {
     "elapsed": 340,
     "status": "ok",
     "timestamp": 1736468241866,
     "user": {
      "displayName": "용석오",
      "userId": "17515231940578775335"
     },
     "user_tz": -540
    },
    "id": "3t2XmziR5XQa"
   },
   "outputs": [],
   "source": [
    "class SkinNet(nn.Module):\n",
    "    def __init__(self):\n",
    "        super(SkinNet, self).__init__()\n",
    "        self.conv1 = nn.Conv2d(3, 16, kernel_size=3, padding=1)\n",
    "        self.bn1 = nn.BatchNorm2d(16)\n",
    "\n",
    "        self.conv2 = nn.Conv2d(16, 32, kernel_size=3, padding=1)\n",
    "        self.bn2 = nn.BatchNorm2d(32)\n",
    "\n",
    "        self.conv3 = nn.Conv2d(32, 64, kernel_size=3, padding=1)\n",
    "        self.bn3 = nn.BatchNorm2d(64)\n",
    "\n",
    "        self.conv4 = nn.Conv2d(64, 128, kernel_size=3, padding=1)\n",
    "        self.bn4 = nn.BatchNorm2d(128)\n",
    "\n",
    "        self.conv5 = nn.Conv2d(128, 256, kernel_size=3, padding=1)\n",
    "        self.bn5 = nn.BatchNorm2d(256)\n",
    "\n",
    "        self.pool = nn.MaxPool2d(2, 2)  # 크기를 줄이는 Pooling Layer\n",
    "\n",
    "        # Fully connected layers\n",
    "        self.fc1 = nn.Linear(256 * 7 * 7, 512)  # 수정된 입력 크기\n",
    "        self.fc2 = nn.Linear(512, 128)\n",
    "        self.fc3 = nn.Linear(128, 3)\n",
    "\n",
    "    def forward(self, x):\n",
    "        x = F.relu(self.bn1(self.conv1(x)))\n",
    "        x = self.pool(x)\n",
    "\n",
    "        x = F.relu(self.bn2(self.conv2(x)))\n",
    "        x = self.pool(x)\n",
    "\n",
    "        x = F.relu(self.bn3(self.conv3(x)))\n",
    "        x = self.pool(x)\n",
    "\n",
    "        x = F.relu(self.bn4(self.conv4(x)))\n",
    "        x = self.pool(x)\n",
    "\n",
    "        x = F.relu(self.bn5(self.conv5(x)))\n",
    "        x = self.pool(x)  # 추가 Pooling 적용\n",
    "\n",
    "\n",
    "        x = x.view(x.size(0), -1)  # Flatten\n",
    "\n",
    "\n",
    "        x = F.relu(self.fc1(x))\n",
    "        x = F.relu(self.fc2(x))\n",
    "        x = self.fc3(x)\n",
    "        return x\n"
   ]
  },
  {
   "cell_type": "code",
   "execution_count": 20,
   "metadata": {
    "colab": {
     "base_uri": "https://localhost:8080/"
    },
    "executionInfo": {
     "elapsed": 348,
     "status": "ok",
     "timestamp": 1736468249253,
     "user": {
      "displayName": "용석오",
      "userId": "17515231940578775335"
     },
     "user_tz": -540
    },
    "id": "NZQBxqtr5XQa",
    "outputId": "be6e1da3-f515-4552-f67d-be3726019cc7"
   },
   "outputs": [
    {
     "name": "stdout",
     "output_type": "stream",
     "text": [
      "SkinNet(\n",
      "  (conv1): Conv2d(3, 16, kernel_size=(3, 3), stride=(1, 1), padding=(1, 1))\n",
      "  (bn1): BatchNorm2d(16, eps=1e-05, momentum=0.1, affine=True, track_running_stats=True)\n",
      "  (conv2): Conv2d(16, 32, kernel_size=(3, 3), stride=(1, 1), padding=(1, 1))\n",
      "  (bn2): BatchNorm2d(32, eps=1e-05, momentum=0.1, affine=True, track_running_stats=True)\n",
      "  (conv3): Conv2d(32, 64, kernel_size=(3, 3), stride=(1, 1), padding=(1, 1))\n",
      "  (bn3): BatchNorm2d(64, eps=1e-05, momentum=0.1, affine=True, track_running_stats=True)\n",
      "  (conv4): Conv2d(64, 128, kernel_size=(3, 3), stride=(1, 1), padding=(1, 1))\n",
      "  (bn4): BatchNorm2d(128, eps=1e-05, momentum=0.1, affine=True, track_running_stats=True)\n",
      "  (conv5): Conv2d(128, 256, kernel_size=(3, 3), stride=(1, 1), padding=(1, 1))\n",
      "  (bn5): BatchNorm2d(256, eps=1e-05, momentum=0.1, affine=True, track_running_stats=True)\n",
      "  (pool): MaxPool2d(kernel_size=2, stride=2, padding=0, dilation=1, ceil_mode=False)\n",
      "  (fc1): Linear(in_features=12544, out_features=512, bias=True)\n",
      "  (fc2): Linear(in_features=512, out_features=128, bias=True)\n",
      "  (fc3): Linear(in_features=128, out_features=3, bias=True)\n",
      ")\n"
     ]
    }
   ],
   "source": [
    "model = SkinNet().to(device)\n",
    "\n",
    "criterion = nn.CrossEntropyLoss()\n",
    "optimizer = torch.optim.Adam(model.parameters(), lr=0.0001)\n",
    "\n",
    "print(model)"
   ]
  },
  {
   "cell_type": "code",
   "execution_count": 22,
   "metadata": {
    "executionInfo": {
     "elapsed": 324,
     "status": "ok",
     "timestamp": 1736468291923,
     "user": {
      "displayName": "용석오",
      "userId": "17515231940578775335"
     },
     "user_tz": -540
    },
    "id": "d2o5b25e5XQa"
   },
   "outputs": [],
   "source": [
    "def train(model, train_loader, optimizer):\n",
    "    loss_total = 0\n",
    "    correct_total = 0\n",
    "    model.train()\n",
    "    for idx, (images, labels) in enumerate(train_loader):\n",
    "        images = images.to(device)\n",
    "        labels = labels.to(device).long()\n",
    "\n",
    "        optimizer.zero_grad()\n",
    "\n",
    "        output = model(images)\n",
    "        loss = criterion(output, labels)\n",
    "\n",
    "        loss.backward()\n",
    "        optimizer.step()\n",
    "\n",
    "        # 누적 손실 및 정확도 계산\n",
    "        loss_total += loss.item()\n",
    "        predicted_values = output.max(1, keepdim=True)[1]\n",
    "        correct = predicted_values.eq(labels.view_as(predicted_values)).sum().item()\n",
    "        correct_total += correct\n",
    "\n",
    "        if idx % 10 == 0:\n",
    "            print(f\"Batch : {idx}, Loss : {loss.item()}\")\n",
    "\n",
    "        # 에폭 종료 후 평균 손실 및 정확도 계산\n",
    "    loss_total /= len(train_loader)  # 배치 개수로 나누어 평균 계산\n",
    "    accuracy = correct_total / len(train_loader.dataset)  # 전체 데이터셋에서 정확도 계산\n",
    "\n",
    "    # 마지막 배치 후 결과 출력\n",
    "    print(f\"Epoch Finished - Loss: {loss_total:.4f}, Accuracy: {accuracy:.4f}\")\n",
    "\n",
    "    return loss_total, accuracy"
   ]
  },
  {
   "cell_type": "code",
   "execution_count": 23,
   "metadata": {
    "executionInfo": {
     "elapsed": 343,
     "status": "ok",
     "timestamp": 1736468307772,
     "user": {
      "displayName": "용석오",
      "userId": "17515231940578775335"
     },
     "user_tz": -540
    },
    "id": "pwS8KwqB5XQa"
   },
   "outputs": [],
   "source": [
    "def evaluate(model, test_loader):\n",
    "    loss_total = 0\n",
    "    correct_total = 0\n",
    "    model.eval() # evaluation mode로 설정 -> batch-normalization, drop-out 수행 중지\n",
    "    with torch.no_grad(): # 가중치 업데이트 수행 중지\n",
    "        for images, labels in test_loader:\n",
    "            images = images.to(device)\n",
    "            labels = labels.to(device).long()\n",
    "            output = model(images)\n",
    "            loss = criterion(output, labels).item()\n",
    "            loss_total += loss\n",
    "            predicted_values = output.max(1, keepdim=True)[1]\n",
    "            correct = predicted_values.eq(labels.view_as(predicted_values)).sum().item()\n",
    "            # pdb.set_trace()\n",
    "            correct_total += correct\n",
    "\n",
    "    loss_total /= ( len(val_dataset) / 4 )\n",
    "    accuracy = correct_total / len(val_dataset)\n",
    "\n",
    "    return loss_total, accuracy\n",
    "\n"
   ]
  },
  {
   "cell_type": "code",
   "execution_count": 24,
   "metadata": {
    "colab": {
     "base_uri": "https://localhost:8080/"
    },
    "executionInfo": {
     "elapsed": 23468,
     "status": "ok",
     "timestamp": 1736468339409,
     "user": {
      "displayName": "용석오",
      "userId": "17515231940578775335"
     },
     "user_tz": -540
    },
    "id": "lfR4P-LY5XQa",
    "outputId": "f6e66fbd-d805-48b5-d46f-f4e164d54338"
   },
   "outputs": [
    {
     "name": "stdout",
     "output_type": "stream",
     "text": [
      "Batch : 0, Loss : 1.1207526922225952\n",
      "Batch : 10, Loss : 0.4610796272754669\n",
      "Batch : 20, Loss : 0.3316979706287384\n",
      "Batch : 30, Loss : 2.209052085876465\n",
      "Batch : 40, Loss : 1.02793550491333\n",
      "Batch : 50, Loss : 0.2975938022136688\n",
      "Batch : 60, Loss : 0.9880189299583435\n",
      "Batch : 70, Loss : 0.5675761699676514\n",
      "Batch : 80, Loss : 0.6602216958999634\n",
      "Epoch Finished - Loss: 0.6282, Accuracy: 0.6834\n",
      "Epoch : 1, val_Loss: 0.7226115011033558, val_Accuracy : 0.6190476190476191\n",
      "Batch : 0, Loss : 0.452096164226532\n",
      "Batch : 10, Loss : 0.5517021417617798\n",
      "Batch : 20, Loss : 0.4848479926586151\n",
      "Batch : 30, Loss : 0.06204675883054733\n",
      "Batch : 40, Loss : 0.7397550344467163\n",
      "Batch : 50, Loss : 0.3452188968658447\n",
      "Batch : 60, Loss : 0.2145807296037674\n",
      "Batch : 70, Loss : 0.47835540771484375\n",
      "Batch : 80, Loss : 0.7711457014083862\n",
      "Epoch Finished - Loss: 0.5750, Accuracy: 0.7101\n",
      "Epoch : 2, val_Loss: 0.659679658356167, val_Accuracy : 0.6190476190476191\n",
      "Batch : 0, Loss : 0.33765003085136414\n",
      "Batch : 10, Loss : 0.5020960569381714\n",
      "Batch : 20, Loss : 0.2950325310230255\n",
      "Batch : 30, Loss : 0.2948802411556244\n",
      "Batch : 40, Loss : 0.45266011357307434\n",
      "Batch : 50, Loss : 0.84282386302948\n",
      "Batch : 60, Loss : 0.3405951261520386\n",
      "Batch : 70, Loss : 0.28416410088539124\n",
      "Batch : 80, Loss : 0.11804632097482681\n",
      "Epoch Finished - Loss: 0.5257, Accuracy: 0.7396\n",
      "Epoch : 3, val_Loss: 0.6234891584941319, val_Accuracy : 0.7142857142857143\n",
      "Batch : 0, Loss : 0.6612420678138733\n",
      "Batch : 10, Loss : 1.5257021188735962\n",
      "Batch : 20, Loss : 0.14180581271648407\n",
      "Batch : 30, Loss : 0.13619551062583923\n",
      "Batch : 40, Loss : 0.34323787689208984\n",
      "Batch : 50, Loss : 0.4062219560146332\n",
      "Batch : 60, Loss : 0.5415911078453064\n",
      "Batch : 70, Loss : 1.483130693435669\n",
      "Batch : 80, Loss : 0.9107570052146912\n",
      "Epoch Finished - Loss: 0.5086, Accuracy: 0.7633\n",
      "Epoch : 4, val_Loss: 0.5996512344905308, val_Accuracy : 0.6666666666666666\n",
      "Batch : 0, Loss : 0.5631842613220215\n",
      "Batch : 10, Loss : 0.29458171129226685\n",
      "Batch : 20, Loss : 0.7144460678100586\n",
      "Batch : 30, Loss : 0.2499382197856903\n",
      "Batch : 40, Loss : 0.09408731758594513\n",
      "Batch : 50, Loss : 0.6012529134750366\n",
      "Batch : 60, Loss : 0.3980260491371155\n",
      "Batch : 70, Loss : 0.5452682375907898\n",
      "Batch : 80, Loss : 0.2833736538887024\n",
      "Epoch Finished - Loss: 0.4793, Accuracy: 0.7781\n",
      "Epoch : 5, val_Loss: 0.6906757808866955, val_Accuracy : 0.6904761904761905\n",
      "Batch : 0, Loss : 0.2712095081806183\n",
      "Batch : 10, Loss : 0.5922242999076843\n",
      "Batch : 20, Loss : 0.55176842212677\n",
      "Batch : 30, Loss : 0.9487928748130798\n",
      "Batch : 40, Loss : 0.1915646195411682\n",
      "Batch : 50, Loss : 0.8495252132415771\n",
      "Batch : 60, Loss : 1.3890318870544434\n",
      "Batch : 70, Loss : 0.3748432695865631\n",
      "Batch : 80, Loss : 0.5934474468231201\n",
      "Epoch Finished - Loss: 0.4329, Accuracy: 0.8136\n",
      "Epoch : 6, val_Loss: 0.5602135906616846, val_Accuracy : 0.6904761904761905\n",
      "Batch : 0, Loss : 0.12570476531982422\n",
      "Batch : 10, Loss : 0.0586576946079731\n",
      "Batch : 20, Loss : 0.14790081977844238\n",
      "Batch : 30, Loss : 0.3194228410720825\n",
      "Batch : 40, Loss : 0.27982625365257263\n",
      "Batch : 50, Loss : 0.2307092845439911\n",
      "Batch : 60, Loss : 0.13284072279930115\n",
      "Batch : 70, Loss : 0.4351212978363037\n",
      "Batch : 80, Loss : 0.8238129615783691\n",
      "Epoch Finished - Loss: 0.4104, Accuracy: 0.8077\n",
      "Epoch : 7, val_Loss: 0.6723490598655882, val_Accuracy : 0.6666666666666666\n",
      "Batch : 0, Loss : 0.6202191114425659\n",
      "Batch : 10, Loss : 0.10269449651241302\n",
      "Batch : 20, Loss : 0.1807403415441513\n",
      "Batch : 30, Loss : 0.37654513120651245\n",
      "Batch : 40, Loss : 0.2562063932418823\n",
      "Batch : 50, Loss : 0.18977779150009155\n",
      "Batch : 60, Loss : 0.17395763099193573\n",
      "Batch : 70, Loss : 1.2351574897766113\n",
      "Batch : 80, Loss : 0.5089910626411438\n",
      "Epoch Finished - Loss: 0.3978, Accuracy: 0.8107\n",
      "Epoch : 8, val_Loss: 0.6095772499129886, val_Accuracy : 0.6666666666666666\n",
      "Batch : 0, Loss : 0.23406194150447845\n",
      "Batch : 10, Loss : 0.5712190866470337\n",
      "Batch : 20, Loss : 0.08401157706975937\n",
      "Batch : 30, Loss : 0.1955813318490982\n",
      "Batch : 40, Loss : 0.22139573097229004\n",
      "Batch : 50, Loss : 0.07379916310310364\n",
      "Batch : 60, Loss : 0.3392917215824127\n",
      "Batch : 70, Loss : 1.544572114944458\n",
      "Batch : 80, Loss : 0.13182726502418518\n",
      "Epoch Finished - Loss: 0.3455, Accuracy: 0.8550\n",
      "Epoch : 9, val_Loss: 0.6427607053802127, val_Accuracy : 0.6904761904761905\n",
      "Batch : 0, Loss : 0.3218171000480652\n",
      "Batch : 10, Loss : 0.22284407913684845\n",
      "Batch : 20, Loss : 0.09673652797937393\n",
      "Batch : 30, Loss : 0.03931234031915665\n",
      "Batch : 40, Loss : 0.5615619421005249\n",
      "Batch : 50, Loss : 0.3094668984413147\n",
      "Batch : 60, Loss : 1.6890766620635986\n",
      "Batch : 70, Loss : 0.23877191543579102\n",
      "Batch : 80, Loss : 0.7212552428245544\n",
      "Epoch Finished - Loss: 0.3525, Accuracy: 0.8521\n",
      "Epoch : 10, val_Loss: 0.5437343191532862, val_Accuracy : 0.7619047619047619\n"
     ]
    }
   ],
   "source": [
    "# 학습 실행\n",
    "\n",
    "for epoch in range(10):\n",
    "    train(model, train_loader, optimizer)\n",
    "    val_loss, val_accuracy = evaluate(model, test_loader)\n",
    "    print(f\"Epoch : {epoch + 1}, val_Loss: {val_loss}, val_Accuracy : {val_accuracy}\")"
   ]
  }
 ],
 "metadata": {
  "accelerator": "GPU",
  "colab": {
   "gpuType": "T4",
   "provenance": []
  },
  "kernelspec": {
   "display_name": "oos-dl-env2",
   "language": "python",
   "name": "python3"
  },
  "language_info": {
   "codemirror_mode": {
    "name": "ipython",
    "version": 3
   },
   "file_extension": ".py",
   "mimetype": "text/x-python",
   "name": "python",
   "nbconvert_exporter": "python",
   "pygments_lexer": "ipython3",
   "version": "3.9.21"
  }
 },
 "nbformat": 4,
 "nbformat_minor": 0
}
