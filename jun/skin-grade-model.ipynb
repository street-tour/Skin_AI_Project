{
 "cells": [
  {
   "cell_type": "code",
   "execution_count": 11,
   "metadata": {},
   "outputs": [
    {
     "name": "stdout",
     "output_type": "stream",
     "text": [
      "Epoch 1/10\n",
      "22/22 [==============================] - 6s 243ms/step - loss: 1.3385 - accuracy: 0.4665 - val_loss: 1.2689 - val_accuracy: 0.5174\n",
      "Epoch 2/10\n",
      "22/22 [==============================] - 5s 231ms/step - loss: 1.2284 - accuracy: 0.5160 - val_loss: 1.2109 - val_accuracy: 0.5174\n",
      "Epoch 3/10\n",
      "22/22 [==============================] - 5s 236ms/step - loss: 1.2035 - accuracy: 0.5204 - val_loss: 1.1659 - val_accuracy: 0.5174\n",
      "Epoch 4/10\n",
      "22/22 [==============================] - 5s 232ms/step - loss: 1.2135 - accuracy: 0.4752 - val_loss: 1.1360 - val_accuracy: 0.5349\n",
      "Epoch 5/10\n",
      "22/22 [==============================] - 5s 233ms/step - loss: 1.1466 - accuracy: 0.5146 - val_loss: 1.2945 - val_accuracy: 0.5174\n",
      "Epoch 6/10\n",
      "22/22 [==============================] - 5s 234ms/step - loss: 1.1790 - accuracy: 0.5364 - val_loss: 1.1852 - val_accuracy: 0.4128\n",
      "Epoch 7/10\n",
      "22/22 [==============================] - 5s 233ms/step - loss: 1.1169 - accuracy: 0.5292 - val_loss: 1.1265 - val_accuracy: 0.5349\n",
      "Epoch 8/10\n",
      "22/22 [==============================] - 5s 235ms/step - loss: 1.1491 - accuracy: 0.5000 - val_loss: 1.1907 - val_accuracy: 0.5407\n",
      "Epoch 9/10\n",
      "22/22 [==============================] - 5s 233ms/step - loss: 1.1026 - accuracy: 0.5437 - val_loss: 1.1491 - val_accuracy: 0.5407\n",
      "Epoch 10/10\n",
      "22/22 [==============================] - 5s 233ms/step - loss: 1.0907 - accuracy: 0.5554 - val_loss: 1.1593 - val_accuracy: 0.5233\n",
      "6/6 [==============================] - 0s 44ms/step - loss: 1.1593 - accuracy: 0.5233\n",
      "테스트 정확도: 0.5232558250427246\n"
     ]
    }
   ],
   "source": [
    "import os\n",
    "import cv2\n",
    "import json\n",
    "import numpy as np\n",
    "from tensorflow.keras.models import Sequential\n",
    "from tensorflow.keras.layers import Conv2D, MaxPooling2D, Flatten, Dense\n",
    "from tensorflow.keras.utils import to_categorical\n",
    "from sklearn.model_selection import train_test_split\n",
    "\n",
    "# 이미지와 레이블 데이터를 저장할 리스트\n",
    "images = []\n",
    "labels = []\n",
    "\n",
    "# 데이터 디렉토리 설정\n",
    "cropped_image_dir = r\"D:\\data\\korean 01 data\"\n",
    "json_dir = r\"D:\\data\\korean skin data\\open data\\data\\Training\\Label data\\digiter cam\"\n",
    "\n",
    "# 데이터 로드\n",
    "for id_folder in os.listdir(cropped_image_dir):\n",
    "    image_folder_path = os.path.join(cropped_image_dir, id_folder)\n",
    "    json_file_path = os.path.join(json_dir, id_folder, f\"{id_folder}_01_F_01.json\")\n",
    "\n",
    "    if not os.path.exists(json_file_path):\n",
    "        continue\n",
    "\n",
    "    with open(json_file_path, 'r', encoding='utf-8') as f:\n",
    "        json_data = json.load(f)\n",
    "    \n",
    "    for image_name in os.listdir(image_folder_path):\n",
    "        image_path = os.path.join(image_folder_path, image_name)\n",
    "        image = cv2.imread(image_path)\n",
    "        image = cv2.resize(image, (128, 128))  # 예시로 128x128로 크기 조정\n",
    "        images.append(image)\n",
    "\n",
    "        # 레이블 추출 (예: 이마의 색소침착)\n",
    "        label = json_data['annotations']['forehead_pigmentation']\n",
    "        labels.append(label)\n",
    "\n",
    "# 이미지와 레이블을 NumPy 배열로 변환\n",
    "images = np.array(images, dtype='float32') / 255.0  # 정규화\n",
    "labels = np.array(labels)\n",
    "\n",
    "# 레이블 원-핫 인코딩\n",
    "labels = to_categorical(labels, num_classes=6)  \n",
    "\n",
    "# 데이터 분할\n",
    "X_train, X_test, y_train, y_test = train_test_split(images, labels, test_size=0.2, random_state=42)\n",
    "\n",
    "# 모델 설계\n",
    "model = Sequential([\n",
    "    Conv2D(32, (3, 3), activation='relu', input_shape=(128, 128, 3)),\n",
    "    MaxPooling2D(pool_size=(2, 2)),\n",
    "    Conv2D(64, (3, 3), activation='relu'),\n",
    "    MaxPooling2D(pool_size=(2, 2)),\n",
    "    Conv2D(128, (3, 3), activation='relu'),\n",
    "    MaxPooling2D(pool_size=(2, 2)),\n",
    "    Flatten(),\n",
    "    Dense(256, activation='relu'),\n",
    "    Dense(6, activation='softmax')\n",
    "])\n",
    "\n",
    "# 모델 컴파일\n",
    "\n",
    "model.compile(optimizer= 'adam', loss='categorical_crossentropy', metrics=['accuracy'])\n",
    "\n",
    "# 모델 학습\n",
    "history = model.fit(X_train, y_train, epochs=10, validation_data=(X_test, y_test))\n",
    "\n",
    "# 모델 평가\n",
    "test_loss, test_acc = model.evaluate(X_test, y_test)\n",
    "print(f\"테스트 정확도: {test_acc}\")\n"
   ]
  },
  {
   "cell_type": "code",
   "execution_count": 7,
   "metadata": {},
   "outputs": [
    {
     "name": "stdout",
     "output_type": "stream",
     "text": [
      "레이블 값들: [0 1 2 3 4 5]\n"
     ]
    }
   ],
   "source": [
    "# 레이블 값 확인\n",
    "unique_labels = np.unique(labels)\n",
    "print(f\"레이블 값들: {unique_labels}\")\n",
    "\n",
    "# 최대 레이블 값에 따라 num_classes 설정\n",
    "num_classes = len(unique_labels)  # 레이블 값 개수를 num_classes로 설정\n",
    "\n",
    "# 레이블 원-핫 인코딩\n",
    "labels = to_categorical(labels, num_classes=num_classes)\n"
   ]
  }
 ],
 "metadata": {
  "kernelspec": {
   "display_name": "human-dl-env2",
   "language": "python",
   "name": "python3"
  },
  "language_info": {
   "codemirror_mode": {
    "name": "ipython",
    "version": 3
   },
   "file_extension": ".py",
   "mimetype": "text/x-python",
   "name": "python",
   "nbconvert_exporter": "python",
   "pygments_lexer": "ipython3",
   "version": "3.9.21"
  }
 },
 "nbformat": 4,
 "nbformat_minor": 2
}
