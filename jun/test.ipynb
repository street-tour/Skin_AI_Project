{
 "cells": [
  {
   "cell_type": "code",
   "execution_count": 1,
   "metadata": {},
   "outputs": [],
   "source": [
    "import os\n",
    "import json\n",
    "import cv2  # OpenCV는 cv2로 임포트\n"
   ]
  },
  {
   "cell_type": "code",
   "execution_count": 11,
   "metadata": {},
   "outputs": [
    {
     "name": "stdout",
     "output_type": "stream",
     "text": [
      "디렉토리 내 파일 목록: ['0002_01_F.jpg', '0002_01_Fb.jpg', '0002_01_Ft.jpg', '0002_01_L15.jpg', '0002_01_L30.jpg', '0002_01_R15.jpg', '0002_01_R30.jpg']\n"
     ]
    }
   ],
   "source": [
    "import os\n",
    "\n",
    "base_dir = r\"D:\\data\\028.한국인 피부상태 측정 데이터\\3.개방데이터\\1.데이터\\Training\\01.원천데이터\\1. 디지털카메라\\0002\"\n",
    "\n",
    "# 해당 디렉토리 내 파일 목록 확인\n",
    "files_in_directory = os.listdir(base_dir)\n",
    "print(\"디렉토리 내 파일 목록:\", files_in_directory)\n"
   ]
  },
  {
   "cell_type": "code",
   "execution_count": 10,
   "metadata": {},
   "outputs": [
    {
     "name": "stdout",
     "output_type": "stream",
     "text": [
      "파일을 찾을 수 없습니다: \\\\?\\D:\\data\\028.한국인 피부상태 측정 데이터\\3.개방데이터\\1.데이터\\Training\\01.원천데이터\\1. 디지털카메라\\0002\\0002_01_F_00.json\n",
      "파일을 찾을 수 없습니다: \\\\?\\D:\\data\\028.한국인 피부상태 측정 데이터\\3.개방데이터\\1.데이터\\Training\\01.원천데이터\\1. 디지털카메라\\0002\\0002_01_F_01.json\n",
      "파일을 찾을 수 없습니다: \\\\?\\D:\\data\\028.한국인 피부상태 측정 데이터\\3.개방데이터\\1.데이터\\Training\\01.원천데이터\\1. 디지털카메라\\0002\\0002_01_F_02.json\n",
      "파일을 찾을 수 없습니다: \\\\?\\D:\\data\\028.한국인 피부상태 측정 데이터\\3.개방데이터\\1.데이터\\Training\\01.원천데이터\\1. 디지털카메라\\0002\\0002_01_F_03.json\n",
      "파일을 찾을 수 없습니다: \\\\?\\D:\\data\\028.한국인 피부상태 측정 데이터\\3.개방데이터\\1.데이터\\Training\\01.원천데이터\\1. 디지털카메라\\0002\\0002_01_F_04.json\n",
      "파일을 찾을 수 없습니다: \\\\?\\D:\\data\\028.한국인 피부상태 측정 데이터\\3.개방데이터\\1.데이터\\Training\\01.원천데이터\\1. 디지털카메라\\0002\\0002_01_F_05.json\n",
      "파일을 찾을 수 없습니다: \\\\?\\D:\\data\\028.한국인 피부상태 측정 데이터\\3.개방데이터\\1.데이터\\Training\\01.원천데이터\\1. 디지털카메라\\0002\\0002_01_F_06.json\n",
      "파일을 찾을 수 없습니다: \\\\?\\D:\\data\\028.한국인 피부상태 측정 데이터\\3.개방데이터\\1.데이터\\Training\\01.원천데이터\\1. 디지털카메라\\0002\\0002_01_F_07.json\n",
      "파일을 찾을 수 없습니다: \\\\?\\D:\\data\\028.한국인 피부상태 측정 데이터\\3.개방데이터\\1.데이터\\Training\\01.원천데이터\\1. 디지털카메라\\0002\\0002_01_F_08.json\n"
     ]
    }
   ],
   "source": [
    "import os\n",
    "import json\n",
    "\n",
    "base_dir = r\"\\\\?\\D:\\data\\028.한국인 피부상태 측정 데이터\\3.개방데이터\\1.데이터\\Training\\01.원천데이터\\1. 디지털카메라\\0002\"\n",
    "\n",
    "image_path = r'D:\\data\\028.한국인 피부상태 측정 데이터\\3.개방데이터\\1.데이터\\Training\\01.원천데이터\\1. 디지털카메라\\0002\\0002_01_F.jpg'\n",
    "json_file_names = [\n",
    "    \"0002_01_F_00.json\",\n",
    "    \"0002_01_F_01.json\",\n",
    "    \"0002_01_F_02.json\",\n",
    "    \"0002_01_F_03.json\",\n",
    "    \"0002_01_F_04.json\",\n",
    "    \"0002_01_F_05.json\",\n",
    "    \"0002_01_F_06.json\",\n",
    "    \"0002_01_F_07.json\",\n",
    "    \"0002_01_F_08.json\",\n",
    "]\n",
    "\n",
    "data = {}\n",
    "for file_name in json_file_names:\n",
    "    file_path = os.path.join(base_dir, file_name)\n",
    "    \n",
    "    # 파일 존재 여부 확인\n",
    "    if os.path.exists(file_path):\n",
    "        try:\n",
    "            with open(file_path, 'r', encoding='utf-8-sig') as f:\n",
    "                data[file_name] = json.load(f)\n",
    "        except json.JSONDecodeError as e:\n",
    "            print(f\"JSON 파싱 오류: {file_name} - {e}\")\n",
    "    else:\n",
    "        print(f\"파일을 찾을 수 없습니다: {file_path}\")\n",
    "\n",
    "# 이미지와 JSON 데이터를 활용하려면 추가 작업이 필요\n"
   ]
  },
  {
   "cell_type": "code",
   "execution_count": 12,
   "metadata": {},
   "outputs": [
    {
     "ename": "FileNotFoundError",
     "evalue": "[Errno 2] No such file or directory: 'D:\\\\data\\\\028.한국인 피부상태 측정 데이터\\\\3.개방데이터\\\\1.데이터\\\\Training\\\\01.원천데이터\\\\1. 디지털카메라\\\\0002\\\\0002_01_F_00.json'",
     "output_type": "error",
     "traceback": [
      "\u001b[1;31m---------------------------------------------------------------------------\u001b[0m",
      "\u001b[1;31mFileNotFoundError\u001b[0m                         Traceback (most recent call last)",
      "Cell \u001b[1;32mIn[12], line 3\u001b[0m\n\u001b[0;32m      1\u001b[0m \u001b[38;5;28;01mfor\u001b[39;00m file_name \u001b[38;5;129;01min\u001b[39;00m json_file_names:\n\u001b[0;32m      2\u001b[0m     file_path \u001b[38;5;241m=\u001b[39m os\u001b[38;5;241m.\u001b[39mpath\u001b[38;5;241m.\u001b[39mjoin(base_dir, file_name)\n\u001b[1;32m----> 3\u001b[0m     \u001b[38;5;28;01mwith\u001b[39;00m \u001b[38;5;28;43mopen\u001b[39;49m\u001b[43m(\u001b[49m\u001b[43mfile_path\u001b[49m\u001b[43m,\u001b[49m\u001b[43m \u001b[49m\u001b[38;5;124;43m'\u001b[39;49m\u001b[38;5;124;43mr\u001b[39;49m\u001b[38;5;124;43m'\u001b[39;49m\u001b[43m,\u001b[49m\u001b[43m \u001b[49m\u001b[43mencoding\u001b[49m\u001b[38;5;241;43m=\u001b[39;49m\u001b[38;5;124;43m'\u001b[39;49m\u001b[38;5;124;43mutf-8\u001b[39;49m\u001b[38;5;124;43m'\u001b[39;49m\u001b[43m)\u001b[49m \u001b[38;5;28;01mas\u001b[39;00m f:\n\u001b[0;32m      4\u001b[0m         data[file_name] \u001b[38;5;241m=\u001b[39m json\u001b[38;5;241m.\u001b[39mload(f)\n",
      "File \u001b[1;32mc:\\Users\\human\\.conda\\envs\\human-dl-env2\\lib\\site-packages\\IPython\\core\\interactiveshell.py:310\u001b[0m, in \u001b[0;36m_modified_open\u001b[1;34m(file, *args, **kwargs)\u001b[0m\n\u001b[0;32m    303\u001b[0m \u001b[38;5;28;01mif\u001b[39;00m file \u001b[38;5;129;01min\u001b[39;00m {\u001b[38;5;241m0\u001b[39m, \u001b[38;5;241m1\u001b[39m, \u001b[38;5;241m2\u001b[39m}:\n\u001b[0;32m    304\u001b[0m     \u001b[38;5;28;01mraise\u001b[39;00m \u001b[38;5;167;01mValueError\u001b[39;00m(\n\u001b[0;32m    305\u001b[0m         \u001b[38;5;124mf\u001b[39m\u001b[38;5;124m\"\u001b[39m\u001b[38;5;124mIPython won\u001b[39m\u001b[38;5;124m'\u001b[39m\u001b[38;5;124mt let you open fd=\u001b[39m\u001b[38;5;132;01m{\u001b[39;00mfile\u001b[38;5;132;01m}\u001b[39;00m\u001b[38;5;124m by default \u001b[39m\u001b[38;5;124m\"\u001b[39m\n\u001b[0;32m    306\u001b[0m         \u001b[38;5;124m\"\u001b[39m\u001b[38;5;124mas it is likely to crash IPython. If you know what you are doing, \u001b[39m\u001b[38;5;124m\"\u001b[39m\n\u001b[0;32m    307\u001b[0m         \u001b[38;5;124m\"\u001b[39m\u001b[38;5;124myou can use builtins\u001b[39m\u001b[38;5;124m'\u001b[39m\u001b[38;5;124m open.\u001b[39m\u001b[38;5;124m\"\u001b[39m\n\u001b[0;32m    308\u001b[0m     )\n\u001b[1;32m--> 310\u001b[0m \u001b[38;5;28;01mreturn\u001b[39;00m io_open(file, \u001b[38;5;241m*\u001b[39margs, \u001b[38;5;241m*\u001b[39m\u001b[38;5;241m*\u001b[39mkwargs)\n",
      "\u001b[1;31mFileNotFoundError\u001b[0m: [Errno 2] No such file or directory: 'D:\\\\data\\\\028.한국인 피부상태 측정 데이터\\\\3.개방데이터\\\\1.데이터\\\\Training\\\\01.원천데이터\\\\1. 디지털카메라\\\\0002\\\\0002_01_F_00.json'"
     ]
    }
   ],
   "source": [
    "for file_name in json_file_names:\n",
    "    file_path = os.path.join(base_dir, file_name)\n",
    "    with open(file_path, 'r', encoding='utf-8') as f:\n",
    "        data[file_name] = json.load(f)\n"
   ]
  },
  {
   "cell_type": "code",
   "execution_count": 21,
   "metadata": {},
   "outputs": [
    {
     "data": {
      "text/plain": [
       "{}"
      ]
     },
     "execution_count": 21,
     "metadata": {},
     "output_type": "execute_result"
    }
   ],
   "source": [
    "data"
   ]
  },
  {
   "cell_type": "code",
   "execution_count": 22,
   "metadata": {},
   "outputs": [
    {
     "ename": "NameError",
     "evalue": "name 'Image' is not defined",
     "output_type": "error",
     "traceback": [
      "\u001b[1;31m---------------------------------------------------------------------------\u001b[0m",
      "\u001b[1;31mNameError\u001b[0m                                 Traceback (most recent call last)",
      "Cell \u001b[1;32mIn[22], line 1\u001b[0m\n\u001b[1;32m----> 1\u001b[0m image \u001b[38;5;241m=\u001b[39m \u001b[43mImage\u001b[49m\u001b[38;5;241m.\u001b[39mopen(image_path)\n",
      "\u001b[1;31mNameError\u001b[0m: name 'Image' is not defined"
     ]
    }
   ],
   "source": [
    "image = Image.open(image_path)"
   ]
  }
 ],
 "metadata": {
  "kernelspec": {
   "display_name": "human-dl-env2",
   "language": "python",
   "name": "python3"
  },
  "language_info": {
   "codemirror_mode": {
    "name": "ipython",
    "version": 3
   },
   "file_extension": ".py",
   "mimetype": "text/x-python",
   "name": "python",
   "nbconvert_exporter": "python",
   "pygments_lexer": "ipython3",
   "version": "3.9.21"
  }
 },
 "nbformat": 4,
 "nbformat_minor": 2
}
