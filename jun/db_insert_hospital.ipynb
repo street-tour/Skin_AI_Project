{
 "cells": [
  {
   "cell_type": "code",
   "execution_count": 2,
   "metadata": {},
   "outputs": [],
   "source": [
    "import json\n",
    "import pymysql\n"
   ]
  },
  {
   "cell_type": "code",
   "execution_count": 4,
   "metadata": {},
   "outputs": [],
   "source": [
    "with open(\"hospital_data.json\", \"r\", encoding=\"utf-8\") as file:\n",
    "    data = json.load(file)\n",
    "\n",
    "conn = pymysql.connect( host=\"192.168.0.51\", port=3306, db=\"cosmetic_product\",\n",
    "                        user=\"humanda\", passwd=\"humanda\")\n",
    "                               \n",
    "cursor = conn.cursor()\n",
    "\n",
    "# Hospital 테이블 데이터 삽입\n",
    "for hospital in data:\n",
    "    dermatologist = hospital[\"dermatologist\"]\n",
    "    hospital_name = hospital[\"hospital_name\"]\n",
    "    doctor_name = hospital[\"doctor_name\"]\n",
    "    address = hospital[\"address\"]\n",
    "    number = hospital[\"number\"]\n",
    "\n",
    "    sql_hospital = \"\"\"INSERT INTO hospital (dermatologist, hospital_name, doctor_name, address, number)\n",
    "                     VALUES (%s, %s, %s, %s, %s)\"\"\"\n",
    "    cursor.execute(sql_hospital, (dermatologist, hospital_name, doctor_name, address, number))                     \n",
    "\n",
    "conn.commit()\n",
    "\n",
    "cursor.close()\n",
    "conn.close()"
   ]
  },
  {
   "cell_type": "code",
   "execution_count": null,
   "metadata": {},
   "outputs": [],
   "source": []
  }
 ],
 "metadata": {
  "kernelspec": {
   "display_name": "human-dl-env2",
   "language": "python",
   "name": "python3"
  },
  "language_info": {
   "codemirror_mode": {
    "name": "ipython",
    "version": 3
   },
   "file_extension": ".py",
   "mimetype": "text/x-python",
   "name": "python",
   "nbconvert_exporter": "python",
   "pygments_lexer": "ipython3",
   "version": "3.9.21"
  }
 },
 "nbformat": 4,
 "nbformat_minor": 2
}
