{
 "cells": [
  {
   "cell_type": "code",
   "execution_count": 45,
   "metadata": {},
   "outputs": [],
   "source": [
    "import pickle\n",
    "import numpy as np\n",
    "from sklearn.model_selection import train_test_split\n",
    "from sklearn.utils.class_weight import compute_class_weight\n",
    "import cv2\n",
    "import os\n",
    "import random\n",
    "import tensorflow as tf\n",
    "\n",
    "from tensorflow.keras import layers, models\n",
    "from tensorflow.keras.optimizers import Adam\n",
    "from tensorflow.keras.utils import to_categorical\n",
    "from tensorflow.keras.preprocessing.image import ImageDataGenerator\n",
    "from tensorflow.keras.models import Sequential\n",
    "from tensorflow.keras.layers import Dense, Dropout, Flatten, Conv2D, MaxPooling2D\n",
    "from tensorflow.keras.callbacks import ReduceLROnPlateau, EarlyStopping"
   ]
  },
  {
   "cell_type": "code",
   "execution_count": 46,
   "metadata": {},
   "outputs": [],
   "source": [
    "# 데이터 로드\n",
    "with open('image_data.pkl', 'rb') as f:\n",
    "    image_data = pickle.load(f)\n",
    "\n",
    "with open('target_data.pkl', 'rb') as f:\n",
    "    target_data = pickle.load(f)"
   ]
  },
  {
   "cell_type": "code",
   "execution_count": 47,
   "metadata": {},
   "outputs": [
    {
     "name": "stdout",
     "output_type": "stream",
     "text": [
      "Value: 1, Count: 1110\n",
      "Value: 0, Count: 540\n",
      "Value: 2, Count: 312\n",
      "Value: 3, Count: 270\n",
      "Value: 5, Count: 168\n",
      "Value: 4, Count: 93\n",
      "Value: 6, Count: 81\n"
     ]
    }
   ],
   "source": [
    "from collections import Counter\n",
    "\n",
    "values_list = list(target_data.values())\n",
    "value_counts = Counter(values_list)\n",
    "\n",
    "for value, count in value_counts.items():\n",
    "    print(f\"Value: {value}, Count: {count}\")"
   ]
  },
  {
   "cell_type": "markdown",
   "metadata": {},
   "source": [
    "### 0과 2,3을 묶어서 모델링"
   ]
  },
  {
   "cell_type": "code",
   "execution_count": 48,
   "metadata": {},
   "outputs": [],
   "source": [
    "def merge_classes(target_data):\n",
    "    binary_target_data = {}\n",
    "    for key, value in target_data.items():\n",
    "        if value in [2, 3]:\n",
    "            binary_target_data[key] = '10'\n",
    "        else:\n",
    "            binary_target_data[key] = value\n",
    "    \n",
    "    return binary_target_data\n",
    "\n",
    "binary_target_data = merge_classes(target_data)"
   ]
  },
  {
   "cell_type": "code",
   "execution_count": 49,
   "metadata": {},
   "outputs": [
    {
     "name": "stdout",
     "output_type": "stream",
     "text": [
      "Value: 0, Count: 540\n",
      "Value: 10, Count: 582\n"
     ]
    }
   ],
   "source": [
    "filtered_target_data = {key: value for key, value in binary_target_data.items() if value in [0, '10']}\n",
    "\n",
    "\n",
    "values_list = list(filtered_target_data.values())\n",
    "value_counts = Counter(values_list)\n",
    "\n",
    "for value, count in value_counts.items():\n",
    "    print(f\"Value: {value}, Count: {count}\")"
   ]
  },
  {
   "cell_type": "code",
   "execution_count": 50,
   "metadata": {},
   "outputs": [
    {
     "name": "stdout",
     "output_type": "stream",
     "text": [
      "Length of X: 1122, Length of y: 1122\n"
     ]
    }
   ],
   "source": [
    "common_keys = set(image_data.keys()) & set(filtered_target_data.keys())\n",
    "\n",
    "# 데이터 정렬\n",
    "filtered_image_data = {key: image_data[key] for key in common_keys}\n",
    "filtered_target_data = {key: filtered_target_data[key] for key in common_keys}\n",
    "\n",
    "# X와 y 생성\n",
    "X = np.array(list(filtered_image_data.values()))\n",
    "y = np.array(list(filtered_target_data.values()))\n",
    "\n",
    "print(f\"Length of X: {len(X)}, Length of y: {len(y)}\")"
   ]
  },
  {
   "cell_type": "code",
   "execution_count": 51,
   "metadata": {},
   "outputs": [],
   "source": [
    "class_mapping = {'0': 0, '10': 1}\n",
    "y = np.array([class_mapping[label] for label in y])\n",
    "X = X / 255.0"
   ]
  },
  {
   "cell_type": "code",
   "execution_count": 52,
   "metadata": {},
   "outputs": [
    {
     "name": "stdout",
     "output_type": "stream",
     "text": [
      "X_train shape: (897, 128, 128, 3), y_train shape: (897,)\n",
      "X_test shape: (225, 128, 128, 3), y_test shape: (225,)\n"
     ]
    }
   ],
   "source": [
    "X_train, X_test, y_train, y_test = train_test_split(X, y, test_size=0.2, random_state=42)\n",
    "\n",
    "print(f\"X_train shape: {X_train.shape}, y_train shape: {y_train.shape}\")\n",
    "print(f\"X_test shape: {X_test.shape}, y_test shape: {y_test.shape}\")"
   ]
  },
  {
   "cell_type": "code",
   "execution_count": 53,
   "metadata": {},
   "outputs": [
    {
     "name": "stdout",
     "output_type": "stream",
     "text": [
      "Model: \"sequential_4\"\n",
      "_________________________________________________________________\n",
      " Layer (type)                Output Shape              Param #   \n",
      "=================================================================\n",
      " conv2d_9 (Conv2D)           (None, 126, 126, 32)      896       \n",
      "                                                                 \n",
      " max_pooling2d_9 (MaxPoolin  (None, 63, 63, 32)        0         \n",
      " g2D)                                                            \n",
      "                                                                 \n",
      " conv2d_10 (Conv2D)          (None, 61, 61, 64)        18496     \n",
      "                                                                 \n",
      " max_pooling2d_10 (MaxPooli  (None, 30, 30, 64)        0         \n",
      " ng2D)                                                           \n",
      "                                                                 \n",
      " conv2d_11 (Conv2D)          (None, 28, 28, 128)       73856     \n",
      "                                                                 \n",
      " max_pooling2d_11 (MaxPooli  (None, 14, 14, 128)       0         \n",
      " ng2D)                                                           \n",
      "                                                                 \n",
      " flatten_3 (Flatten)         (None, 25088)             0         \n",
      "                                                                 \n",
      " dense_8 (Dense)             (None, 128)               3211392   \n",
      "                                                                 \n",
      " dropout_4 (Dropout)         (None, 128)               0         \n",
      "                                                                 \n",
      " dense_9 (Dense)             (None, 1)                 129       \n",
      "                                                                 \n",
      "=================================================================\n",
      "Total params: 3304769 (12.61 MB)\n",
      "Trainable params: 3304769 (12.61 MB)\n",
      "Non-trainable params: 0 (0.00 Byte)\n",
      "_________________________________________________________________\n"
     ]
    }
   ],
   "source": [
    "model = models.Sequential([\n",
    "    layers.Conv2D(32, (3, 3), activation='relu', input_shape=(X.shape[1], X.shape[2], X.shape[3])),\n",
    "    layers.MaxPooling2D((2, 2)),\n",
    "    layers.Conv2D(64, (3, 3), activation='relu'),\n",
    "    layers.MaxPooling2D((2, 2)),\n",
    "    layers.Conv2D(128, (3, 3), activation='relu'),\n",
    "    layers.MaxPooling2D((2, 2)),\n",
    "    layers.Flatten(),\n",
    "    layers.Dense(128, activation='relu'),\n",
    "    layers.Dropout(0.5),\n",
    "    layers.Dense(1, activation='sigmoid')  # 출력층\n",
    "])\n",
    "\n",
    "# 모델 컴파일\n",
    "model.compile(loss='binary_crossentropy', optimizer=Adam(learning_rate=0.0001), metrics=['accuracy'])\n",
    "\n",
    "# 모델 요약\n",
    "model.summary()"
   ]
  },
  {
   "cell_type": "code",
   "execution_count": 54,
   "metadata": {},
   "outputs": [],
   "source": [
    "class_weights = compute_class_weight('balanced', classes=np.unique(y_train), y=y_train)\n",
    "class_weights = dict(enumerate(class_weights))\n",
    "\n",
    "early_stopping = EarlyStopping(\n",
    "    monitor='val_loss',\n",
    "    patience=10,\n",
    "    restore_best_weights=True,\n",
    "    verbose=1\n",
    ")"
   ]
  },
  {
   "cell_type": "code",
   "execution_count": 56,
   "metadata": {},
   "outputs": [
    {
     "name": "stdout",
     "output_type": "stream",
     "text": [
      "Epoch 1/100\n",
      "23/23 [==============================] - 5s 224ms/step - loss: 0.6988 - accuracy: 0.4672 - val_loss: 0.6908 - val_accuracy: 0.5278\n",
      "Epoch 2/100\n",
      "23/23 [==============================] - 5s 201ms/step - loss: 0.6926 - accuracy: 0.5230 - val_loss: 0.6907 - val_accuracy: 0.6500\n",
      "Epoch 3/100\n",
      "23/23 [==============================] - 5s 202ms/step - loss: 0.6922 - accuracy: 0.5286 - val_loss: 0.6862 - val_accuracy: 0.6111\n",
      "Epoch 4/100\n",
      "23/23 [==============================] - 5s 198ms/step - loss: 0.6873 - accuracy: 0.5593 - val_loss: 0.6814 - val_accuracy: 0.6167\n",
      "Epoch 5/100\n",
      "23/23 [==============================] - 5s 199ms/step - loss: 0.6860 - accuracy: 0.5537 - val_loss: 0.6746 - val_accuracy: 0.6389\n",
      "Epoch 6/100\n",
      "23/23 [==============================] - 5s 202ms/step - loss: 0.6832 - accuracy: 0.5384 - val_loss: 0.6668 - val_accuracy: 0.5833\n",
      "Epoch 7/100\n",
      "23/23 [==============================] - 5s 199ms/step - loss: 0.6736 - accuracy: 0.5941 - val_loss: 0.6583 - val_accuracy: 0.5778\n",
      "Epoch 8/100\n",
      "23/23 [==============================] - 5s 201ms/step - loss: 0.6769 - accuracy: 0.5816 - val_loss: 0.6596 - val_accuracy: 0.6611\n",
      "Epoch 9/100\n",
      "23/23 [==============================] - 5s 204ms/step - loss: 0.6641 - accuracy: 0.6234 - val_loss: 0.6374 - val_accuracy: 0.7000\n",
      "Epoch 10/100\n",
      "23/23 [==============================] - 5s 201ms/step - loss: 0.6487 - accuracy: 0.6151 - val_loss: 0.6382 - val_accuracy: 0.5833\n",
      "Epoch 11/100\n",
      "23/23 [==============================] - 5s 198ms/step - loss: 0.6550 - accuracy: 0.5969 - val_loss: 0.6239 - val_accuracy: 0.7167\n",
      "Epoch 12/100\n",
      "23/23 [==============================] - 5s 198ms/step - loss: 0.6363 - accuracy: 0.6388 - val_loss: 0.6088 - val_accuracy: 0.6722\n",
      "Epoch 13/100\n",
      "23/23 [==============================] - 5s 199ms/step - loss: 0.6362 - accuracy: 0.6444 - val_loss: 0.6069 - val_accuracy: 0.7222\n",
      "Epoch 14/100\n",
      "23/23 [==============================] - 5s 198ms/step - loss: 0.6367 - accuracy: 0.6402 - val_loss: 0.6123 - val_accuracy: 0.7222\n",
      "Epoch 15/100\n",
      "23/23 [==============================] - 5s 203ms/step - loss: 0.6103 - accuracy: 0.6722 - val_loss: 0.6065 - val_accuracy: 0.6833\n",
      "Epoch 16/100\n",
      "23/23 [==============================] - 5s 201ms/step - loss: 0.6119 - accuracy: 0.6639 - val_loss: 0.5964 - val_accuracy: 0.7111\n",
      "Epoch 17/100\n",
      "23/23 [==============================] - 5s 200ms/step - loss: 0.6322 - accuracy: 0.6416 - val_loss: 0.6031 - val_accuracy: 0.7222\n",
      "Epoch 18/100\n",
      "23/23 [==============================] - 5s 198ms/step - loss: 0.5886 - accuracy: 0.7015 - val_loss: 0.5782 - val_accuracy: 0.7278\n",
      "Epoch 19/100\n",
      "23/23 [==============================] - 5s 203ms/step - loss: 0.6012 - accuracy: 0.6625 - val_loss: 0.5629 - val_accuracy: 0.6944\n",
      "Epoch 20/100\n",
      "23/23 [==============================] - 5s 200ms/step - loss: 0.6053 - accuracy: 0.6722 - val_loss: 0.5777 - val_accuracy: 0.6667\n",
      "Epoch 21/100\n",
      "23/23 [==============================] - 5s 200ms/step - loss: 0.5926 - accuracy: 0.6876 - val_loss: 0.5946 - val_accuracy: 0.6778\n",
      "Epoch 22/100\n",
      "23/23 [==============================] - 5s 203ms/step - loss: 0.5733 - accuracy: 0.7113 - val_loss: 0.5833 - val_accuracy: 0.7056\n",
      "Epoch 23/100\n",
      "23/23 [==============================] - 5s 198ms/step - loss: 0.5878 - accuracy: 0.7127 - val_loss: 0.6173 - val_accuracy: 0.6444\n",
      "Epoch 24/100\n",
      "23/23 [==============================] - 5s 202ms/step - loss: 0.5793 - accuracy: 0.6904 - val_loss: 0.5620 - val_accuracy: 0.7111\n",
      "Epoch 25/100\n",
      "23/23 [==============================] - 5s 197ms/step - loss: 0.5729 - accuracy: 0.7127 - val_loss: 0.5376 - val_accuracy: 0.7278\n",
      "Epoch 26/100\n",
      "23/23 [==============================] - 5s 202ms/step - loss: 0.5583 - accuracy: 0.7183 - val_loss: 0.5275 - val_accuracy: 0.7500\n",
      "Epoch 27/100\n",
      "23/23 [==============================] - 5s 199ms/step - loss: 0.5876 - accuracy: 0.6946 - val_loss: 0.5704 - val_accuracy: 0.7056\n",
      "Epoch 28/100\n",
      "23/23 [==============================] - 5s 202ms/step - loss: 0.5709 - accuracy: 0.7155 - val_loss: 0.5351 - val_accuracy: 0.7278\n",
      "Epoch 29/100\n",
      "23/23 [==============================] - 5s 218ms/step - loss: 0.5421 - accuracy: 0.7503 - val_loss: 0.5209 - val_accuracy: 0.7333\n",
      "Epoch 30/100\n",
      "23/23 [==============================] - 5s 210ms/step - loss: 0.5508 - accuracy: 0.7280 - val_loss: 0.5228 - val_accuracy: 0.7611\n",
      "Epoch 31/100\n",
      "23/23 [==============================] - 5s 214ms/step - loss: 0.5404 - accuracy: 0.7573 - val_loss: 0.5947 - val_accuracy: 0.6667\n",
      "Epoch 32/100\n",
      "23/23 [==============================] - 5s 224ms/step - loss: 0.5645 - accuracy: 0.7183 - val_loss: 0.5436 - val_accuracy: 0.7278\n",
      "Epoch 33/100\n",
      "23/23 [==============================] - 5s 234ms/step - loss: 0.5299 - accuracy: 0.7378 - val_loss: 0.5500 - val_accuracy: 0.6889\n",
      "Epoch 34/100\n",
      "23/23 [==============================] - 5s 217ms/step - loss: 0.5386 - accuracy: 0.7462 - val_loss: 0.5076 - val_accuracy: 0.7722\n",
      "Epoch 35/100\n",
      "23/23 [==============================] - 5s 233ms/step - loss: 0.5306 - accuracy: 0.7503 - val_loss: 0.5322 - val_accuracy: 0.7278\n",
      "Epoch 36/100\n",
      "23/23 [==============================] - 5s 226ms/step - loss: 0.5161 - accuracy: 0.7713 - val_loss: 0.4982 - val_accuracy: 0.7778\n",
      "Epoch 37/100\n",
      "23/23 [==============================] - 5s 205ms/step - loss: 0.5303 - accuracy: 0.7462 - val_loss: 0.5163 - val_accuracy: 0.7333\n",
      "Epoch 38/100\n",
      "23/23 [==============================] - 5s 216ms/step - loss: 0.5431 - accuracy: 0.7378 - val_loss: 0.5132 - val_accuracy: 0.7556\n",
      "Epoch 39/100\n",
      "23/23 [==============================] - 5s 203ms/step - loss: 0.5439 - accuracy: 0.7378 - val_loss: 0.5334 - val_accuracy: 0.7333\n",
      "Epoch 40/100\n",
      "23/23 [==============================] - 5s 205ms/step - loss: 0.5363 - accuracy: 0.7448 - val_loss: 0.5442 - val_accuracy: 0.7000\n",
      "Epoch 41/100\n",
      "23/23 [==============================] - 5s 205ms/step - loss: 0.5123 - accuracy: 0.7796 - val_loss: 0.4778 - val_accuracy: 0.8056\n",
      "Epoch 42/100\n",
      "23/23 [==============================] - 5s 202ms/step - loss: 0.5227 - accuracy: 0.7490 - val_loss: 0.4841 - val_accuracy: 0.7889\n",
      "Epoch 43/100\n",
      "23/23 [==============================] - 5s 205ms/step - loss: 0.5235 - accuracy: 0.7587 - val_loss: 0.4983 - val_accuracy: 0.7444\n",
      "Epoch 44/100\n",
      "23/23 [==============================] - 5s 203ms/step - loss: 0.5330 - accuracy: 0.7364 - val_loss: 0.5009 - val_accuracy: 0.7500\n",
      "Epoch 45/100\n",
      "23/23 [==============================] - 5s 199ms/step - loss: 0.5257 - accuracy: 0.7545 - val_loss: 0.5213 - val_accuracy: 0.7333\n",
      "Epoch 46/100\n",
      "23/23 [==============================] - 5s 203ms/step - loss: 0.4931 - accuracy: 0.7796 - val_loss: 0.4740 - val_accuracy: 0.7833\n",
      "Epoch 47/100\n",
      "23/23 [==============================] - 5s 200ms/step - loss: 0.4889 - accuracy: 0.7768 - val_loss: 0.4712 - val_accuracy: 0.7778\n",
      "Epoch 48/100\n",
      "23/23 [==============================] - 5s 201ms/step - loss: 0.5225 - accuracy: 0.7378 - val_loss: 0.5214 - val_accuracy: 0.7167\n",
      "Epoch 49/100\n",
      "23/23 [==============================] - 5s 202ms/step - loss: 0.5519 - accuracy: 0.7280 - val_loss: 0.4925 - val_accuracy: 0.7667\n",
      "Epoch 50/100\n",
      "23/23 [==============================] - 5s 204ms/step - loss: 0.4764 - accuracy: 0.7908 - val_loss: 0.4558 - val_accuracy: 0.7944\n",
      "Epoch 51/100\n",
      "23/23 [==============================] - 5s 200ms/step - loss: 0.4709 - accuracy: 0.7922 - val_loss: 0.4700 - val_accuracy: 0.7889\n",
      "Epoch 52/100\n",
      "23/23 [==============================] - 5s 211ms/step - loss: 0.4715 - accuracy: 0.7908 - val_loss: 0.4535 - val_accuracy: 0.7833\n",
      "Epoch 53/100\n",
      "23/23 [==============================] - 5s 216ms/step - loss: 0.4872 - accuracy: 0.7768 - val_loss: 0.4652 - val_accuracy: 0.7944\n",
      "Epoch 54/100\n",
      "23/23 [==============================] - 5s 214ms/step - loss: 0.4606 - accuracy: 0.7880 - val_loss: 0.4417 - val_accuracy: 0.8056\n",
      "Epoch 55/100\n",
      "23/23 [==============================] - 5s 223ms/step - loss: 0.4472 - accuracy: 0.8047 - val_loss: 0.4507 - val_accuracy: 0.7778\n",
      "Epoch 56/100\n",
      "23/23 [==============================] - 6s 246ms/step - loss: 0.4496 - accuracy: 0.8103 - val_loss: 0.4271 - val_accuracy: 0.8167\n",
      "Epoch 57/100\n",
      "23/23 [==============================] - 5s 236ms/step - loss: 0.4729 - accuracy: 0.7950 - val_loss: 0.4335 - val_accuracy: 0.8111\n",
      "Epoch 58/100\n",
      "23/23 [==============================] - 5s 234ms/step - loss: 0.4346 - accuracy: 0.8201 - val_loss: 0.4217 - val_accuracy: 0.8222\n",
      "Epoch 59/100\n",
      "23/23 [==============================] - 5s 210ms/step - loss: 0.4350 - accuracy: 0.8020 - val_loss: 0.4523 - val_accuracy: 0.8111\n",
      "Epoch 60/100\n",
      "23/23 [==============================] - 5s 204ms/step - loss: 0.4652 - accuracy: 0.7880 - val_loss: 0.6275 - val_accuracy: 0.6167\n",
      "Epoch 61/100\n",
      "23/23 [==============================] - 5s 218ms/step - loss: 0.4832 - accuracy: 0.7657 - val_loss: 0.4271 - val_accuracy: 0.8222\n",
      "Epoch 62/100\n",
      "23/23 [==============================] - 5s 233ms/step - loss: 0.4375 - accuracy: 0.7950 - val_loss: 0.4763 - val_accuracy: 0.7611\n",
      "Epoch 63/100\n",
      "23/23 [==============================] - 6s 255ms/step - loss: 0.4382 - accuracy: 0.7950 - val_loss: 0.4354 - val_accuracy: 0.8056\n",
      "Epoch 64/100\n",
      "23/23 [==============================] - 5s 209ms/step - loss: 0.4239 - accuracy: 0.8159 - val_loss: 0.4059 - val_accuracy: 0.8333\n",
      "Epoch 65/100\n",
      "23/23 [==============================] - 5s 215ms/step - loss: 0.4058 - accuracy: 0.8424 - val_loss: 0.4037 - val_accuracy: 0.8333\n",
      "Epoch 66/100\n",
      "23/23 [==============================] - 5s 206ms/step - loss: 0.4278 - accuracy: 0.8103 - val_loss: 0.4289 - val_accuracy: 0.7889\n",
      "Epoch 67/100\n",
      "23/23 [==============================] - 5s 203ms/step - loss: 0.4435 - accuracy: 0.7964 - val_loss: 0.4187 - val_accuracy: 0.8167\n",
      "Epoch 68/100\n",
      "23/23 [==============================] - 5s 200ms/step - loss: 0.4444 - accuracy: 0.8061 - val_loss: 0.4179 - val_accuracy: 0.8333\n",
      "Epoch 69/100\n",
      "23/23 [==============================] - 5s 218ms/step - loss: 0.4095 - accuracy: 0.8201 - val_loss: 0.3991 - val_accuracy: 0.8333\n",
      "Epoch 70/100\n",
      "23/23 [==============================] - 5s 201ms/step - loss: 0.4065 - accuracy: 0.8215 - val_loss: 0.4192 - val_accuracy: 0.8278\n",
      "Epoch 71/100\n",
      "23/23 [==============================] - 5s 197ms/step - loss: 0.4113 - accuracy: 0.8117 - val_loss: 0.4246 - val_accuracy: 0.8000\n",
      "Epoch 72/100\n",
      "23/23 [==============================] - 5s 214ms/step - loss: 0.3978 - accuracy: 0.8382 - val_loss: 0.4040 - val_accuracy: 0.8333\n",
      "Epoch 73/100\n",
      "23/23 [==============================] - 5s 197ms/step - loss: 0.3878 - accuracy: 0.8354 - val_loss: 0.3962 - val_accuracy: 0.8389\n",
      "Epoch 74/100\n",
      "23/23 [==============================] - 5s 199ms/step - loss: 0.4057 - accuracy: 0.8312 - val_loss: 0.3856 - val_accuracy: 0.8278\n",
      "Epoch 75/100\n",
      "23/23 [==============================] - 5s 199ms/step - loss: 0.3988 - accuracy: 0.8438 - val_loss: 0.3866 - val_accuracy: 0.8333\n",
      "Epoch 76/100\n",
      "23/23 [==============================] - 5s 199ms/step - loss: 0.4017 - accuracy: 0.8312 - val_loss: 0.4099 - val_accuracy: 0.8333\n",
      "Epoch 77/100\n",
      "23/23 [==============================] - 5s 199ms/step - loss: 0.4046 - accuracy: 0.8243 - val_loss: 0.3926 - val_accuracy: 0.8333\n",
      "Epoch 78/100\n",
      "23/23 [==============================] - 5s 201ms/step - loss: 0.3668 - accuracy: 0.8396 - val_loss: 0.4004 - val_accuracy: 0.8222\n",
      "Epoch 79/100\n",
      "23/23 [==============================] - 5s 197ms/step - loss: 0.3786 - accuracy: 0.8508 - val_loss: 0.3835 - val_accuracy: 0.8444\n",
      "Epoch 80/100\n",
      "23/23 [==============================] - 5s 202ms/step - loss: 0.3958 - accuracy: 0.8312 - val_loss: 0.3787 - val_accuracy: 0.8389\n",
      "Epoch 81/100\n",
      "23/23 [==============================] - 5s 198ms/step - loss: 0.4507 - accuracy: 0.7964 - val_loss: 0.5129 - val_accuracy: 0.7278\n",
      "Epoch 82/100\n",
      "23/23 [==============================] - 5s 200ms/step - loss: 0.3972 - accuracy: 0.8368 - val_loss: 0.4175 - val_accuracy: 0.8111\n",
      "Epoch 83/100\n",
      "23/23 [==============================] - 5s 201ms/step - loss: 0.3690 - accuracy: 0.8410 - val_loss: 0.3878 - val_accuracy: 0.8444\n",
      "Epoch 84/100\n",
      "23/23 [==============================] - 5s 198ms/step - loss: 0.3977 - accuracy: 0.8257 - val_loss: 0.3926 - val_accuracy: 0.8333\n",
      "Epoch 85/100\n",
      "23/23 [==============================] - 5s 205ms/step - loss: 0.3734 - accuracy: 0.8438 - val_loss: 0.4074 - val_accuracy: 0.8389\n",
      "Epoch 86/100\n",
      "23/23 [==============================] - 5s 205ms/step - loss: 0.3647 - accuracy: 0.8452 - val_loss: 0.4138 - val_accuracy: 0.8222\n",
      "Epoch 87/100\n",
      "23/23 [==============================] - 5s 203ms/step - loss: 0.3697 - accuracy: 0.8326 - val_loss: 0.3728 - val_accuracy: 0.8444\n",
      "Epoch 88/100\n",
      "23/23 [==============================] - 5s 204ms/step - loss: 0.3700 - accuracy: 0.8382 - val_loss: 0.4045 - val_accuracy: 0.8167\n",
      "Epoch 89/100\n",
      "23/23 [==============================] - 5s 209ms/step - loss: 0.3553 - accuracy: 0.8605 - val_loss: 0.3702 - val_accuracy: 0.8556\n",
      "Epoch 90/100\n",
      "23/23 [==============================] - 5s 200ms/step - loss: 0.3731 - accuracy: 0.8480 - val_loss: 0.3948 - val_accuracy: 0.8222\n",
      "Epoch 91/100\n",
      "23/23 [==============================] - 5s 198ms/step - loss: 0.3912 - accuracy: 0.8354 - val_loss: 0.3907 - val_accuracy: 0.8556\n",
      "Epoch 92/100\n",
      "23/23 [==============================] - 5s 201ms/step - loss: 0.3583 - accuracy: 0.8480 - val_loss: 0.3740 - val_accuracy: 0.8444\n",
      "Epoch 93/100\n",
      "23/23 [==============================] - 5s 198ms/step - loss: 0.3638 - accuracy: 0.8522 - val_loss: 0.3912 - val_accuracy: 0.8278\n",
      "Epoch 94/100\n",
      "23/23 [==============================] - 5s 200ms/step - loss: 0.3659 - accuracy: 0.8424 - val_loss: 0.3943 - val_accuracy: 0.8278\n",
      "Epoch 95/100\n",
      "23/23 [==============================] - 5s 203ms/step - loss: 0.3627 - accuracy: 0.8410 - val_loss: 0.3788 - val_accuracy: 0.8444\n",
      "Epoch 96/100\n",
      "23/23 [==============================] - 5s 204ms/step - loss: 0.3436 - accuracy: 0.8633 - val_loss: 0.3764 - val_accuracy: 0.8444\n",
      "Epoch 97/100\n",
      "23/23 [==============================] - 5s 211ms/step - loss: 0.3388 - accuracy: 0.8577 - val_loss: 0.3839 - val_accuracy: 0.8500\n",
      "Epoch 98/100\n",
      "23/23 [==============================] - 5s 210ms/step - loss: 0.3461 - accuracy: 0.8563 - val_loss: 0.3803 - val_accuracy: 0.8278\n",
      "Epoch 99/100\n",
      "23/23 [==============================] - ETA: 0s - loss: 0.3381 - accuracy: 0.8522Restoring model weights from the end of the best epoch: 89.\n",
      "23/23 [==============================] - 5s 202ms/step - loss: 0.3381 - accuracy: 0.8522 - val_loss: 0.3810 - val_accuracy: 0.8222\n",
      "Epoch 99: early stopping\n"
     ]
    }
   ],
   "source": [
    "# 모델 학습\n",
    "history = model.fit(\n",
    "    X_train, y_train,\n",
    "    validation_split=0.2,\n",
    "    epochs=100,\n",
    "    batch_size=32,\n",
    "    class_weight = class_weights,\n",
    "    callbacks=[early_stopping]\n",
    ")"
   ]
  },
  {
   "cell_type": "code",
   "execution_count": 57,
   "metadata": {},
   "outputs": [
    {
     "name": "stdout",
     "output_type": "stream",
     "text": [
      "8/8 - 0s - loss: 0.4896 - accuracy: 0.8089 - 349ms/epoch - 44ms/step\n",
      "Test Loss: 0.48964911699295044\n",
      "Test Accuracy: 0.8088889122009277\n"
     ]
    }
   ],
   "source": [
    "test_loss, test_accuracy = model.evaluate(X_test, y_test, verbose=2)\n",
    "\n",
    "print(f\"Test Loss: {test_loss}\")\n",
    "print(f\"Test Accuracy: {test_accuracy}\")"
   ]
  },
  {
   "cell_type": "markdown",
   "metadata": {},
   "source": [
    "### 사전학습모델 사용 (EfficientNetB0)"
   ]
  },
  {
   "cell_type": "code",
   "execution_count": 40,
   "metadata": {},
   "outputs": [],
   "source": [
    "from tensorflow.keras.applications import EfficientNetB0\n",
    "\n",
    "base_model = EfficientNetB0(weights='imagenet', include_top=False, \n",
    "                            input_shape=(X_train.shape[1],X_train.shape[2],X_train.shape[3]))\n",
    "base_model.trainable = False"
   ]
  },
  {
   "cell_type": "code",
   "execution_count": 41,
   "metadata": {},
   "outputs": [],
   "source": [
    "# 모델 설계\n",
    "model = models.Sequential([\n",
    "    base_model,\n",
    "    layers.GlobalAveragePooling2D(),\n",
    "    layers.Dense(128, activation='relu'),\n",
    "    layers.Dropout(0.5),\n",
    "    layers.Dense(1, activation='sigmoid')\n",
    "])\n",
    "\n",
    "# 모델 컴파일\n",
    "model.compile(loss='binary_crossentropy', \n",
    "              optimizer=Adam(learning_rate=0.001), \n",
    "              metrics=['accuracy'])"
   ]
  },
  {
   "cell_type": "code",
   "execution_count": 42,
   "metadata": {},
   "outputs": [],
   "source": [
    "# 데이터 정규화\n",
    "X_train = X_train / 255.0\n",
    "X_test = X_test / 255.0\n",
    "y_train = np.where(y_train > 0, 1, 0)\n",
    "y_test = np.where(y_test > 0, 1, 0)"
   ]
  },
  {
   "cell_type": "code",
   "execution_count": null,
   "metadata": {},
   "outputs": [
    {
     "name": "stdout",
     "output_type": "stream",
     "text": [
      "Epoch 1/20\n",
      "29/29 [==============================] - 14s 273ms/step - loss: 0.7268 - accuracy: 0.4771 - val_loss: 0.6955 - val_accuracy: 0.5067\n",
      "Epoch 2/20\n",
      "29/29 [==============================] - 7s 234ms/step - loss: 0.7025 - accuracy: 0.5006 - val_loss: 0.7027 - val_accuracy: 0.4933\n",
      "Epoch 3/20\n",
      "29/29 [==============================] - 7s 227ms/step - loss: 0.7009 - accuracy: 0.5195 - val_loss: 0.6994 - val_accuracy: 0.4933\n",
      "Epoch 4/20\n",
      "29/29 [==============================] - 6s 222ms/step - loss: 0.7007 - accuracy: 0.5128 - val_loss: 0.6958 - val_accuracy: 0.4933\n",
      "Epoch 5/20\n",
      "29/29 [==============================] - 6s 224ms/step - loss: 0.6955 - accuracy: 0.5173 - val_loss: 0.6933 - val_accuracy: 0.4933\n",
      "Epoch 6/20\n",
      "29/29 [==============================] - 6s 225ms/step - loss: 0.6973 - accuracy: 0.4883 - val_loss: 0.6940 - val_accuracy: 0.4933\n",
      "Epoch 7/20\n",
      "29/29 [==============================] - 7s 230ms/step - loss: 0.6912 - accuracy: 0.5262 - val_loss: 0.6946 - val_accuracy: 0.4933\n",
      "Epoch 8/20\n",
      "29/29 [==============================] - 7s 238ms/step - loss: 0.6916 - accuracy: 0.5251 - val_loss: 0.6948 - val_accuracy: 0.4933\n",
      "Epoch 9/20\n",
      "29/29 [==============================] - 7s 232ms/step - loss: 0.6908 - accuracy: 0.5251 - val_loss: 0.6963 - val_accuracy: 0.4933\n",
      "Epoch 10/20\n",
      "29/29 [==============================] - 7s 234ms/step - loss: 0.6919 - accuracy: 0.5251 - val_loss: 0.6949 - val_accuracy: 0.4933\n",
      "Epoch 11/20\n",
      "29/29 [==============================] - 7s 241ms/step - loss: 0.6917 - accuracy: 0.5251 - val_loss: 0.6956 - val_accuracy: 0.4933\n",
      "Epoch 12/20\n",
      "23/29 [======================>.......] - ETA: 1s - loss: 0.6925 - accuracy: 0.5367"
     ]
    },
    {
     "ename": "KeyboardInterrupt",
     "evalue": "",
     "output_type": "error",
     "traceback": [
      "\u001b[1;31m---------------------------------------------------------------------------\u001b[0m",
      "\u001b[1;31mKeyboardInterrupt\u001b[0m                         Traceback (most recent call last)",
      "Cell \u001b[1;32mIn[43], line 2\u001b[0m\n\u001b[0;32m      1\u001b[0m \u001b[38;5;66;03m# 모델 학습\u001b[39;00m\n\u001b[1;32m----> 2\u001b[0m history \u001b[38;5;241m=\u001b[39m \u001b[43mmodel\u001b[49m\u001b[38;5;241;43m.\u001b[39;49m\u001b[43mfit\u001b[49m\u001b[43m(\u001b[49m\n\u001b[0;32m      3\u001b[0m \u001b[43m    \u001b[49m\u001b[43mX_train\u001b[49m\u001b[43m,\u001b[49m\u001b[43m \u001b[49m\u001b[43my_train\u001b[49m\u001b[43m,\u001b[49m\n\u001b[0;32m      4\u001b[0m \u001b[43m    \u001b[49m\u001b[43mvalidation_data\u001b[49m\u001b[38;5;241;43m=\u001b[39;49m\u001b[43m(\u001b[49m\u001b[43mX_test\u001b[49m\u001b[43m,\u001b[49m\u001b[43m \u001b[49m\u001b[43my_test\u001b[49m\u001b[43m)\u001b[49m\u001b[43m,\u001b[49m\n\u001b[0;32m      5\u001b[0m \u001b[43m    \u001b[49m\u001b[43mepochs\u001b[49m\u001b[38;5;241;43m=\u001b[39;49m\u001b[38;5;241;43m20\u001b[39;49m\u001b[43m,\u001b[49m\n\u001b[0;32m      6\u001b[0m \u001b[43m    \u001b[49m\u001b[43mbatch_size\u001b[49m\u001b[38;5;241;43m=\u001b[39;49m\u001b[38;5;241;43m32\u001b[39;49m\u001b[43m,\u001b[49m\n\u001b[0;32m      7\u001b[0m \u001b[43m    \u001b[49m\u001b[38;5;66;43;03m# class_weight = class_weights\u001b[39;49;00m\n\u001b[0;32m      8\u001b[0m \u001b[43m    \u001b[49m\u001b[38;5;66;43;03m# callbacks=[lr_scheduler]\u001b[39;49;00m\n\u001b[0;32m      9\u001b[0m \u001b[43m)\u001b[49m\n",
      "File \u001b[1;32mc:\\Users\\human\\.conda\\envs\\human-dl-env2\\lib\\site-packages\\keras\\src\\utils\\traceback_utils.py:65\u001b[0m, in \u001b[0;36mfilter_traceback.<locals>.error_handler\u001b[1;34m(*args, **kwargs)\u001b[0m\n\u001b[0;32m     63\u001b[0m filtered_tb \u001b[38;5;241m=\u001b[39m \u001b[38;5;28;01mNone\u001b[39;00m\n\u001b[0;32m     64\u001b[0m \u001b[38;5;28;01mtry\u001b[39;00m:\n\u001b[1;32m---> 65\u001b[0m     \u001b[38;5;28;01mreturn\u001b[39;00m fn(\u001b[38;5;241m*\u001b[39margs, \u001b[38;5;241m*\u001b[39m\u001b[38;5;241m*\u001b[39mkwargs)\n\u001b[0;32m     66\u001b[0m \u001b[38;5;28;01mexcept\u001b[39;00m \u001b[38;5;167;01mException\u001b[39;00m \u001b[38;5;28;01mas\u001b[39;00m e:\n\u001b[0;32m     67\u001b[0m     filtered_tb \u001b[38;5;241m=\u001b[39m _process_traceback_frames(e\u001b[38;5;241m.\u001b[39m__traceback__)\n",
      "File \u001b[1;32mc:\\Users\\human\\.conda\\envs\\human-dl-env2\\lib\\site-packages\\keras\\src\\engine\\training.py:1813\u001b[0m, in \u001b[0;36mModel.fit\u001b[1;34m(self, x, y, batch_size, epochs, verbose, callbacks, validation_split, validation_data, shuffle, class_weight, sample_weight, initial_epoch, steps_per_epoch, validation_steps, validation_batch_size, validation_freq, max_queue_size, workers, use_multiprocessing)\u001b[0m\n\u001b[0;32m   1811\u001b[0m logs \u001b[38;5;241m=\u001b[39m tmp_logs\n\u001b[0;32m   1812\u001b[0m end_step \u001b[38;5;241m=\u001b[39m step \u001b[38;5;241m+\u001b[39m data_handler\u001b[38;5;241m.\u001b[39mstep_increment\n\u001b[1;32m-> 1813\u001b[0m \u001b[43mcallbacks\u001b[49m\u001b[38;5;241;43m.\u001b[39;49m\u001b[43mon_train_batch_end\u001b[49m\u001b[43m(\u001b[49m\u001b[43mend_step\u001b[49m\u001b[43m,\u001b[49m\u001b[43m \u001b[49m\u001b[43mlogs\u001b[49m\u001b[43m)\u001b[49m\n\u001b[0;32m   1814\u001b[0m \u001b[38;5;28;01mif\u001b[39;00m \u001b[38;5;28mself\u001b[39m\u001b[38;5;241m.\u001b[39mstop_training:\n\u001b[0;32m   1815\u001b[0m     \u001b[38;5;28;01mbreak\u001b[39;00m\n",
      "File \u001b[1;32mc:\\Users\\human\\.conda\\envs\\human-dl-env2\\lib\\site-packages\\keras\\src\\callbacks.py:475\u001b[0m, in \u001b[0;36mCallbackList.on_train_batch_end\u001b[1;34m(self, batch, logs)\u001b[0m\n\u001b[0;32m    468\u001b[0m \u001b[38;5;250m\u001b[39m\u001b[38;5;124;03m\"\"\"Calls the `on_train_batch_end` methods of its callbacks.\u001b[39;00m\n\u001b[0;32m    469\u001b[0m \n\u001b[0;32m    470\u001b[0m \u001b[38;5;124;03mArgs:\u001b[39;00m\n\u001b[0;32m    471\u001b[0m \u001b[38;5;124;03m    batch: Integer, index of batch within the current epoch.\u001b[39;00m\n\u001b[0;32m    472\u001b[0m \u001b[38;5;124;03m    logs: Dict. Aggregated metric results up until this batch.\u001b[39;00m\n\u001b[0;32m    473\u001b[0m \u001b[38;5;124;03m\"\"\"\u001b[39;00m\n\u001b[0;32m    474\u001b[0m \u001b[38;5;28;01mif\u001b[39;00m \u001b[38;5;28mself\u001b[39m\u001b[38;5;241m.\u001b[39m_should_call_train_batch_hooks:\n\u001b[1;32m--> 475\u001b[0m     \u001b[38;5;28;43mself\u001b[39;49m\u001b[38;5;241;43m.\u001b[39;49m\u001b[43m_call_batch_hook\u001b[49m\u001b[43m(\u001b[49m\u001b[43mModeKeys\u001b[49m\u001b[38;5;241;43m.\u001b[39;49m\u001b[43mTRAIN\u001b[49m\u001b[43m,\u001b[49m\u001b[43m \u001b[49m\u001b[38;5;124;43m\"\u001b[39;49m\u001b[38;5;124;43mend\u001b[39;49m\u001b[38;5;124;43m\"\u001b[39;49m\u001b[43m,\u001b[49m\u001b[43m \u001b[49m\u001b[43mbatch\u001b[49m\u001b[43m,\u001b[49m\u001b[43m \u001b[49m\u001b[43mlogs\u001b[49m\u001b[38;5;241;43m=\u001b[39;49m\u001b[43mlogs\u001b[49m\u001b[43m)\u001b[49m\n",
      "File \u001b[1;32mc:\\Users\\human\\.conda\\envs\\human-dl-env2\\lib\\site-packages\\keras\\src\\callbacks.py:322\u001b[0m, in \u001b[0;36mCallbackList._call_batch_hook\u001b[1;34m(self, mode, hook, batch, logs)\u001b[0m\n\u001b[0;32m    320\u001b[0m     \u001b[38;5;28mself\u001b[39m\u001b[38;5;241m.\u001b[39m_call_batch_begin_hook(mode, batch, logs)\n\u001b[0;32m    321\u001b[0m \u001b[38;5;28;01melif\u001b[39;00m hook \u001b[38;5;241m==\u001b[39m \u001b[38;5;124m\"\u001b[39m\u001b[38;5;124mend\u001b[39m\u001b[38;5;124m\"\u001b[39m:\n\u001b[1;32m--> 322\u001b[0m     \u001b[38;5;28;43mself\u001b[39;49m\u001b[38;5;241;43m.\u001b[39;49m\u001b[43m_call_batch_end_hook\u001b[49m\u001b[43m(\u001b[49m\u001b[43mmode\u001b[49m\u001b[43m,\u001b[49m\u001b[43m \u001b[49m\u001b[43mbatch\u001b[49m\u001b[43m,\u001b[49m\u001b[43m \u001b[49m\u001b[43mlogs\u001b[49m\u001b[43m)\u001b[49m\n\u001b[0;32m    323\u001b[0m \u001b[38;5;28;01melse\u001b[39;00m:\n\u001b[0;32m    324\u001b[0m     \u001b[38;5;28;01mraise\u001b[39;00m \u001b[38;5;167;01mValueError\u001b[39;00m(\n\u001b[0;32m    325\u001b[0m         \u001b[38;5;124mf\u001b[39m\u001b[38;5;124m\"\u001b[39m\u001b[38;5;124mUnrecognized hook: \u001b[39m\u001b[38;5;132;01m{\u001b[39;00mhook\u001b[38;5;132;01m}\u001b[39;00m\u001b[38;5;124m. \u001b[39m\u001b[38;5;124m\"\u001b[39m\n\u001b[0;32m    326\u001b[0m         \u001b[38;5;124m'\u001b[39m\u001b[38;5;124mExpected values are [\u001b[39m\u001b[38;5;124m\"\u001b[39m\u001b[38;5;124mbegin\u001b[39m\u001b[38;5;124m\"\u001b[39m\u001b[38;5;124m, \u001b[39m\u001b[38;5;124m\"\u001b[39m\u001b[38;5;124mend\u001b[39m\u001b[38;5;124m\"\u001b[39m\u001b[38;5;124m]\u001b[39m\u001b[38;5;124m'\u001b[39m\n\u001b[0;32m    327\u001b[0m     )\n",
      "File \u001b[1;32mc:\\Users\\human\\.conda\\envs\\human-dl-env2\\lib\\site-packages\\keras\\src\\callbacks.py:345\u001b[0m, in \u001b[0;36mCallbackList._call_batch_end_hook\u001b[1;34m(self, mode, batch, logs)\u001b[0m\n\u001b[0;32m    342\u001b[0m     batch_time \u001b[38;5;241m=\u001b[39m time\u001b[38;5;241m.\u001b[39mtime() \u001b[38;5;241m-\u001b[39m \u001b[38;5;28mself\u001b[39m\u001b[38;5;241m.\u001b[39m_batch_start_time\n\u001b[0;32m    343\u001b[0m     \u001b[38;5;28mself\u001b[39m\u001b[38;5;241m.\u001b[39m_batch_times\u001b[38;5;241m.\u001b[39mappend(batch_time)\n\u001b[1;32m--> 345\u001b[0m \u001b[38;5;28;43mself\u001b[39;49m\u001b[38;5;241;43m.\u001b[39;49m\u001b[43m_call_batch_hook_helper\u001b[49m\u001b[43m(\u001b[49m\u001b[43mhook_name\u001b[49m\u001b[43m,\u001b[49m\u001b[43m \u001b[49m\u001b[43mbatch\u001b[49m\u001b[43m,\u001b[49m\u001b[43m \u001b[49m\u001b[43mlogs\u001b[49m\u001b[43m)\u001b[49m\n\u001b[0;32m    347\u001b[0m \u001b[38;5;28;01mif\u001b[39;00m \u001b[38;5;28mlen\u001b[39m(\u001b[38;5;28mself\u001b[39m\u001b[38;5;241m.\u001b[39m_batch_times) \u001b[38;5;241m>\u001b[39m\u001b[38;5;241m=\u001b[39m \u001b[38;5;28mself\u001b[39m\u001b[38;5;241m.\u001b[39m_num_batches_for_timing_check:\n\u001b[0;32m    348\u001b[0m     end_hook_name \u001b[38;5;241m=\u001b[39m hook_name\n",
      "File \u001b[1;32mc:\\Users\\human\\.conda\\envs\\human-dl-env2\\lib\\site-packages\\keras\\src\\callbacks.py:393\u001b[0m, in \u001b[0;36mCallbackList._call_batch_hook_helper\u001b[1;34m(self, hook_name, batch, logs)\u001b[0m\n\u001b[0;32m    391\u001b[0m \u001b[38;5;28;01mfor\u001b[39;00m callback \u001b[38;5;129;01min\u001b[39;00m \u001b[38;5;28mself\u001b[39m\u001b[38;5;241m.\u001b[39mcallbacks:\n\u001b[0;32m    392\u001b[0m     hook \u001b[38;5;241m=\u001b[39m \u001b[38;5;28mgetattr\u001b[39m(callback, hook_name)\n\u001b[1;32m--> 393\u001b[0m     \u001b[43mhook\u001b[49m\u001b[43m(\u001b[49m\u001b[43mbatch\u001b[49m\u001b[43m,\u001b[49m\u001b[43m \u001b[49m\u001b[43mlogs\u001b[49m\u001b[43m)\u001b[49m\n\u001b[0;32m    395\u001b[0m \u001b[38;5;28;01mif\u001b[39;00m \u001b[38;5;28mself\u001b[39m\u001b[38;5;241m.\u001b[39m_check_timing:\n\u001b[0;32m    396\u001b[0m     \u001b[38;5;28;01mif\u001b[39;00m hook_name \u001b[38;5;129;01mnot\u001b[39;00m \u001b[38;5;129;01min\u001b[39;00m \u001b[38;5;28mself\u001b[39m\u001b[38;5;241m.\u001b[39m_hook_times:\n",
      "File \u001b[1;32mc:\\Users\\human\\.conda\\envs\\human-dl-env2\\lib\\site-packages\\keras\\src\\callbacks.py:1093\u001b[0m, in \u001b[0;36mProgbarLogger.on_train_batch_end\u001b[1;34m(self, batch, logs)\u001b[0m\n\u001b[0;32m   1092\u001b[0m \u001b[38;5;28;01mdef\u001b[39;00m \u001b[38;5;21mon_train_batch_end\u001b[39m(\u001b[38;5;28mself\u001b[39m, batch, logs\u001b[38;5;241m=\u001b[39m\u001b[38;5;28;01mNone\u001b[39;00m):\n\u001b[1;32m-> 1093\u001b[0m     \u001b[38;5;28;43mself\u001b[39;49m\u001b[38;5;241;43m.\u001b[39;49m\u001b[43m_batch_update_progbar\u001b[49m\u001b[43m(\u001b[49m\u001b[43mbatch\u001b[49m\u001b[43m,\u001b[49m\u001b[43m \u001b[49m\u001b[43mlogs\u001b[49m\u001b[43m)\u001b[49m\n",
      "File \u001b[1;32mc:\\Users\\human\\.conda\\envs\\human-dl-env2\\lib\\site-packages\\keras\\src\\callbacks.py:1170\u001b[0m, in \u001b[0;36mProgbarLogger._batch_update_progbar\u001b[1;34m(self, batch, logs)\u001b[0m\n\u001b[0;32m   1167\u001b[0m \u001b[38;5;28;01mif\u001b[39;00m \u001b[38;5;28mself\u001b[39m\u001b[38;5;241m.\u001b[39mverbose \u001b[38;5;241m==\u001b[39m \u001b[38;5;241m1\u001b[39m:\n\u001b[0;32m   1168\u001b[0m     \u001b[38;5;66;03m# Only block async when verbose = 1.\u001b[39;00m\n\u001b[0;32m   1169\u001b[0m     logs \u001b[38;5;241m=\u001b[39m tf_utils\u001b[38;5;241m.\u001b[39msync_to_numpy_or_python_type(logs)\n\u001b[1;32m-> 1170\u001b[0m     \u001b[38;5;28;43mself\u001b[39;49m\u001b[38;5;241;43m.\u001b[39;49m\u001b[43mprogbar\u001b[49m\u001b[38;5;241;43m.\u001b[39;49m\u001b[43mupdate\u001b[49m\u001b[43m(\u001b[49m\u001b[38;5;28;43mself\u001b[39;49m\u001b[38;5;241;43m.\u001b[39;49m\u001b[43mseen\u001b[49m\u001b[43m,\u001b[49m\u001b[43m \u001b[49m\u001b[38;5;28;43mlist\u001b[39;49m\u001b[43m(\u001b[49m\u001b[43mlogs\u001b[49m\u001b[38;5;241;43m.\u001b[39;49m\u001b[43mitems\u001b[49m\u001b[43m(\u001b[49m\u001b[43m)\u001b[49m\u001b[43m)\u001b[49m\u001b[43m,\u001b[49m\u001b[43m \u001b[49m\u001b[43mfinalize\u001b[49m\u001b[38;5;241;43m=\u001b[39;49m\u001b[38;5;28;43;01mFalse\u001b[39;49;00m\u001b[43m)\u001b[49m\n",
      "File \u001b[1;32mc:\\Users\\human\\.conda\\envs\\human-dl-env2\\lib\\site-packages\\keras\\src\\utils\\generic_utils.py:296\u001b[0m, in \u001b[0;36mProgbar.update\u001b[1;34m(self, current, values, finalize)\u001b[0m\n\u001b[0;32m    293\u001b[0m         info \u001b[38;5;241m+\u001b[39m\u001b[38;5;241m=\u001b[39m \u001b[38;5;124m\"\u001b[39m\u001b[38;5;130;01m\\n\u001b[39;00m\u001b[38;5;124m\"\u001b[39m\n\u001b[0;32m    295\u001b[0m     message \u001b[38;5;241m+\u001b[39m\u001b[38;5;241m=\u001b[39m info\n\u001b[1;32m--> 296\u001b[0m     \u001b[43mio_utils\u001b[49m\u001b[38;5;241;43m.\u001b[39;49m\u001b[43mprint_msg\u001b[49m\u001b[43m(\u001b[49m\u001b[43mmessage\u001b[49m\u001b[43m,\u001b[49m\u001b[43m \u001b[49m\u001b[43mline_break\u001b[49m\u001b[38;5;241;43m=\u001b[39;49m\u001b[38;5;28;43;01mFalse\u001b[39;49;00m\u001b[43m)\u001b[49m\n\u001b[0;32m    297\u001b[0m     message \u001b[38;5;241m=\u001b[39m \u001b[38;5;124m\"\u001b[39m\u001b[38;5;124m\"\u001b[39m\n\u001b[0;32m    299\u001b[0m \u001b[38;5;28;01melif\u001b[39;00m \u001b[38;5;28mself\u001b[39m\u001b[38;5;241m.\u001b[39mverbose \u001b[38;5;241m==\u001b[39m \u001b[38;5;241m2\u001b[39m:\n",
      "File \u001b[1;32mc:\\Users\\human\\.conda\\envs\\human-dl-env2\\lib\\site-packages\\keras\\src\\utils\\io_utils.py:81\u001b[0m, in \u001b[0;36mprint_msg\u001b[1;34m(message, line_break)\u001b[0m\n\u001b[0;32m     79\u001b[0m     \u001b[38;5;28;01melse\u001b[39;00m:\n\u001b[0;32m     80\u001b[0m         sys\u001b[38;5;241m.\u001b[39mstdout\u001b[38;5;241m.\u001b[39mwrite(message)\n\u001b[1;32m---> 81\u001b[0m     \u001b[43msys\u001b[49m\u001b[38;5;241;43m.\u001b[39;49m\u001b[43mstdout\u001b[49m\u001b[38;5;241;43m.\u001b[39;49m\u001b[43mflush\u001b[49m\u001b[43m(\u001b[49m\u001b[43m)\u001b[49m\n\u001b[0;32m     82\u001b[0m \u001b[38;5;28;01melse\u001b[39;00m:\n\u001b[0;32m     83\u001b[0m     logging\u001b[38;5;241m.\u001b[39minfo(message)\n",
      "File \u001b[1;32mc:\\Users\\human\\.conda\\envs\\human-dl-env2\\lib\\site-packages\\ipykernel\\iostream.py:609\u001b[0m, in \u001b[0;36mOutStream.flush\u001b[1;34m(self)\u001b[0m\n\u001b[0;32m    607\u001b[0m     \u001b[38;5;28mself\u001b[39m\u001b[38;5;241m.\u001b[39mpub_thread\u001b[38;5;241m.\u001b[39mschedule(evt\u001b[38;5;241m.\u001b[39mset)\n\u001b[0;32m    608\u001b[0m     \u001b[38;5;66;03m# and give a timeout to avoid\u001b[39;00m\n\u001b[1;32m--> 609\u001b[0m     \u001b[38;5;28;01mif\u001b[39;00m \u001b[38;5;129;01mnot\u001b[39;00m \u001b[43mevt\u001b[49m\u001b[38;5;241;43m.\u001b[39;49m\u001b[43mwait\u001b[49m\u001b[43m(\u001b[49m\u001b[38;5;28;43mself\u001b[39;49m\u001b[38;5;241;43m.\u001b[39;49m\u001b[43mflush_timeout\u001b[49m\u001b[43m)\u001b[49m:\n\u001b[0;32m    610\u001b[0m         \u001b[38;5;66;03m# write directly to __stderr__ instead of warning because\u001b[39;00m\n\u001b[0;32m    611\u001b[0m         \u001b[38;5;66;03m# if this is happening sys.stderr may be the problem.\u001b[39;00m\n\u001b[0;32m    612\u001b[0m         \u001b[38;5;28mprint\u001b[39m(\u001b[38;5;124m\"\u001b[39m\u001b[38;5;124mIOStream.flush timed out\u001b[39m\u001b[38;5;124m\"\u001b[39m, file\u001b[38;5;241m=\u001b[39msys\u001b[38;5;241m.\u001b[39m__stderr__)\n\u001b[0;32m    613\u001b[0m \u001b[38;5;28;01melse\u001b[39;00m:\n",
      "File \u001b[1;32mc:\\Users\\human\\.conda\\envs\\human-dl-env2\\lib\\threading.py:581\u001b[0m, in \u001b[0;36mEvent.wait\u001b[1;34m(self, timeout)\u001b[0m\n\u001b[0;32m    579\u001b[0m signaled \u001b[38;5;241m=\u001b[39m \u001b[38;5;28mself\u001b[39m\u001b[38;5;241m.\u001b[39m_flag\n\u001b[0;32m    580\u001b[0m \u001b[38;5;28;01mif\u001b[39;00m \u001b[38;5;129;01mnot\u001b[39;00m signaled:\n\u001b[1;32m--> 581\u001b[0m     signaled \u001b[38;5;241m=\u001b[39m \u001b[38;5;28;43mself\u001b[39;49m\u001b[38;5;241;43m.\u001b[39;49m\u001b[43m_cond\u001b[49m\u001b[38;5;241;43m.\u001b[39;49m\u001b[43mwait\u001b[49m\u001b[43m(\u001b[49m\u001b[43mtimeout\u001b[49m\u001b[43m)\u001b[49m\n\u001b[0;32m    582\u001b[0m \u001b[38;5;28;01mreturn\u001b[39;00m signaled\n",
      "File \u001b[1;32mc:\\Users\\human\\.conda\\envs\\human-dl-env2\\lib\\threading.py:316\u001b[0m, in \u001b[0;36mCondition.wait\u001b[1;34m(self, timeout)\u001b[0m\n\u001b[0;32m    314\u001b[0m \u001b[38;5;28;01melse\u001b[39;00m:\n\u001b[0;32m    315\u001b[0m     \u001b[38;5;28;01mif\u001b[39;00m timeout \u001b[38;5;241m>\u001b[39m \u001b[38;5;241m0\u001b[39m:\n\u001b[1;32m--> 316\u001b[0m         gotit \u001b[38;5;241m=\u001b[39m \u001b[43mwaiter\u001b[49m\u001b[38;5;241;43m.\u001b[39;49m\u001b[43macquire\u001b[49m\u001b[43m(\u001b[49m\u001b[38;5;28;43;01mTrue\u001b[39;49;00m\u001b[43m,\u001b[49m\u001b[43m \u001b[49m\u001b[43mtimeout\u001b[49m\u001b[43m)\u001b[49m\n\u001b[0;32m    317\u001b[0m     \u001b[38;5;28;01melse\u001b[39;00m:\n\u001b[0;32m    318\u001b[0m         gotit \u001b[38;5;241m=\u001b[39m waiter\u001b[38;5;241m.\u001b[39macquire(\u001b[38;5;28;01mFalse\u001b[39;00m)\n",
      "\u001b[1;31mKeyboardInterrupt\u001b[0m: "
     ]
    }
   ],
   "source": [
    "# 모델 학습\n",
    "history = model.fit(\n",
    "    X_train, y_train,\n",
    "    validation_data=(X_test, y_test),\n",
    "    epochs=20,\n",
    "    batch_size=32,\n",
    "    # class_weight = class_weights\n",
    "    # callbacks=[lr_scheduler]\n",
    ")"
   ]
  },
  {
   "cell_type": "code",
   "execution_count": null,
   "metadata": {},
   "outputs": [],
   "source": []
  },
  {
   "cell_type": "code",
   "execution_count": null,
   "metadata": {},
   "outputs": [],
   "source": []
  },
  {
   "cell_type": "code",
   "execution_count": null,
   "metadata": {},
   "outputs": [],
   "source": []
  },
  {
   "cell_type": "code",
   "execution_count": 39,
   "metadata": {},
   "outputs": [
    {
     "name": "stdout",
     "output_type": "stream",
     "text": [
      "WARNING:tensorflow:From c:\\Users\\human\\.conda\\envs\\human-dl-env2\\lib\\site-packages\\keras\\src\\optimizers\\__init__.py:309: The name tf.train.Optimizer is deprecated. Please use tf.compat.v1.train.Optimizer instead.\n",
      "\n"
     ]
    }
   ],
   "source": [
    "# 모델 훈련 설계\n",
    "\n",
    "model.compile(loss='binary_crossentropy',\n",
    "              optimizer='adam',\n",
    "              metrics=['accuracy'])"
   ]
  },
  {
   "cell_type": "code",
   "execution_count": null,
   "metadata": {},
   "outputs": [],
   "source": [
    "# 모델 훈련\n",
    "\n",
    "fit_history = model.fit(datasets[0],\n",
    "                        steps_per_epoch=60,\n",
    "                        epochs=20,\n",
    "                        validation_data=datasets[2],\n",
    "                        validation_steps=30)"
   ]
  },
  {
   "cell_type": "code",
   "execution_count": 6,
   "metadata": {},
   "outputs": [],
   "source": [
    "# value_1_indices = np.where(y == 1)[0]\n",
    "# print(f\"Indices for class 1: {value_1_indices}\")\n",
    "# print(f\"Number of samples for class 1: {len(value_1_indices)}\")"
   ]
  },
  {
   "cell_type": "code",
   "execution_count": 15,
   "metadata": {},
   "outputs": [
    {
     "name": "stdout",
     "output_type": "stream",
     "text": [
      "New target distribution: Counter({'0': 540, '1': 500, 'other': 342, '2': 312, '3': 270})\n"
     ]
    }
   ],
   "source": [
    "# 1번 value의 인덱스만 선택\n",
    "value_1_indices = np.where(y == '1')[0]\n",
    "\n",
    "# 다른 클래스의 인덱스 선택\n",
    "other_indices = np.where(y != '1')[0]\n",
    "\n",
    "# 1번 value를 일정 개수로 줄이기 (예: 500개로 제한)\n",
    "np.random.seed(42)  # 재현성을 위해 설정\n",
    "reduced_value_1_indices = np.random.choice(value_1_indices, size=500, replace=False)\n",
    "\n",
    "# 줄어든 데이터와 다른 클래스 데이터를 합침\n",
    "final_indices = np.concatenate([reduced_value_1_indices, other_indices])\n",
    "\n",
    "# 새로운 X, y 데이터 생성\n",
    "X_balanced = X[final_indices]\n",
    "y_balanced = y[final_indices]\n",
    "\n",
    "# 데이터 분포 확인\n",
    "print(\"New target distribution:\", Counter(y_balanced))\n"
   ]
  },
  {
   "cell_type": "code",
   "execution_count": 17,
   "metadata": {},
   "outputs": [],
   "source": [
    "class_mapping = {'0': 0, '1': 1, '2': 2, '3': 3, 'other': 4}\n",
    "y_new_balanced = np.array([class_mapping[label] for label in y_balanced])\n",
    "X_balanced = X_balanced/ 255.0"
   ]
  },
  {
   "cell_type": "code",
   "execution_count": 18,
   "metadata": {},
   "outputs": [
    {
     "name": "stdout",
     "output_type": "stream",
     "text": [
      "X_train shape: (1571, 128, 128, 3), y_train shape: (1571,)\n",
      "X_test shape: (393, 128, 128, 3), y_test shape: (393,)\n"
     ]
    }
   ],
   "source": [
    "X_train, X_test, y_train, y_test = train_test_split(X_balanced, y_new_balanced, test_size=0.2, random_state=42)\n",
    "\n",
    "print(f\"X_train shape: {X_train.shape}, y_train shape: {y_train.shape}\")\n",
    "print(f\"X_test shape: {X_test.shape}, y_test shape: {y_test.shape}\")"
   ]
  },
  {
   "cell_type": "code",
   "execution_count": 20,
   "metadata": {},
   "outputs": [
    {
     "name": "stdout",
     "output_type": "stream",
     "text": [
      "Model: \"sequential\"\n",
      "_________________________________________________________________\n",
      " Layer (type)                Output Shape              Param #   \n",
      "=================================================================\n",
      " conv2d_3 (Conv2D)           (None, 126, 126, 32)      896       \n",
      "                                                                 \n",
      " max_pooling2d_3 (MaxPoolin  (None, 63, 63, 32)        0         \n",
      " g2D)                                                            \n",
      "                                                                 \n",
      " conv2d_4 (Conv2D)           (None, 61, 61, 64)        18496     \n",
      "                                                                 \n",
      " max_pooling2d_4 (MaxPoolin  (None, 30, 30, 64)        0         \n",
      " g2D)                                                            \n",
      "                                                                 \n",
      " conv2d_5 (Conv2D)           (None, 28, 28, 128)       73856     \n",
      "                                                                 \n",
      " max_pooling2d_5 (MaxPoolin  (None, 14, 14, 128)       0         \n",
      " g2D)                                                            \n",
      "                                                                 \n",
      " flatten_1 (Flatten)         (None, 25088)             0         \n",
      "                                                                 \n",
      " dense_1 (Dense)             (None, 128)               3211392   \n",
      "                                                                 \n",
      " dropout_1 (Dropout)         (None, 128)               0         \n",
      "                                                                 \n",
      " dense_2 (Dense)             (None, 5)                 645       \n",
      "                                                                 \n",
      "=================================================================\n",
      "Total params: 3305285 (12.61 MB)\n",
      "Trainable params: 3305285 (12.61 MB)\n",
      "Non-trainable params: 0 (0.00 Byte)\n",
      "_________________________________________________________________\n"
     ]
    }
   ],
   "source": [
    "model = models.Sequential([\n",
    "    layers.Conv2D(32, (3, 3), activation='relu', input_shape=(X.shape[1], X.shape[2], X.shape[3])),\n",
    "    layers.MaxPooling2D((2, 2)),\n",
    "    layers.Conv2D(64, (3, 3), activation='relu'),\n",
    "    layers.MaxPooling2D((2, 2)),\n",
    "    layers.Conv2D(128, (3, 3), activation='relu'),\n",
    "    layers.MaxPooling2D((2, 2)),\n",
    "    layers.Flatten(),\n",
    "    layers.Dense(128, activation='relu'),\n",
    "    layers.Dropout(0.5),\n",
    "    layers.Dense(5, activation='softmax')  # 출력층\n",
    "])\n",
    "\n",
    "# 모델 컴파일\n",
    "model.compile(optimizer=Adam(learning_rate=0.001), loss='categorical_crossentropy', metrics=['accuracy'])\n",
    "\n",
    "# 모델 요약\n",
    "model.summary()"
   ]
  },
  {
   "cell_type": "code",
   "execution_count": 21,
   "metadata": {},
   "outputs": [
    {
     "name": "stdout",
     "output_type": "stream",
     "text": [
      "Epoch 1/20\n"
     ]
    },
    {
     "ename": "ValueError",
     "evalue": "in user code:\n\n    File \"c:\\Users\\human\\.conda\\envs\\human-dl-env2\\lib\\site-packages\\keras\\src\\engine\\training.py\", line 1401, in train_function  *\n        return step_function(self, iterator)\n    File \"c:\\Users\\human\\.conda\\envs\\human-dl-env2\\lib\\site-packages\\keras\\src\\engine\\training.py\", line 1384, in step_function  **\n        outputs = model.distribute_strategy.run(run_step, args=(data,))\n    File \"c:\\Users\\human\\.conda\\envs\\human-dl-env2\\lib\\site-packages\\keras\\src\\engine\\training.py\", line 1373, in run_step  **\n        outputs = model.train_step(data)\n    File \"c:\\Users\\human\\.conda\\envs\\human-dl-env2\\lib\\site-packages\\keras\\src\\engine\\training.py\", line 1151, in train_step\n        loss = self.compute_loss(x, y, y_pred, sample_weight)\n    File \"c:\\Users\\human\\.conda\\envs\\human-dl-env2\\lib\\site-packages\\keras\\src\\engine\\training.py\", line 1209, in compute_loss\n        return self.compiled_loss(\n    File \"c:\\Users\\human\\.conda\\envs\\human-dl-env2\\lib\\site-packages\\keras\\src\\engine\\compile_utils.py\", line 277, in __call__\n        loss_value = loss_obj(y_t, y_p, sample_weight=sw)\n    File \"c:\\Users\\human\\.conda\\envs\\human-dl-env2\\lib\\site-packages\\keras\\src\\losses.py\", line 143, in __call__\n        losses = call_fn(y_true, y_pred)\n    File \"c:\\Users\\human\\.conda\\envs\\human-dl-env2\\lib\\site-packages\\keras\\src\\losses.py\", line 270, in call  **\n        return ag_fn(y_true, y_pred, **self._fn_kwargs)\n    File \"c:\\Users\\human\\.conda\\envs\\human-dl-env2\\lib\\site-packages\\keras\\src\\losses.py\", line 2221, in categorical_crossentropy\n        return backend.categorical_crossentropy(\n    File \"c:\\Users\\human\\.conda\\envs\\human-dl-env2\\lib\\site-packages\\keras\\src\\backend.py\", line 5573, in categorical_crossentropy\n        target.shape.assert_is_compatible_with(output.shape)\n\n    ValueError: Shapes (None, 1) and (None, 5) are incompatible\n",
     "output_type": "error",
     "traceback": [
      "\u001b[1;31m---------------------------------------------------------------------------\u001b[0m",
      "\u001b[1;31mValueError\u001b[0m                                Traceback (most recent call last)",
      "Cell \u001b[1;32mIn[21], line 2\u001b[0m\n\u001b[0;32m      1\u001b[0m \u001b[38;5;66;03m# 모델 학습\u001b[39;00m\n\u001b[1;32m----> 2\u001b[0m history \u001b[38;5;241m=\u001b[39m \u001b[43mmodel\u001b[49m\u001b[38;5;241;43m.\u001b[39;49m\u001b[43mfit\u001b[49m\u001b[43m(\u001b[49m\n\u001b[0;32m      3\u001b[0m \u001b[43m    \u001b[49m\u001b[43mX_train\u001b[49m\u001b[43m,\u001b[49m\u001b[43m \u001b[49m\u001b[43my_train\u001b[49m\u001b[43m,\u001b[49m\n\u001b[0;32m      4\u001b[0m \u001b[43m    \u001b[49m\u001b[43mvalidation_data\u001b[49m\u001b[38;5;241;43m=\u001b[39;49m\u001b[43m(\u001b[49m\u001b[43mX_test\u001b[49m\u001b[43m,\u001b[49m\u001b[43m \u001b[49m\u001b[43my_test\u001b[49m\u001b[43m)\u001b[49m\u001b[43m,\u001b[49m\n\u001b[0;32m      5\u001b[0m \u001b[43m    \u001b[49m\u001b[43mepochs\u001b[49m\u001b[38;5;241;43m=\u001b[39;49m\u001b[38;5;241;43m20\u001b[39;49m\u001b[43m,\u001b[49m\n\u001b[0;32m      6\u001b[0m \u001b[43m    \u001b[49m\u001b[43mbatch_size\u001b[49m\u001b[38;5;241;43m=\u001b[39;49m\u001b[38;5;241;43m32\u001b[39;49m\n\u001b[0;32m      7\u001b[0m \u001b[43m)\u001b[49m\n",
      "File \u001b[1;32mc:\\Users\\human\\.conda\\envs\\human-dl-env2\\lib\\site-packages\\keras\\src\\utils\\traceback_utils.py:70\u001b[0m, in \u001b[0;36mfilter_traceback.<locals>.error_handler\u001b[1;34m(*args, **kwargs)\u001b[0m\n\u001b[0;32m     67\u001b[0m     filtered_tb \u001b[38;5;241m=\u001b[39m _process_traceback_frames(e\u001b[38;5;241m.\u001b[39m__traceback__)\n\u001b[0;32m     68\u001b[0m     \u001b[38;5;66;03m# To get the full stack trace, call:\u001b[39;00m\n\u001b[0;32m     69\u001b[0m     \u001b[38;5;66;03m# `tf.debugging.disable_traceback_filtering()`\u001b[39;00m\n\u001b[1;32m---> 70\u001b[0m     \u001b[38;5;28;01mraise\u001b[39;00m e\u001b[38;5;241m.\u001b[39mwith_traceback(filtered_tb) \u001b[38;5;28;01mfrom\u001b[39;00m \u001b[38;5;28;01mNone\u001b[39;00m\n\u001b[0;32m     71\u001b[0m \u001b[38;5;28;01mfinally\u001b[39;00m:\n\u001b[0;32m     72\u001b[0m     \u001b[38;5;28;01mdel\u001b[39;00m filtered_tb\n",
      "File \u001b[1;32m~\\AppData\\Local\\Temp\\__autograph_generated_file6rc8o_il.py:15\u001b[0m, in \u001b[0;36mouter_factory.<locals>.inner_factory.<locals>.tf__train_function\u001b[1;34m(iterator)\u001b[0m\n\u001b[0;32m     13\u001b[0m \u001b[38;5;28;01mtry\u001b[39;00m:\n\u001b[0;32m     14\u001b[0m     do_return \u001b[38;5;241m=\u001b[39m \u001b[38;5;28;01mTrue\u001b[39;00m\n\u001b[1;32m---> 15\u001b[0m     retval_ \u001b[38;5;241m=\u001b[39m ag__\u001b[38;5;241m.\u001b[39mconverted_call(ag__\u001b[38;5;241m.\u001b[39mld(step_function), (ag__\u001b[38;5;241m.\u001b[39mld(\u001b[38;5;28mself\u001b[39m), ag__\u001b[38;5;241m.\u001b[39mld(iterator)), \u001b[38;5;28;01mNone\u001b[39;00m, fscope)\n\u001b[0;32m     16\u001b[0m \u001b[38;5;28;01mexcept\u001b[39;00m:\n\u001b[0;32m     17\u001b[0m     do_return \u001b[38;5;241m=\u001b[39m \u001b[38;5;28;01mFalse\u001b[39;00m\n",
      "\u001b[1;31mValueError\u001b[0m: in user code:\n\n    File \"c:\\Users\\human\\.conda\\envs\\human-dl-env2\\lib\\site-packages\\keras\\src\\engine\\training.py\", line 1401, in train_function  *\n        return step_function(self, iterator)\n    File \"c:\\Users\\human\\.conda\\envs\\human-dl-env2\\lib\\site-packages\\keras\\src\\engine\\training.py\", line 1384, in step_function  **\n        outputs = model.distribute_strategy.run(run_step, args=(data,))\n    File \"c:\\Users\\human\\.conda\\envs\\human-dl-env2\\lib\\site-packages\\keras\\src\\engine\\training.py\", line 1373, in run_step  **\n        outputs = model.train_step(data)\n    File \"c:\\Users\\human\\.conda\\envs\\human-dl-env2\\lib\\site-packages\\keras\\src\\engine\\training.py\", line 1151, in train_step\n        loss = self.compute_loss(x, y, y_pred, sample_weight)\n    File \"c:\\Users\\human\\.conda\\envs\\human-dl-env2\\lib\\site-packages\\keras\\src\\engine\\training.py\", line 1209, in compute_loss\n        return self.compiled_loss(\n    File \"c:\\Users\\human\\.conda\\envs\\human-dl-env2\\lib\\site-packages\\keras\\src\\engine\\compile_utils.py\", line 277, in __call__\n        loss_value = loss_obj(y_t, y_p, sample_weight=sw)\n    File \"c:\\Users\\human\\.conda\\envs\\human-dl-env2\\lib\\site-packages\\keras\\src\\losses.py\", line 143, in __call__\n        losses = call_fn(y_true, y_pred)\n    File \"c:\\Users\\human\\.conda\\envs\\human-dl-env2\\lib\\site-packages\\keras\\src\\losses.py\", line 270, in call  **\n        return ag_fn(y_true, y_pred, **self._fn_kwargs)\n    File \"c:\\Users\\human\\.conda\\envs\\human-dl-env2\\lib\\site-packages\\keras\\src\\losses.py\", line 2221, in categorical_crossentropy\n        return backend.categorical_crossentropy(\n    File \"c:\\Users\\human\\.conda\\envs\\human-dl-env2\\lib\\site-packages\\keras\\src\\backend.py\", line 5573, in categorical_crossentropy\n        target.shape.assert_is_compatible_with(output.shape)\n\n    ValueError: Shapes (None, 1) and (None, 5) are incompatible\n"
     ]
    }
   ],
   "source": [
    "# 모델 학습\n",
    "history = model.fit(\n",
    "    X_train, y_train,\n",
    "    validation_data=(X_test, y_test),\n",
    "    epochs=20,\n",
    "    batch_size=32\n",
    ")\n"
   ]
  },
  {
   "cell_type": "code",
   "execution_count": 34,
   "metadata": {},
   "outputs": [],
   "source": [
    "X = np.array(list(image_data.values()))\n",
    "y = np.array(list(merged_target_data.values()))\n",
    "\n",
    "X = X / 255.0\n",
    "\n",
    "unique_classes = np.unique(y)\n",
    "class_mapping = {label: idx for idx, label in enumerate(unique_classes)}\n",
    "y = np.array([class_mapping[label] for label in y])"
   ]
  },
  {
   "cell_type": "code",
   "execution_count": 35,
   "metadata": {},
   "outputs": [],
   "source": [
    "# 원-핫 인코딩\n",
    "num_classes = len(np.unique(y))\n",
    "y = to_categorical(y, num_classes=num_classes)"
   ]
  },
  {
   "cell_type": "code",
   "execution_count": 36,
   "metadata": {},
   "outputs": [
    {
     "name": "stdout",
     "output_type": "stream",
     "text": [
      "X_train shape: (2059, 128, 128, 3), y_train shape: (2059, 5)\n",
      "X_test shape: (515, 128, 128, 3), y_test shape: (515, 5)\n"
     ]
    }
   ],
   "source": [
    "X_train, X_test, y_train, y_test = train_test_split(X, y, test_size=0.2, random_state=42)\n",
    "\n",
    "print(f\"X_train shape: {X_train.shape}, y_train shape: {y_train.shape}\")\n",
    "print(f\"X_test shape: {X_test.shape}, y_test shape: {y_test.shape}\")"
   ]
  },
  {
   "cell_type": "code",
   "execution_count": 37,
   "metadata": {},
   "outputs": [
    {
     "name": "stdout",
     "output_type": "stream",
     "text": [
      "After squeeze - y_train shape: (2059, 5)\n",
      "After squeeze - y_test shape: (515, 5)\n"
     ]
    }
   ],
   "source": [
    "y_train = np.squeeze(y_train)\n",
    "y_test = np.squeeze(y_test)\n",
    "\n",
    "print(f\"After squeeze - y_train shape: {y_train.shape}\")\n",
    "print(f\"After squeeze - y_test shape: {y_test.shape}\")"
   ]
  },
  {
   "cell_type": "code",
   "execution_count": 38,
   "metadata": {},
   "outputs": [
    {
     "name": "stdout",
     "output_type": "stream",
     "text": [
      "Model: \"sequential_2\"\n",
      "_________________________________________________________________\n",
      " Layer (type)                Output Shape              Param #   \n",
      "=================================================================\n",
      " conv2d_6 (Conv2D)           (None, 126, 126, 32)      896       \n",
      "                                                                 \n",
      " max_pooling2d_6 (MaxPoolin  (None, 63, 63, 32)        0         \n",
      " g2D)                                                            \n",
      "                                                                 \n",
      " conv2d_7 (Conv2D)           (None, 61, 61, 64)        18496     \n",
      "                                                                 \n",
      " max_pooling2d_7 (MaxPoolin  (None, 30, 30, 64)        0         \n",
      " g2D)                                                            \n",
      "                                                                 \n",
      " conv2d_8 (Conv2D)           (None, 28, 28, 128)       73856     \n",
      "                                                                 \n",
      " max_pooling2d_8 (MaxPoolin  (None, 14, 14, 128)       0         \n",
      " g2D)                                                            \n",
      "                                                                 \n",
      " flatten_2 (Flatten)         (None, 25088)             0         \n",
      "                                                                 \n",
      " dense_4 (Dense)             (None, 128)               3211392   \n",
      "                                                                 \n",
      " dropout_1 (Dropout)         (None, 128)               0         \n",
      "                                                                 \n",
      " dense_5 (Dense)             (None, 5)                 645       \n",
      "                                                                 \n",
      "=================================================================\n",
      "Total params: 3305285 (12.61 MB)\n",
      "Trainable params: 3305285 (12.61 MB)\n",
      "Non-trainable params: 0 (0.00 Byte)\n",
      "_________________________________________________________________\n"
     ]
    }
   ],
   "source": [
    "model = models.Sequential([\n",
    "    layers.Conv2D(32, (3, 3), activation='relu', input_shape=(X.shape[1], X.shape[2], X.shape[3])),\n",
    "    layers.MaxPooling2D((2, 2)),\n",
    "    layers.Conv2D(64, (3, 3), activation='relu'),\n",
    "    layers.MaxPooling2D((2, 2)),\n",
    "    layers.Conv2D(128, (3, 3), activation='relu'),\n",
    "    layers.MaxPooling2D((2, 2)),\n",
    "    layers.Flatten(),\n",
    "    layers.Dense(128, activation='relu'),\n",
    "    layers.Dropout(0.5),\n",
    "    layers.Dense(num_classes, activation='softmax')  # 출력층\n",
    "])\n",
    "\n",
    "# 모델 컴파일\n",
    "model.compile(optimizer=Adam(learning_rate=0.001), loss='categorical_crossentropy', metrics=['accuracy'])\n",
    "\n",
    "# 모델 요약\n",
    "model.summary()"
   ]
  },
  {
   "cell_type": "code",
   "execution_count": 39,
   "metadata": {},
   "outputs": [
    {
     "name": "stdout",
     "output_type": "stream",
     "text": [
      "Epoch 1/20\n",
      "WARNING:tensorflow:From c:\\Users\\human\\.conda\\envs\\human-dl-env2\\lib\\site-packages\\keras\\src\\utils\\tf_utils.py:492: The name tf.ragged.RaggedTensorValue is deprecated. Please use tf.compat.v1.ragged.RaggedTensorValue instead.\n",
      "\n",
      "WARNING:tensorflow:From c:\\Users\\human\\.conda\\envs\\human-dl-env2\\lib\\site-packages\\keras\\src\\engine\\base_layer_utils.py:384: The name tf.executing_eagerly_outside_functions is deprecated. Please use tf.compat.v1.executing_eagerly_outside_functions instead.\n",
      "\n",
      "65/65 [==============================] - 15s 213ms/step - loss: 1.4939 - accuracy: 0.4293 - val_loss: 1.4967 - val_accuracy: 0.4019\n",
      "Epoch 2/20\n",
      "65/65 [==============================] - 14s 210ms/step - loss: 1.4638 - accuracy: 0.4390 - val_loss: 1.5082 - val_accuracy: 0.4019\n",
      "Epoch 3/20\n",
      "65/65 [==============================] - 14s 214ms/step - loss: 1.4634 - accuracy: 0.4386 - val_loss: 1.4824 - val_accuracy: 0.4019\n",
      "Epoch 4/20\n",
      "65/65 [==============================] - 13s 199ms/step - loss: 1.4637 - accuracy: 0.4376 - val_loss: 1.4865 - val_accuracy: 0.4019\n",
      "Epoch 5/20\n",
      "65/65 [==============================] - 13s 200ms/step - loss: 1.4576 - accuracy: 0.4390 - val_loss: 1.4756 - val_accuracy: 0.4019\n",
      "Epoch 6/20\n",
      "65/65 [==============================] - 13s 201ms/step - loss: 1.4593 - accuracy: 0.4390 - val_loss: 1.4847 - val_accuracy: 0.4019\n",
      "Epoch 7/20\n",
      "65/65 [==============================] - 13s 201ms/step - loss: 1.4546 - accuracy: 0.4390 - val_loss: 1.4827 - val_accuracy: 0.4019\n",
      "Epoch 8/20\n",
      "65/65 [==============================] - 13s 201ms/step - loss: 1.4504 - accuracy: 0.4390 - val_loss: 1.4842 - val_accuracy: 0.4019\n",
      "Epoch 9/20\n",
      "65/65 [==============================] - 13s 200ms/step - loss: 1.4561 - accuracy: 0.4390 - val_loss: 1.4944 - val_accuracy: 0.4019\n",
      "Epoch 10/20\n",
      "65/65 [==============================] - 13s 200ms/step - loss: 1.4519 - accuracy: 0.4390 - val_loss: 1.4843 - val_accuracy: 0.4019\n",
      "Epoch 11/20\n",
      "65/65 [==============================] - 13s 201ms/step - loss: 1.4523 - accuracy: 0.4386 - val_loss: 1.4821 - val_accuracy: 0.4019\n",
      "Epoch 12/20\n",
      "65/65 [==============================] - 13s 200ms/step - loss: 1.4518 - accuracy: 0.4390 - val_loss: 1.4815 - val_accuracy: 0.4019\n",
      "Epoch 13/20\n",
      "65/65 [==============================] - 13s 201ms/step - loss: 1.4522 - accuracy: 0.4390 - val_loss: 1.4838 - val_accuracy: 0.4019\n",
      "Epoch 14/20\n",
      "65/65 [==============================] - 13s 200ms/step - loss: 1.4515 - accuracy: 0.4390 - val_loss: 1.4827 - val_accuracy: 0.4019\n",
      "Epoch 15/20\n",
      "65/65 [==============================] - 13s 201ms/step - loss: 1.4483 - accuracy: 0.4390 - val_loss: 1.4809 - val_accuracy: 0.4019\n",
      "Epoch 16/20\n",
      "65/65 [==============================] - 13s 200ms/step - loss: 1.4589 - accuracy: 0.4390 - val_loss: 1.4829 - val_accuracy: 0.4019\n",
      "Epoch 17/20\n",
      "65/65 [==============================] - 13s 200ms/step - loss: 1.4433 - accuracy: 0.4390 - val_loss: 1.4842 - val_accuracy: 0.4019\n",
      "Epoch 18/20\n",
      "65/65 [==============================] - 13s 201ms/step - loss: 1.4683 - accuracy: 0.4337 - val_loss: 1.4839 - val_accuracy: 0.4019\n",
      "Epoch 19/20\n",
      "65/65 [==============================] - 13s 202ms/step - loss: 1.4543 - accuracy: 0.4390 - val_loss: 1.4862 - val_accuracy: 0.4019\n",
      "Epoch 20/20\n",
      "65/65 [==============================] - 13s 200ms/step - loss: 1.4476 - accuracy: 0.4390 - val_loss: 1.4867 - val_accuracy: 0.4019\n"
     ]
    }
   ],
   "source": [
    "# 모델 학습\n",
    "history = model.fit(\n",
    "    X_train, y_train,\n",
    "    validation_data=(X_test, y_test),\n",
    "    epochs=20,\n",
    "    batch_size=32\n",
    ")\n"
   ]
  },
  {
   "cell_type": "code",
   "execution_count": 12,
   "metadata": {},
   "outputs": [
    {
     "ename": "KeyError",
     "evalue": "1110",
     "output_type": "error",
     "traceback": [
      "\u001b[1;31m---------------------------------------------------------------------------\u001b[0m",
      "\u001b[1;31mKeyError\u001b[0m                                  Traceback (most recent call last)",
      "Cell \u001b[1;32mIn[12], line 2\u001b[0m\n\u001b[0;32m      1\u001b[0m class_mapping \u001b[38;5;241m=\u001b[39m {\u001b[38;5;241m0\u001b[39m: \u001b[38;5;241m0\u001b[39m, \u001b[38;5;241m1\u001b[39m: \u001b[38;5;241m1\u001b[39m, \u001b[38;5;241m2\u001b[39m: \u001b[38;5;241m2\u001b[39m, \u001b[38;5;241m3\u001b[39m: \u001b[38;5;241m3\u001b[39m, \u001b[38;5;124m'\u001b[39m\u001b[38;5;124mother\u001b[39m\u001b[38;5;124m'\u001b[39m: \u001b[38;5;241m4\u001b[39m}\n\u001b[1;32m----> 2\u001b[0m y \u001b[38;5;241m=\u001b[39m np\u001b[38;5;241m.\u001b[39marray([class_mapping[label] \u001b[38;5;28;01mfor\u001b[39;00m label \u001b[38;5;129;01min\u001b[39;00m y])\n",
      "Cell \u001b[1;32mIn[12], line 2\u001b[0m, in \u001b[0;36m<listcomp>\u001b[1;34m(.0)\u001b[0m\n\u001b[0;32m      1\u001b[0m class_mapping \u001b[38;5;241m=\u001b[39m {\u001b[38;5;241m0\u001b[39m: \u001b[38;5;241m0\u001b[39m, \u001b[38;5;241m1\u001b[39m: \u001b[38;5;241m1\u001b[39m, \u001b[38;5;241m2\u001b[39m: \u001b[38;5;241m2\u001b[39m, \u001b[38;5;241m3\u001b[39m: \u001b[38;5;241m3\u001b[39m, \u001b[38;5;124m'\u001b[39m\u001b[38;5;124mother\u001b[39m\u001b[38;5;124m'\u001b[39m: \u001b[38;5;241m4\u001b[39m}\n\u001b[1;32m----> 2\u001b[0m y \u001b[38;5;241m=\u001b[39m np\u001b[38;5;241m.\u001b[39marray([\u001b[43mclass_mapping\u001b[49m\u001b[43m[\u001b[49m\u001b[43mlabel\u001b[49m\u001b[43m]\u001b[49m \u001b[38;5;28;01mfor\u001b[39;00m label \u001b[38;5;129;01min\u001b[39;00m y])\n",
      "\u001b[1;31mKeyError\u001b[0m: 1110"
     ]
    }
   ],
   "source": [
    "class_mapping = {0: 0, 1: 1, 2: 2, 3: 3, 'other': 4}\n",
    "y = np.array([class_mapping[label] for label in y])"
   ]
  },
  {
   "cell_type": "code",
   "execution_count": 102,
   "metadata": {},
   "outputs": [],
   "source": [
    "X = np.random.rand(1216, 64, 64, 3)\n",
    "y = np.random.choice(['0', '1', '2', '3', 'other'], size=1216)\n",
    "\n",
    "# 클래스 매핑 (문자열로 키 설정)\n",
    "class_mapping = {'0': 0, '1': 1, '2': 2, '3': 3, 'other': 4}\n",
    "y = np.array([class_mapping[label] for label in y])"
   ]
  },
  {
   "cell_type": "code",
   "execution_count": 103,
   "metadata": {},
   "outputs": [],
   "source": [
    "y = to_categorical(y, num_classes=5)\n",
    "\n",
    "X_train, X_test, y_train, y_test = train_test_split(X, y, test_size=0.2, random_state=42)"
   ]
  },
  {
   "cell_type": "code",
   "execution_count": 104,
   "metadata": {},
   "outputs": [],
   "source": [
    "from tensorflow.keras.models import Sequential\n",
    "from tensorflow.keras.layers import Conv2D, MaxPooling2D, Flatten, Dense, Dropout\n",
    "\n",
    "# 모델 생성\n",
    "model = Sequential([\n",
    "    # Convolutional Layers\n",
    "    Conv2D(32, (3, 3), activation='relu', input_shape=(64, 64, 3)),\n",
    "    MaxPooling2D(pool_size=(2, 2)),\n",
    "    Conv2D(64, (3, 3), activation='relu'),\n",
    "    MaxPooling2D(pool_size=(2, 2)),\n",
    "    Conv2D(128, (3, 3), activation='relu'),\n",
    "    MaxPooling2D(pool_size=(2, 2)),\n",
    "\n",
    "    # Fully Connected Layers\n",
    "    Flatten(),\n",
    "    Dense(128, activation='relu'),\n",
    "    Dropout(0.5),\n",
    "    Dense(5, activation='softmax')  # 5개의 출력 클래스\n",
    "])\n"
   ]
  },
  {
   "cell_type": "code",
   "execution_count": 107,
   "metadata": {},
   "outputs": [],
   "source": [
    "from tensorflow.keras.optimizers import Adam\n",
    "\n",
    "model.compile(\n",
    "    optimizer=Adam(learning_rate=0.0001),\n",
    "    loss='categorical_crossentropy',  # 다중 클래스 분류 손실 함수\n",
    "    metrics=['accuracy']  # 평가 지표\n",
    ")\n"
   ]
  },
  {
   "cell_type": "code",
   "execution_count": 108,
   "metadata": {},
   "outputs": [
    {
     "name": "stdout",
     "output_type": "stream",
     "text": [
      "Epoch 1/20\n",
      "31/31 [==============================] - 3s 56ms/step - loss: 1.6087 - accuracy: 0.2006 - val_loss: 1.6114 - val_accuracy: 0.1639\n",
      "Epoch 2/20\n",
      "31/31 [==============================] - 2s 53ms/step - loss: 1.6075 - accuracy: 0.2027 - val_loss: 1.6110 - val_accuracy: 0.1803\n",
      "Epoch 3/20\n",
      "31/31 [==============================] - 2s 53ms/step - loss: 1.6072 - accuracy: 0.2181 - val_loss: 1.6108 - val_accuracy: 0.2008\n",
      "Epoch 4/20\n",
      "31/31 [==============================] - 2s 53ms/step - loss: 1.6044 - accuracy: 0.2490 - val_loss: 1.6110 - val_accuracy: 0.2008\n",
      "Epoch 5/20\n",
      "31/31 [==============================] - 1s 46ms/step - loss: 1.6045 - accuracy: 0.2479 - val_loss: 1.6110 - val_accuracy: 0.1926\n",
      "Epoch 6/20\n",
      "31/31 [==============================] - 1s 46ms/step - loss: 1.6028 - accuracy: 0.2387 - val_loss: 1.6110 - val_accuracy: 0.2172\n",
      "Epoch 7/20\n",
      "31/31 [==============================] - 1s 47ms/step - loss: 1.6025 - accuracy: 0.2335 - val_loss: 1.6113 - val_accuracy: 0.1803\n",
      "Epoch 8/20\n",
      "31/31 [==============================] - 2s 49ms/step - loss: 1.6006 - accuracy: 0.2695 - val_loss: 1.6111 - val_accuracy: 0.2254\n",
      "Epoch 9/20\n",
      "31/31 [==============================] - 2s 53ms/step - loss: 1.6004 - accuracy: 0.2315 - val_loss: 1.6113 - val_accuracy: 0.1598\n",
      "Epoch 10/20\n",
      "31/31 [==============================] - 2s 49ms/step - loss: 1.5946 - accuracy: 0.2860 - val_loss: 1.6111 - val_accuracy: 0.2008\n",
      "Epoch 11/20\n",
      "31/31 [==============================] - 2s 49ms/step - loss: 1.5913 - accuracy: 0.2819 - val_loss: 1.6114 - val_accuracy: 0.1516\n",
      "Epoch 12/20\n",
      "31/31 [==============================] - 2s 50ms/step - loss: 1.5873 - accuracy: 0.3076 - val_loss: 1.6109 - val_accuracy: 0.2008\n",
      "Epoch 13/20\n",
      "31/31 [==============================] - 1s 47ms/step - loss: 1.5847 - accuracy: 0.2953 - val_loss: 1.6118 - val_accuracy: 0.2131\n",
      "Epoch 14/20\n",
      "31/31 [==============================] - 1s 48ms/step - loss: 1.5783 - accuracy: 0.2994 - val_loss: 1.6126 - val_accuracy: 0.1967\n",
      "Epoch 15/20\n",
      "31/31 [==============================] - 2s 53ms/step - loss: 1.5760 - accuracy: 0.3230 - val_loss: 1.6097 - val_accuracy: 0.1844\n",
      "Epoch 16/20\n",
      "31/31 [==============================] - 2s 49ms/step - loss: 1.5708 - accuracy: 0.3282 - val_loss: 1.6120 - val_accuracy: 0.2008\n",
      "Epoch 17/20\n",
      "31/31 [==============================] - 1s 47ms/step - loss: 1.5575 - accuracy: 0.3776 - val_loss: 1.6106 - val_accuracy: 0.2049\n",
      "Epoch 18/20\n",
      "31/31 [==============================] - 1s 48ms/step - loss: 1.5496 - accuracy: 0.3827 - val_loss: 1.6118 - val_accuracy: 0.2008\n",
      "Epoch 19/20\n",
      "31/31 [==============================] - 1s 47ms/step - loss: 1.5409 - accuracy: 0.3879 - val_loss: 1.6091 - val_accuracy: 0.1762\n",
      "Epoch 20/20\n",
      "31/31 [==============================] - 2s 49ms/step - loss: 1.5338 - accuracy: 0.3909 - val_loss: 1.6089 - val_accuracy: 0.2213\n"
     ]
    }
   ],
   "source": [
    "history = model.fit(\n",
    "    X_train, y_train,\n",
    "    epochs=20, \n",
    "    batch_size=32,\n",
    "    validation_data=(X_test, y_test)\n",
    ")\n"
   ]
  },
  {
   "cell_type": "code",
   "execution_count": 41,
   "metadata": {},
   "outputs": [
    {
     "ename": "ValueError",
     "evalue": "'a' cannot be empty unless no samples are taken",
     "output_type": "error",
     "traceback": [
      "\u001b[1;31m---------------------------------------------------------------------------\u001b[0m",
      "\u001b[1;31mValueError\u001b[0m                                Traceback (most recent call last)",
      "Cell \u001b[1;32mIn[41], line 13\u001b[0m\n\u001b[0;32m     11\u001b[0m \u001b[38;5;66;03m# 1번 value를 일정 개수로 줄이기 (예: 500개로 제한)\u001b[39;00m\n\u001b[0;32m     12\u001b[0m np\u001b[38;5;241m.\u001b[39mrandom\u001b[38;5;241m.\u001b[39mseed(\u001b[38;5;241m42\u001b[39m)  \u001b[38;5;66;03m# 재현성을 위해 설정\u001b[39;00m\n\u001b[1;32m---> 13\u001b[0m reduced_value_1_indices \u001b[38;5;241m=\u001b[39m \u001b[43mnp\u001b[49m\u001b[38;5;241;43m.\u001b[39;49m\u001b[43mrandom\u001b[49m\u001b[38;5;241;43m.\u001b[39;49m\u001b[43mchoice\u001b[49m\u001b[43m(\u001b[49m\u001b[43mvalue_1_indices\u001b[49m\u001b[43m,\u001b[49m\u001b[43m \u001b[49m\u001b[43msize\u001b[49m\u001b[38;5;241;43m=\u001b[39;49m\u001b[38;5;241;43m500\u001b[39;49m\u001b[43m,\u001b[49m\u001b[43m \u001b[49m\u001b[43mreplace\u001b[49m\u001b[38;5;241;43m=\u001b[39;49m\u001b[38;5;28;43;01mFalse\u001b[39;49;00m\u001b[43m)\u001b[49m\n\u001b[0;32m     15\u001b[0m \u001b[38;5;66;03m# 줄어든 데이터와 다른 클래스 데이터를 합침\u001b[39;00m\n\u001b[0;32m     16\u001b[0m final_indices \u001b[38;5;241m=\u001b[39m np\u001b[38;5;241m.\u001b[39mconcatenate([reduced_value_1_indices, other_indices])\n",
      "File \u001b[1;32mnumpy\\\\random\\\\mtrand.pyx:951\u001b[0m, in \u001b[0;36mnumpy.random.mtrand.RandomState.choice\u001b[1;34m()\u001b[0m\n",
      "\u001b[1;31mValueError\u001b[0m: 'a' cannot be empty unless no samples are taken"
     ]
    }
   ],
   "source": [
    "# 타겟 데이터와 이미지 데이터를 분리\n",
    "X = np.array(list(image_data.values()))\n",
    "y = np.array(list(merged_target_data.values()))\n",
    "\n",
    "# 1번 value의 인덱스만 선택\n",
    "value_1_indices = np.where(y == 1)[0]\n",
    "\n",
    "# 다른 클래스의 인덱스 선택\n",
    "other_indices = np.where(y != 1)[0]\n",
    "\n",
    "# 1번 value를 일정 개수로 줄이기 (예: 500개로 제한)\n",
    "np.random.seed(42)  # 재현성을 위해 설정\n",
    "reduced_value_1_indices = np.random.choice(value_1_indices, size=500, replace=False)\n",
    "\n",
    "# 줄어든 데이터와 다른 클래스 데이터를 합침\n",
    "final_indices = np.concatenate([reduced_value_1_indices, other_indices])\n",
    "\n",
    "# 새로운 X, y 데이터 생성\n",
    "X_balanced = X[final_indices]\n",
    "y_balanced = y[final_indices]\n",
    "\n",
    "# 데이터 분포 확인\n",
    "print(\"New target distribution:\", Counter(y_balanced))"
   ]
  },
  {
   "cell_type": "code",
   "execution_count": 96,
   "metadata": {},
   "outputs": [
    {
     "ename": "FileNotFoundError",
     "evalue": "[WinError 3] 지정된 경로를 찾을 수 없습니다: 'data/4'",
     "output_type": "error",
     "traceback": [
      "\u001b[1;31m---------------------------------------------------------------------------\u001b[0m",
      "\u001b[1;31mFileNotFoundError\u001b[0m                         Traceback (most recent call last)",
      "Cell \u001b[1;32mIn[96], line 5\u001b[0m\n\u001b[0;32m      2\u001b[0m target_classes \u001b[38;5;241m=\u001b[39m [\u001b[38;5;241m4\u001b[39m, \u001b[38;5;241m5\u001b[39m, \u001b[38;5;241m6\u001b[39m]  \u001b[38;5;66;03m# 적은 클래스\u001b[39;00m\n\u001b[0;32m      4\u001b[0m \u001b[38;5;28;01mfor\u001b[39;00m target_class \u001b[38;5;129;01min\u001b[39;00m target_classes:\n\u001b[1;32m----> 5\u001b[0m     image_paths \u001b[38;5;241m=\u001b[39m [\u001b[38;5;124mf\u001b[39m\u001b[38;5;124m\"\u001b[39m\u001b[38;5;124mdata/\u001b[39m\u001b[38;5;132;01m{\u001b[39;00mtarget_class\u001b[38;5;132;01m}\u001b[39;00m\u001b[38;5;124m/\u001b[39m\u001b[38;5;132;01m{\u001b[39;00mimg\u001b[38;5;132;01m}\u001b[39;00m\u001b[38;5;124m\"\u001b[39m \u001b[38;5;28;01mfor\u001b[39;00m img \u001b[38;5;129;01min\u001b[39;00m \u001b[43mos\u001b[49m\u001b[38;5;241;43m.\u001b[39;49m\u001b[43mlistdir\u001b[49m\u001b[43m(\u001b[49m\u001b[38;5;124;43mf\u001b[39;49m\u001b[38;5;124;43m\"\u001b[39;49m\u001b[38;5;124;43mdata/\u001b[39;49m\u001b[38;5;132;43;01m{\u001b[39;49;00m\u001b[43mtarget_class\u001b[49m\u001b[38;5;132;43;01m}\u001b[39;49;00m\u001b[38;5;124;43m\"\u001b[39;49m\u001b[43m)\u001b[49m]\n\u001b[0;32m      6\u001b[0m     augmented_images \u001b[38;5;241m=\u001b[39m augment_class_data(image_paths, target_class, augmentation_count)\n\u001b[0;32m      8\u001b[0m     \u001b[38;5;66;03m# 증강된 이미지 저장\u001b[39;00m\n",
      "\u001b[1;31mFileNotFoundError\u001b[0m: [WinError 3] 지정된 경로를 찾을 수 없습니다: 'data/4'"
     ]
    }
   ],
   "source": [
    "augmentation_count = 10  # 증강 이미지 개수\n",
    "target_classes = [4, 5, 6]  # 적은 클래스\n",
    "\n",
    "for target_class in target_classes:\n",
    "    image_paths = [f\"data/{target_class}/{img}\" for img in os.listdir(f\"data/{target_class}\")]\n",
    "    augmented_images = augment_class_data(image_paths, target_class, augmentation_count)\n",
    "    \n",
    "    # 증강된 이미지 저장\n",
    "    save_dir = f\"augmented_data/{target_class}\"\n",
    "    os.makedirs(save_dir, exist_ok=True)\n",
    "    for i, aug_img in enumerate(augmented_images):\n",
    "        save_path = os.path.join(save_dir, f\"augmented_{i}.jpg\")\n",
    "        cv2.imwrite(save_path, aug_img)"
   ]
  },
  {
   "cell_type": "code",
   "execution_count": 75,
   "metadata": {},
   "outputs": [],
   "source": [
    "# 데이터를 배열로 변환\n",
    "X = np.array(list(image_data.values()))  # 이미지 데이터\n",
    "y = np.array(list(target_data.values()))  # 타겟 데이터\n",
    "\n",
    "# 데이터 정규화\n",
    "X = X / 255.0\n",
    "\n",
    "# 타겟 데이터의 고유 클래스\n",
    "num_classes = len(np.unique(y))"
   ]
  },
  {
   "cell_type": "code",
   "execution_count": 33,
   "metadata": {},
   "outputs": [],
   "source": [
    "valid_classes = [1, 2, 3]\n",
    "indices = [i for i, label in enumerate(y) if label in valid_classes]\n",
    "\n",
    "X_filtered = X[indices]\n",
    "y_filtered = y[indices]"
   ]
  },
  {
   "cell_type": "code",
   "execution_count": 34,
   "metadata": {},
   "outputs": [],
   "source": [
    "class_map = {1: 0, 2: 1, 3: 2}  # 클래스 1, 2, 3을 0, 1, 2로 매핑\n",
    "y_filtered = np.array([class_map[label] for label in y_filtered])"
   ]
  },
  {
   "cell_type": "code",
   "execution_count": 41,
   "metadata": {},
   "outputs": [],
   "source": [
    "from tensorflow.keras.utils import to_categorical\n",
    "from tensorflow.keras.applications import MobileNetV2\n",
    "from tensorflow.keras.applications.mobilenet_v2 import preprocess_input\n",
    "import cv2\n",
    "from tensorflow.keras.callbacks import ReduceLROnPlateau"
   ]
  },
  {
   "cell_type": "code",
   "execution_count": 36,
   "metadata": {},
   "outputs": [
    {
     "name": "stdout",
     "output_type": "stream",
     "text": [
      "X_train shape: (654, 224, 224, 3)\n",
      "y_train shape: (654, 3)\n"
     ]
    }
   ],
   "source": [
    "num_classes = len(valid_classes)\n",
    "y_filtered = to_categorical(y_filtered, num_classes=num_classes)\n",
    "\n",
    "# 입력 크기 (224*224)\n",
    "X_filtered_resized = np.array([cv2.resize(img, (224, 224)) for img in X_filtered])\n",
    "X_filtered_preprocessed = preprocess_input(X_filtered_resized)\n",
    "\n",
    "# Train/Test Split\n",
    "X_train, X_test, y_train, y_test = train_test_split(\n",
    "    X_filtered_preprocessed, y_filtered, test_size=0.2, random_state=42\n",
    ")\n",
    "\n",
    "\n",
    "print(f\"X_train shape: {X_train.shape}\")\n",
    "print(f\"y_train shape: {y_train.shape}\")"
   ]
  },
  {
   "cell_type": "code",
   "execution_count": 69,
   "metadata": {},
   "outputs": [],
   "source": [
    "from tensorflow.keras import layers, models\n",
    "from tensorflow.keras.applications import Dermato\n",
    "\n",
    "\n",
    "base_model = EfficientNetB0(weights='imagenet', include_top=False, input_shape=(224, 224, 3))\n",
    "\n",
    "fine_tune_at = 150\n",
    "for layer in base_model.layers[:fine_tune_at]:\n",
    "    layer.trainable = False"
   ]
  },
  {
   "cell_type": "code",
   "execution_count": 70,
   "metadata": {},
   "outputs": [
    {
     "name": "stdout",
     "output_type": "stream",
     "text": [
      "Model: \"sequential_16\"\n",
      "_________________________________________________________________\n",
      " Layer (type)                Output Shape              Param #   \n",
      "=================================================================\n",
      " efficientnetb0 (Functional  (None, 7, 7, 1280)        4049571   \n",
      " )                                                               \n",
      "                                                                 \n",
      " global_average_pooling2d_1  (None, 1280)              0         \n",
      " 5 (GlobalAveragePooling2D)                                      \n",
      "                                                                 \n",
      " dense_33 (Dense)            (None, 128)               163968    \n",
      "                                                                 \n",
      " dense_34 (Dense)            (None, 3)                 387       \n",
      "                                                                 \n",
      "=================================================================\n",
      "Total params: 4213926 (16.07 MB)\n",
      "Trainable params: 3452059 (13.17 MB)\n",
      "Non-trainable params: 761867 (2.91 MB)\n",
      "_________________________________________________________________\n"
     ]
    }
   ],
   "source": [
    "# 모델 설계\n",
    "model = models.Sequential([\n",
    "    base_model,\n",
    "    layers.GlobalAveragePooling2D(),\n",
    "    layers.Dense(128, activation='relu'),\n",
    "    layers.Dense(num_classes, activation='softmax')\n",
    "])\n",
    "\n",
    "# 모델 컴파일\n",
    "optimizer = Adam(learning_rate=1e-5)\n",
    "model.compile(optimizer=optimizer, loss='categorical_crossentropy', metrics=['accuracy'])\n",
    "\n",
    "# 모델 요약\n",
    "model.summary()"
   ]
  },
  {
   "cell_type": "code",
   "execution_count": 71,
   "metadata": {},
   "outputs": [
    {
     "name": "stdout",
     "output_type": "stream",
     "text": [
      "Epoch 1/20\n",
      "17/17 [==============================] - 31s 1s/step - loss: 1.1937 - accuracy: 0.2447 - val_loss: 1.3057 - val_accuracy: 0.1374\n",
      "Epoch 2/20\n",
      "17/17 [==============================] - 17s 1s/step - loss: 1.0659 - accuracy: 0.4914 - val_loss: 1.3067 - val_accuracy: 0.1374\n",
      "Epoch 3/20\n",
      "17/17 [==============================] - 17s 997ms/step - loss: 1.0082 - accuracy: 0.5449 - val_loss: 1.2901 - val_accuracy: 0.1374\n",
      "Epoch 4/20\n",
      "17/17 [==============================] - 17s 1s/step - loss: 0.9564 - accuracy: 0.6176 - val_loss: 1.2765 - val_accuracy: 0.1374\n",
      "Epoch 5/20\n",
      "17/17 [==============================] - 19s 1s/step - loss: 0.9374 - accuracy: 0.6252 - val_loss: 1.2484 - val_accuracy: 0.1374\n",
      "Epoch 6/20\n",
      "17/17 [==============================] - 20s 1s/step - loss: 0.9081 - accuracy: 0.6444 - val_loss: 1.2296 - val_accuracy: 0.1374\n",
      "Epoch 7/20\n",
      "17/17 [==============================] - 19s 1s/step - loss: 0.9161 - accuracy: 0.6405 - val_loss: 1.2157 - val_accuracy: 0.1374\n",
      "Epoch 8/20\n",
      " 4/17 [======>.......................] - ETA: 11s - loss: 0.8912 - accuracy: 0.6406"
     ]
    },
    {
     "ename": "KeyboardInterrupt",
     "evalue": "",
     "output_type": "error",
     "traceback": [
      "\u001b[1;31m---------------------------------------------------------------------------\u001b[0m",
      "\u001b[1;31mKeyboardInterrupt\u001b[0m                         Traceback (most recent call last)",
      "Cell \u001b[1;32mIn[71], line 7\u001b[0m\n\u001b[0;32m      1\u001b[0m \u001b[38;5;66;03m# lr_scheduler = ReduceLROnPlateau(\u001b[39;00m\n\u001b[0;32m      2\u001b[0m \u001b[38;5;66;03m#     monitor='val_loss', factor=0.5, patience=5, min_lr=1e-6, verbose=1\u001b[39;00m\n\u001b[0;32m      3\u001b[0m \u001b[38;5;66;03m# )\u001b[39;00m\n\u001b[0;32m      4\u001b[0m \n\u001b[0;32m      5\u001b[0m \n\u001b[0;32m      6\u001b[0m \u001b[38;5;66;03m# 학습 진행\u001b[39;00m\n\u001b[1;32m----> 7\u001b[0m history \u001b[38;5;241m=\u001b[39m \u001b[43mmodel\u001b[49m\u001b[38;5;241;43m.\u001b[39;49m\u001b[43mfit\u001b[49m\u001b[43m(\u001b[49m\n\u001b[0;32m      8\u001b[0m \u001b[43m    \u001b[49m\u001b[43mX_train\u001b[49m\u001b[43m,\u001b[49m\u001b[43m \u001b[49m\u001b[43my_train\u001b[49m\u001b[43m,\u001b[49m\n\u001b[0;32m      9\u001b[0m \u001b[43m    \u001b[49m\u001b[38;5;66;43;03m# validation_data = (X_test, y_test),\u001b[39;49;00m\n\u001b[0;32m     10\u001b[0m \u001b[43m    \u001b[49m\u001b[43mepochs\u001b[49m\u001b[38;5;241;43m=\u001b[39;49m\u001b[38;5;241;43m20\u001b[39;49m\u001b[43m,\u001b[49m\n\u001b[0;32m     11\u001b[0m \u001b[43m    \u001b[49m\u001b[43mbatch_size\u001b[49m\u001b[38;5;241;43m=\u001b[39;49m\u001b[38;5;241;43m32\u001b[39;49m\u001b[43m,\u001b[49m\n\u001b[0;32m     12\u001b[0m \u001b[43m    \u001b[49m\u001b[38;5;66;43;03m# class_weights = class_weights,\u001b[39;49;00m\n\u001b[0;32m     13\u001b[0m \u001b[43m    \u001b[49m\u001b[43mvalidation_split\u001b[49m\u001b[38;5;241;43m=\u001b[39;49m\u001b[38;5;241;43m0.2\u001b[39;49m\u001b[43m,\u001b[49m\n\u001b[0;32m     14\u001b[0m \u001b[43m    \u001b[49m\u001b[38;5;66;43;03m# callbacks=[lr_scheduler]\u001b[39;49;00m\n\u001b[0;32m     15\u001b[0m \u001b[43m)\u001b[49m\n",
      "File \u001b[1;32mc:\\Users\\human\\.conda\\envs\\human-dl-env2\\lib\\site-packages\\keras\\src\\utils\\traceback_utils.py:65\u001b[0m, in \u001b[0;36mfilter_traceback.<locals>.error_handler\u001b[1;34m(*args, **kwargs)\u001b[0m\n\u001b[0;32m     63\u001b[0m filtered_tb \u001b[38;5;241m=\u001b[39m \u001b[38;5;28;01mNone\u001b[39;00m\n\u001b[0;32m     64\u001b[0m \u001b[38;5;28;01mtry\u001b[39;00m:\n\u001b[1;32m---> 65\u001b[0m     \u001b[38;5;28;01mreturn\u001b[39;00m fn(\u001b[38;5;241m*\u001b[39margs, \u001b[38;5;241m*\u001b[39m\u001b[38;5;241m*\u001b[39mkwargs)\n\u001b[0;32m     66\u001b[0m \u001b[38;5;28;01mexcept\u001b[39;00m \u001b[38;5;167;01mException\u001b[39;00m \u001b[38;5;28;01mas\u001b[39;00m e:\n\u001b[0;32m     67\u001b[0m     filtered_tb \u001b[38;5;241m=\u001b[39m _process_traceback_frames(e\u001b[38;5;241m.\u001b[39m__traceback__)\n",
      "File \u001b[1;32mc:\\Users\\human\\.conda\\envs\\human-dl-env2\\lib\\site-packages\\keras\\src\\engine\\training.py:1807\u001b[0m, in \u001b[0;36mModel.fit\u001b[1;34m(self, x, y, batch_size, epochs, verbose, callbacks, validation_split, validation_data, shuffle, class_weight, sample_weight, initial_epoch, steps_per_epoch, validation_steps, validation_batch_size, validation_freq, max_queue_size, workers, use_multiprocessing)\u001b[0m\n\u001b[0;32m   1799\u001b[0m \u001b[38;5;28;01mwith\u001b[39;00m tf\u001b[38;5;241m.\u001b[39mprofiler\u001b[38;5;241m.\u001b[39mexperimental\u001b[38;5;241m.\u001b[39mTrace(\n\u001b[0;32m   1800\u001b[0m     \u001b[38;5;124m\"\u001b[39m\u001b[38;5;124mtrain\u001b[39m\u001b[38;5;124m\"\u001b[39m,\n\u001b[0;32m   1801\u001b[0m     epoch_num\u001b[38;5;241m=\u001b[39mepoch,\n\u001b[1;32m   (...)\u001b[0m\n\u001b[0;32m   1804\u001b[0m     _r\u001b[38;5;241m=\u001b[39m\u001b[38;5;241m1\u001b[39m,\n\u001b[0;32m   1805\u001b[0m ):\n\u001b[0;32m   1806\u001b[0m     callbacks\u001b[38;5;241m.\u001b[39mon_train_batch_begin(step)\n\u001b[1;32m-> 1807\u001b[0m     tmp_logs \u001b[38;5;241m=\u001b[39m \u001b[38;5;28;43mself\u001b[39;49m\u001b[38;5;241;43m.\u001b[39;49m\u001b[43mtrain_function\u001b[49m\u001b[43m(\u001b[49m\u001b[43miterator\u001b[49m\u001b[43m)\u001b[49m\n\u001b[0;32m   1808\u001b[0m     \u001b[38;5;28;01mif\u001b[39;00m data_handler\u001b[38;5;241m.\u001b[39mshould_sync:\n\u001b[0;32m   1809\u001b[0m         context\u001b[38;5;241m.\u001b[39masync_wait()\n",
      "File \u001b[1;32mc:\\Users\\human\\.conda\\envs\\human-dl-env2\\lib\\site-packages\\tensorflow\\python\\util\\traceback_utils.py:150\u001b[0m, in \u001b[0;36mfilter_traceback.<locals>.error_handler\u001b[1;34m(*args, **kwargs)\u001b[0m\n\u001b[0;32m    148\u001b[0m filtered_tb \u001b[38;5;241m=\u001b[39m \u001b[38;5;28;01mNone\u001b[39;00m\n\u001b[0;32m    149\u001b[0m \u001b[38;5;28;01mtry\u001b[39;00m:\n\u001b[1;32m--> 150\u001b[0m   \u001b[38;5;28;01mreturn\u001b[39;00m fn(\u001b[38;5;241m*\u001b[39margs, \u001b[38;5;241m*\u001b[39m\u001b[38;5;241m*\u001b[39mkwargs)\n\u001b[0;32m    151\u001b[0m \u001b[38;5;28;01mexcept\u001b[39;00m \u001b[38;5;167;01mException\u001b[39;00m \u001b[38;5;28;01mas\u001b[39;00m e:\n\u001b[0;32m    152\u001b[0m   filtered_tb \u001b[38;5;241m=\u001b[39m _process_traceback_frames(e\u001b[38;5;241m.\u001b[39m__traceback__)\n",
      "File \u001b[1;32mc:\\Users\\human\\.conda\\envs\\human-dl-env2\\lib\\site-packages\\tensorflow\\python\\eager\\polymorphic_function\\polymorphic_function.py:832\u001b[0m, in \u001b[0;36mFunction.__call__\u001b[1;34m(self, *args, **kwds)\u001b[0m\n\u001b[0;32m    829\u001b[0m compiler \u001b[38;5;241m=\u001b[39m \u001b[38;5;124m\"\u001b[39m\u001b[38;5;124mxla\u001b[39m\u001b[38;5;124m\"\u001b[39m \u001b[38;5;28;01mif\u001b[39;00m \u001b[38;5;28mself\u001b[39m\u001b[38;5;241m.\u001b[39m_jit_compile \u001b[38;5;28;01melse\u001b[39;00m \u001b[38;5;124m\"\u001b[39m\u001b[38;5;124mnonXla\u001b[39m\u001b[38;5;124m\"\u001b[39m\n\u001b[0;32m    831\u001b[0m \u001b[38;5;28;01mwith\u001b[39;00m OptionalXlaContext(\u001b[38;5;28mself\u001b[39m\u001b[38;5;241m.\u001b[39m_jit_compile):\n\u001b[1;32m--> 832\u001b[0m   result \u001b[38;5;241m=\u001b[39m \u001b[38;5;28mself\u001b[39m\u001b[38;5;241m.\u001b[39m_call(\u001b[38;5;241m*\u001b[39margs, \u001b[38;5;241m*\u001b[39m\u001b[38;5;241m*\u001b[39mkwds)\n\u001b[0;32m    834\u001b[0m new_tracing_count \u001b[38;5;241m=\u001b[39m \u001b[38;5;28mself\u001b[39m\u001b[38;5;241m.\u001b[39mexperimental_get_tracing_count()\n\u001b[0;32m    835\u001b[0m without_tracing \u001b[38;5;241m=\u001b[39m (tracing_count \u001b[38;5;241m==\u001b[39m new_tracing_count)\n",
      "File \u001b[1;32mc:\\Users\\human\\.conda\\envs\\human-dl-env2\\lib\\site-packages\\tensorflow\\python\\eager\\polymorphic_function\\polymorphic_function.py:868\u001b[0m, in \u001b[0;36mFunction._call\u001b[1;34m(self, *args, **kwds)\u001b[0m\n\u001b[0;32m    865\u001b[0m   \u001b[38;5;28mself\u001b[39m\u001b[38;5;241m.\u001b[39m_lock\u001b[38;5;241m.\u001b[39mrelease()\n\u001b[0;32m    866\u001b[0m   \u001b[38;5;66;03m# In this case we have created variables on the first call, so we run the\u001b[39;00m\n\u001b[0;32m    867\u001b[0m   \u001b[38;5;66;03m# defunned version which is guaranteed to never create variables.\u001b[39;00m\n\u001b[1;32m--> 868\u001b[0m   \u001b[38;5;28;01mreturn\u001b[39;00m \u001b[43mtracing_compilation\u001b[49m\u001b[38;5;241;43m.\u001b[39;49m\u001b[43mcall_function\u001b[49m\u001b[43m(\u001b[49m\n\u001b[0;32m    869\u001b[0m \u001b[43m      \u001b[49m\u001b[43margs\u001b[49m\u001b[43m,\u001b[49m\u001b[43m \u001b[49m\u001b[43mkwds\u001b[49m\u001b[43m,\u001b[49m\u001b[43m \u001b[49m\u001b[38;5;28;43mself\u001b[39;49m\u001b[38;5;241;43m.\u001b[39;49m\u001b[43m_no_variable_creation_config\u001b[49m\n\u001b[0;32m    870\u001b[0m \u001b[43m  \u001b[49m\u001b[43m)\u001b[49m\n\u001b[0;32m    871\u001b[0m \u001b[38;5;28;01melif\u001b[39;00m \u001b[38;5;28mself\u001b[39m\u001b[38;5;241m.\u001b[39m_variable_creation_config \u001b[38;5;129;01mis\u001b[39;00m \u001b[38;5;129;01mnot\u001b[39;00m \u001b[38;5;28;01mNone\u001b[39;00m:\n\u001b[0;32m    872\u001b[0m   \u001b[38;5;66;03m# Release the lock early so that multiple threads can perform the call\u001b[39;00m\n\u001b[0;32m    873\u001b[0m   \u001b[38;5;66;03m# in parallel.\u001b[39;00m\n\u001b[0;32m    874\u001b[0m   \u001b[38;5;28mself\u001b[39m\u001b[38;5;241m.\u001b[39m_lock\u001b[38;5;241m.\u001b[39mrelease()\n",
      "File \u001b[1;32mc:\\Users\\human\\.conda\\envs\\human-dl-env2\\lib\\site-packages\\tensorflow\\python\\eager\\polymorphic_function\\tracing_compilation.py:139\u001b[0m, in \u001b[0;36mcall_function\u001b[1;34m(args, kwargs, tracing_options)\u001b[0m\n\u001b[0;32m    137\u001b[0m bound_args \u001b[38;5;241m=\u001b[39m function\u001b[38;5;241m.\u001b[39mfunction_type\u001b[38;5;241m.\u001b[39mbind(\u001b[38;5;241m*\u001b[39margs, \u001b[38;5;241m*\u001b[39m\u001b[38;5;241m*\u001b[39mkwargs)\n\u001b[0;32m    138\u001b[0m flat_inputs \u001b[38;5;241m=\u001b[39m function\u001b[38;5;241m.\u001b[39mfunction_type\u001b[38;5;241m.\u001b[39munpack_inputs(bound_args)\n\u001b[1;32m--> 139\u001b[0m \u001b[38;5;28;01mreturn\u001b[39;00m \u001b[43mfunction\u001b[49m\u001b[38;5;241;43m.\u001b[39;49m\u001b[43m_call_flat\u001b[49m\u001b[43m(\u001b[49m\u001b[43m  \u001b[49m\u001b[38;5;66;43;03m# pylint: disable=protected-access\u001b[39;49;00m\n\u001b[0;32m    140\u001b[0m \u001b[43m    \u001b[49m\u001b[43mflat_inputs\u001b[49m\u001b[43m,\u001b[49m\u001b[43m \u001b[49m\u001b[43mcaptured_inputs\u001b[49m\u001b[38;5;241;43m=\u001b[39;49m\u001b[43mfunction\u001b[49m\u001b[38;5;241;43m.\u001b[39;49m\u001b[43mcaptured_inputs\u001b[49m\n\u001b[0;32m    141\u001b[0m \u001b[43m\u001b[49m\u001b[43m)\u001b[49m\n",
      "File \u001b[1;32mc:\\Users\\human\\.conda\\envs\\human-dl-env2\\lib\\site-packages\\tensorflow\\python\\eager\\polymorphic_function\\concrete_function.py:1323\u001b[0m, in \u001b[0;36mConcreteFunction._call_flat\u001b[1;34m(self, tensor_inputs, captured_inputs)\u001b[0m\n\u001b[0;32m   1319\u001b[0m possible_gradient_type \u001b[38;5;241m=\u001b[39m gradients_util\u001b[38;5;241m.\u001b[39mPossibleTapeGradientTypes(args)\n\u001b[0;32m   1320\u001b[0m \u001b[38;5;28;01mif\u001b[39;00m (possible_gradient_type \u001b[38;5;241m==\u001b[39m gradients_util\u001b[38;5;241m.\u001b[39mPOSSIBLE_GRADIENT_TYPES_NONE\n\u001b[0;32m   1321\u001b[0m     \u001b[38;5;129;01mand\u001b[39;00m executing_eagerly):\n\u001b[0;32m   1322\u001b[0m   \u001b[38;5;66;03m# No tape is watching; skip to running the function.\u001b[39;00m\n\u001b[1;32m-> 1323\u001b[0m   \u001b[38;5;28;01mreturn\u001b[39;00m \u001b[38;5;28;43mself\u001b[39;49m\u001b[38;5;241;43m.\u001b[39;49m\u001b[43m_inference_function\u001b[49m\u001b[38;5;241;43m.\u001b[39;49m\u001b[43mcall_preflattened\u001b[49m\u001b[43m(\u001b[49m\u001b[43margs\u001b[49m\u001b[43m)\u001b[49m\n\u001b[0;32m   1324\u001b[0m forward_backward \u001b[38;5;241m=\u001b[39m \u001b[38;5;28mself\u001b[39m\u001b[38;5;241m.\u001b[39m_select_forward_and_backward_functions(\n\u001b[0;32m   1325\u001b[0m     args,\n\u001b[0;32m   1326\u001b[0m     possible_gradient_type,\n\u001b[0;32m   1327\u001b[0m     executing_eagerly)\n\u001b[0;32m   1328\u001b[0m forward_function, args_with_tangents \u001b[38;5;241m=\u001b[39m forward_backward\u001b[38;5;241m.\u001b[39mforward()\n",
      "File \u001b[1;32mc:\\Users\\human\\.conda\\envs\\human-dl-env2\\lib\\site-packages\\tensorflow\\python\\eager\\polymorphic_function\\atomic_function.py:216\u001b[0m, in \u001b[0;36mAtomicFunction.call_preflattened\u001b[1;34m(self, args)\u001b[0m\n\u001b[0;32m    214\u001b[0m \u001b[38;5;28;01mdef\u001b[39;00m \u001b[38;5;21mcall_preflattened\u001b[39m(\u001b[38;5;28mself\u001b[39m, args: Sequence[core\u001b[38;5;241m.\u001b[39mTensor]) \u001b[38;5;241m-\u001b[39m\u001b[38;5;241m>\u001b[39m Any:\n\u001b[0;32m    215\u001b[0m \u001b[38;5;250m  \u001b[39m\u001b[38;5;124;03m\"\"\"Calls with flattened tensor inputs and returns the structured output.\"\"\"\u001b[39;00m\n\u001b[1;32m--> 216\u001b[0m   flat_outputs \u001b[38;5;241m=\u001b[39m \u001b[38;5;28;43mself\u001b[39;49m\u001b[38;5;241;43m.\u001b[39;49m\u001b[43mcall_flat\u001b[49m\u001b[43m(\u001b[49m\u001b[38;5;241;43m*\u001b[39;49m\u001b[43margs\u001b[49m\u001b[43m)\u001b[49m\n\u001b[0;32m    217\u001b[0m   \u001b[38;5;28;01mreturn\u001b[39;00m \u001b[38;5;28mself\u001b[39m\u001b[38;5;241m.\u001b[39mfunction_type\u001b[38;5;241m.\u001b[39mpack_output(flat_outputs)\n",
      "File \u001b[1;32mc:\\Users\\human\\.conda\\envs\\human-dl-env2\\lib\\site-packages\\tensorflow\\python\\eager\\polymorphic_function\\atomic_function.py:251\u001b[0m, in \u001b[0;36mAtomicFunction.call_flat\u001b[1;34m(self, *args)\u001b[0m\n\u001b[0;32m    249\u001b[0m \u001b[38;5;28;01mwith\u001b[39;00m record\u001b[38;5;241m.\u001b[39mstop_recording():\n\u001b[0;32m    250\u001b[0m   \u001b[38;5;28;01mif\u001b[39;00m \u001b[38;5;28mself\u001b[39m\u001b[38;5;241m.\u001b[39m_bound_context\u001b[38;5;241m.\u001b[39mexecuting_eagerly():\n\u001b[1;32m--> 251\u001b[0m     outputs \u001b[38;5;241m=\u001b[39m \u001b[38;5;28;43mself\u001b[39;49m\u001b[38;5;241;43m.\u001b[39;49m\u001b[43m_bound_context\u001b[49m\u001b[38;5;241;43m.\u001b[39;49m\u001b[43mcall_function\u001b[49m\u001b[43m(\u001b[49m\n\u001b[0;32m    252\u001b[0m \u001b[43m        \u001b[49m\u001b[38;5;28;43mself\u001b[39;49m\u001b[38;5;241;43m.\u001b[39;49m\u001b[43mname\u001b[49m\u001b[43m,\u001b[49m\n\u001b[0;32m    253\u001b[0m \u001b[43m        \u001b[49m\u001b[38;5;28;43mlist\u001b[39;49m\u001b[43m(\u001b[49m\u001b[43margs\u001b[49m\u001b[43m)\u001b[49m\u001b[43m,\u001b[49m\n\u001b[0;32m    254\u001b[0m \u001b[43m        \u001b[49m\u001b[38;5;28;43mlen\u001b[39;49m\u001b[43m(\u001b[49m\u001b[38;5;28;43mself\u001b[39;49m\u001b[38;5;241;43m.\u001b[39;49m\u001b[43mfunction_type\u001b[49m\u001b[38;5;241;43m.\u001b[39;49m\u001b[43mflat_outputs\u001b[49m\u001b[43m)\u001b[49m\u001b[43m,\u001b[49m\n\u001b[0;32m    255\u001b[0m \u001b[43m    \u001b[49m\u001b[43m)\u001b[49m\n\u001b[0;32m    256\u001b[0m   \u001b[38;5;28;01melse\u001b[39;00m:\n\u001b[0;32m    257\u001b[0m     outputs \u001b[38;5;241m=\u001b[39m make_call_op_in_graph(\n\u001b[0;32m    258\u001b[0m         \u001b[38;5;28mself\u001b[39m,\n\u001b[0;32m    259\u001b[0m         \u001b[38;5;28mlist\u001b[39m(args),\n\u001b[0;32m    260\u001b[0m         \u001b[38;5;28mself\u001b[39m\u001b[38;5;241m.\u001b[39m_bound_context\u001b[38;5;241m.\u001b[39mfunction_call_options\u001b[38;5;241m.\u001b[39mas_attrs(),\n\u001b[0;32m    261\u001b[0m     )\n",
      "File \u001b[1;32mc:\\Users\\human\\.conda\\envs\\human-dl-env2\\lib\\site-packages\\tensorflow\\python\\eager\\context.py:1486\u001b[0m, in \u001b[0;36mContext.call_function\u001b[1;34m(self, name, tensor_inputs, num_outputs)\u001b[0m\n\u001b[0;32m   1484\u001b[0m cancellation_context \u001b[38;5;241m=\u001b[39m cancellation\u001b[38;5;241m.\u001b[39mcontext()\n\u001b[0;32m   1485\u001b[0m \u001b[38;5;28;01mif\u001b[39;00m cancellation_context \u001b[38;5;129;01mis\u001b[39;00m \u001b[38;5;28;01mNone\u001b[39;00m:\n\u001b[1;32m-> 1486\u001b[0m   outputs \u001b[38;5;241m=\u001b[39m \u001b[43mexecute\u001b[49m\u001b[38;5;241;43m.\u001b[39;49m\u001b[43mexecute\u001b[49m\u001b[43m(\u001b[49m\n\u001b[0;32m   1487\u001b[0m \u001b[43m      \u001b[49m\u001b[43mname\u001b[49m\u001b[38;5;241;43m.\u001b[39;49m\u001b[43mdecode\u001b[49m\u001b[43m(\u001b[49m\u001b[38;5;124;43m\"\u001b[39;49m\u001b[38;5;124;43mutf-8\u001b[39;49m\u001b[38;5;124;43m\"\u001b[39;49m\u001b[43m)\u001b[49m\u001b[43m,\u001b[49m\n\u001b[0;32m   1488\u001b[0m \u001b[43m      \u001b[49m\u001b[43mnum_outputs\u001b[49m\u001b[38;5;241;43m=\u001b[39;49m\u001b[43mnum_outputs\u001b[49m\u001b[43m,\u001b[49m\n\u001b[0;32m   1489\u001b[0m \u001b[43m      \u001b[49m\u001b[43minputs\u001b[49m\u001b[38;5;241;43m=\u001b[39;49m\u001b[43mtensor_inputs\u001b[49m\u001b[43m,\u001b[49m\n\u001b[0;32m   1490\u001b[0m \u001b[43m      \u001b[49m\u001b[43mattrs\u001b[49m\u001b[38;5;241;43m=\u001b[39;49m\u001b[43mattrs\u001b[49m\u001b[43m,\u001b[49m\n\u001b[0;32m   1491\u001b[0m \u001b[43m      \u001b[49m\u001b[43mctx\u001b[49m\u001b[38;5;241;43m=\u001b[39;49m\u001b[38;5;28;43mself\u001b[39;49m\u001b[43m,\u001b[49m\n\u001b[0;32m   1492\u001b[0m \u001b[43m  \u001b[49m\u001b[43m)\u001b[49m\n\u001b[0;32m   1493\u001b[0m \u001b[38;5;28;01melse\u001b[39;00m:\n\u001b[0;32m   1494\u001b[0m   outputs \u001b[38;5;241m=\u001b[39m execute\u001b[38;5;241m.\u001b[39mexecute_with_cancellation(\n\u001b[0;32m   1495\u001b[0m       name\u001b[38;5;241m.\u001b[39mdecode(\u001b[38;5;124m\"\u001b[39m\u001b[38;5;124mutf-8\u001b[39m\u001b[38;5;124m\"\u001b[39m),\n\u001b[0;32m   1496\u001b[0m       num_outputs\u001b[38;5;241m=\u001b[39mnum_outputs,\n\u001b[1;32m   (...)\u001b[0m\n\u001b[0;32m   1500\u001b[0m       cancellation_manager\u001b[38;5;241m=\u001b[39mcancellation_context,\n\u001b[0;32m   1501\u001b[0m   )\n",
      "File \u001b[1;32mc:\\Users\\human\\.conda\\envs\\human-dl-env2\\lib\\site-packages\\tensorflow\\python\\eager\\execute.py:53\u001b[0m, in \u001b[0;36mquick_execute\u001b[1;34m(op_name, num_outputs, inputs, attrs, ctx, name)\u001b[0m\n\u001b[0;32m     51\u001b[0m \u001b[38;5;28;01mtry\u001b[39;00m:\n\u001b[0;32m     52\u001b[0m   ctx\u001b[38;5;241m.\u001b[39mensure_initialized()\n\u001b[1;32m---> 53\u001b[0m   tensors \u001b[38;5;241m=\u001b[39m \u001b[43mpywrap_tfe\u001b[49m\u001b[38;5;241;43m.\u001b[39;49m\u001b[43mTFE_Py_Execute\u001b[49m\u001b[43m(\u001b[49m\u001b[43mctx\u001b[49m\u001b[38;5;241;43m.\u001b[39;49m\u001b[43m_handle\u001b[49m\u001b[43m,\u001b[49m\u001b[43m \u001b[49m\u001b[43mdevice_name\u001b[49m\u001b[43m,\u001b[49m\u001b[43m \u001b[49m\u001b[43mop_name\u001b[49m\u001b[43m,\u001b[49m\n\u001b[0;32m     54\u001b[0m \u001b[43m                                      \u001b[49m\u001b[43minputs\u001b[49m\u001b[43m,\u001b[49m\u001b[43m \u001b[49m\u001b[43mattrs\u001b[49m\u001b[43m,\u001b[49m\u001b[43m \u001b[49m\u001b[43mnum_outputs\u001b[49m\u001b[43m)\u001b[49m\n\u001b[0;32m     55\u001b[0m \u001b[38;5;28;01mexcept\u001b[39;00m core\u001b[38;5;241m.\u001b[39m_NotOkStatusException \u001b[38;5;28;01mas\u001b[39;00m e:\n\u001b[0;32m     56\u001b[0m   \u001b[38;5;28;01mif\u001b[39;00m name \u001b[38;5;129;01mis\u001b[39;00m \u001b[38;5;129;01mnot\u001b[39;00m \u001b[38;5;28;01mNone\u001b[39;00m:\n",
      "\u001b[1;31mKeyboardInterrupt\u001b[0m: "
     ]
    }
   ],
   "source": [
    "# lr_scheduler = ReduceLROnPlateau(\n",
    "#     monitor='val_loss', factor=0.5, patience=5, min_lr=1e-6, verbose=1\n",
    "# )\n",
    "\n",
    "\n",
    "# 학습 진행\n",
    "history = model.fit(\n",
    "    X_train, y_train,\n",
    "    # validation_data = (X_test, y_test),\n",
    "    epochs=20,\n",
    "    batch_size=32,\n",
    "    # class_weights = class_weights,\n",
    "    validation_split=0.2,\n",
    "    # callbacks=[lr_scheduler]\n",
    ")"
   ]
  },
  {
   "cell_type": "code",
   "execution_count": 73,
   "metadata": {},
   "outputs": [
    {
     "data": {
      "image/png": "[encoded data removed]",
      "text/plain": [
       "<Figure size 640x480 with 2 Axes>"
      ]
     },
     "metadata": {},
     "output_type": "display_data"
    }
   ],
   "source": [
    "from sklearn.decomposition import PCA\n",
    "from sklearn.manifold import TSNE\n",
    "\n",
    "# 데이터 차원 축소 및 시각화\n",
    "pca = PCA(n_components=2)\n",
    "X_reduced = pca.fit_transform(X_train.reshape(X_train.shape[0], -1))\n",
    "\n",
    "plt.scatter(X_reduced[:, 0], X_reduced[:, 1], c=np.argmax(y_train, axis=1))\n",
    "plt.colorbar()\n",
    "plt.title(\"Data distribution\")\n",
    "plt.show()"
   ]
  }
 ],
 "metadata": {
  "kernelspec": {
   "display_name": "human-dl-env2",
   "language": "python",
   "name": "python3"
  },
  "language_info": {
   "codemirror_mode": {
    "name": "ipython",
    "version": 3
   },
   "file_extension": ".py",
   "mimetype": "text/x-python",
   "name": "python",
   "nbconvert_exporter": "python",
   "pygments_lexer": "ipython3",
   "version": "3.9.21"
  }
 },
 "nbformat": 4,
 "nbformat_minor": 2
}
