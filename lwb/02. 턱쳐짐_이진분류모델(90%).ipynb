{
 "cells": [
  {
   "cell_type": "code",
   "execution_count": 87,
   "metadata": {},
   "outputs": [],
   "source": [
    "import pickle\n",
    "import numpy as np\n",
    "from sklearn.model_selection import train_test_split\n",
    "from sklearn.utils.class_weight import compute_class_weight\n",
    "import cv2\n",
    "import os\n",
    "import tensorflow as tf\n",
    "import json\n",
    "import crop\n",
    "\n",
    "\n",
    "from tensorflow.keras import layers, models\n",
    "from tensorflow.keras.optimizers import Adam\n",
    "from tensorflow.keras.utils import to_categorical\n",
    "from tensorflow.keras.callbacks import EarlyStopping"
   ]
  },
  {
   "cell_type": "markdown",
   "metadata": {},
   "source": [
    "### _08: 턱쳐짐(chin_sagging)에 대해 bbox_crop"
   ]
  },
  {
   "cell_type": "code",
   "execution_count": 88,
   "metadata": {},
   "outputs": [],
   "source": [
    "label_key = \"_F_08.json\"\n",
    "annotation_key = \"chin_sagging\"\n",
    "image_data, target_data = crop.process_files(label_key, annotation_key)"
   ]
  },
  {
   "cell_type": "code",
   "execution_count": 89,
   "metadata": {},
   "outputs": [
    {
     "name": "stdout",
     "output_type": "stream",
     "text": [
      "Number of images processed: 2574\n",
      "Number of targets processed: 2574\n"
     ]
    }
   ],
   "source": [
    "print(f\"Number of images processed: {len(image_data)}\")\n",
    "print(f\"Number of targets processed: {len(target_data)}\")"
   ]
  },
  {
   "cell_type": "markdown",
   "metadata": {},
   "source": [
    "### 데이터 저장 및 불러오기"
   ]
  },
  {
   "cell_type": "code",
   "execution_count": 90,
   "metadata": {},
   "outputs": [],
   "source": [
    "# 이미지, 타겟 데이터 저장\n",
    "with open('chin_sagging_image_data.pkl', 'wb') as f:\n",
    "    pickle.dump(image_data, f)\n",
    "\n",
    "with open('chin_sagging_target_data.pkl', 'wb') as f:\n",
    "    pickle.dump(target_data, f)"
   ]
  },
  {
   "cell_type": "code",
   "execution_count": 91,
   "metadata": {},
   "outputs": [],
   "source": [
    "# 데이터 로드\n",
    "with open('chin_sagging_image_data.pkl', 'rb') as f:\n",
    "    image_data = pickle.load(f)\n",
    "\n",
    "with open('chin_sagging_target_data.pkl', 'rb') as f:\n",
    "    target_data = pickle.load(f)"
   ]
  },
  {
   "cell_type": "code",
   "execution_count": 92,
   "metadata": {},
   "outputs": [
    {
     "name": "stdout",
     "output_type": "stream",
     "text": [
      "Value: 0, Count: 1167\n",
      "Value: 1, Count: 519\n",
      "Value: 2, Count: 333\n",
      "Value: 3, Count: 324\n",
      "Value: 5, Count: 87\n",
      "Value: 4, Count: 141\n",
      "Value: 6, Count: 3\n"
     ]
    }
   ],
   "source": [
    "# 데이터 카운트\n",
    "from collections import Counter\n",
    "\n",
    "values_list = list(target_data.values())\n",
    "value_counts = Counter(values_list)\n",
    "\n",
    "for value, count in value_counts.items():\n",
    "    print(f\"Value: {value}, Count: {count}\")"
   ]
  },
  {
   "cell_type": "markdown",
   "metadata": {},
   "source": [
    "### 0, (2,3,4,5,6)으로 모델링"
   ]
  },
  {
   "cell_type": "code",
   "execution_count": 93,
   "metadata": {},
   "outputs": [],
   "source": [
    "def merge_classes(target_data):\n",
    "    binary_target_data = {}\n",
    "    for key, value in target_data.items():\n",
    "        if value in [2, 3, 4, 5, 6]:\n",
    "            binary_target_data[key] = '10'\n",
    "        else:\n",
    "            binary_target_data[key] = value\n",
    "    \n",
    "    return binary_target_data\n",
    "\n",
    "binary_target_data = merge_classes(target_data)"
   ]
  },
  {
   "cell_type": "code",
   "execution_count": 94,
   "metadata": {},
   "outputs": [
    {
     "name": "stdout",
     "output_type": "stream",
     "text": [
      "Value: 0, Count: 1167\n",
      "Value: 10, Count: 888\n"
     ]
    }
   ],
   "source": [
    "filtered_target_data = {key: value for key, value in binary_target_data.items() if value in [0, '10']}\n",
    "\n",
    "\n",
    "values_list = list(filtered_target_data.values())\n",
    "value_counts = Counter(values_list)\n",
    "\n",
    "for value, count in value_counts.items():\n",
    "    print(f\"Value: {value}, Count: {count}\")"
   ]
  },
  {
   "cell_type": "code",
   "execution_count": 95,
   "metadata": {},
   "outputs": [
    {
     "name": "stdout",
     "output_type": "stream",
     "text": [
      "Length of X: 2055, Length of y: 2055\n"
     ]
    }
   ],
   "source": [
    "common_keys = set(image_data.keys()) & set(filtered_target_data.keys())\n",
    "\n",
    "# 데이터 정렬\n",
    "filtered_image_data = {key: image_data[key] for key in common_keys}\n",
    "filtered_target_data = {key: filtered_target_data[key] for key in common_keys}\n",
    "\n",
    "# X와 y 생성\n",
    "X = np.array(list(filtered_image_data.values()))\n",
    "y = np.array(list(filtered_target_data.values()))\n",
    "\n",
    "print(f\"Length of X: {len(X)}, Length of y: {len(y)}\")"
   ]
  },
  {
   "cell_type": "code",
   "execution_count": 96,
   "metadata": {},
   "outputs": [
    {
     "name": "stdout",
     "output_type": "stream",
     "text": [
      "X_train shape: (1644, 128, 128, 3), y_train shape: (1644,)\n",
      "X_test shape: (411, 128, 128, 3), y_test shape: (411,)\n"
     ]
    }
   ],
   "source": [
    "class_mapping = {'0': 0, '10': 1}\n",
    "y = np.array([class_mapping[label] for label in y])\n",
    "X = X / 255.0\n",
    "\n",
    "X_train, X_test, y_train, y_test = train_test_split(X, y, test_size=0.2, random_state=42)\n",
    "\n",
    "print(f\"X_train shape: {X_train.shape}, y_train shape: {y_train.shape}\")\n",
    "print(f\"X_test shape: {X_test.shape}, y_test shape: {y_test.shape}\")"
   ]
  },
  {
   "cell_type": "code",
   "execution_count": 97,
   "metadata": {},
   "outputs": [
    {
     "name": "stdout",
     "output_type": "stream",
     "text": [
      "Model: \"sequential_11\"\n",
      "_________________________________________________________________\n",
      " Layer (type)                Output Shape              Param #   \n",
      "=================================================================\n",
      " conv2d_39 (Conv2D)          (None, 126, 126, 32)      896       \n",
      "                                                                 \n",
      " max_pooling2d_39 (MaxPooli  (None, 63, 63, 32)        0         \n",
      " ng2D)                                                           \n",
      "                                                                 \n",
      " conv2d_40 (Conv2D)          (None, 61, 61, 64)        18496     \n",
      "                                                                 \n",
      " max_pooling2d_40 (MaxPooli  (None, 30, 30, 64)        0         \n",
      " ng2D)                                                           \n",
      "                                                                 \n",
      " conv2d_41 (Conv2D)          (None, 28, 28, 128)       73856     \n",
      "                                                                 \n",
      " max_pooling2d_41 (MaxPooli  (None, 14, 14, 128)       0         \n",
      " ng2D)                                                           \n",
      "                                                                 \n",
      " flatten_4 (Flatten)         (None, 25088)             0         \n",
      "                                                                 \n",
      " dense_22 (Dense)            (None, 128)               3211392   \n",
      "                                                                 \n",
      " dropout_13 (Dropout)        (None, 128)               0         \n",
      "                                                                 \n",
      " dense_23 (Dense)            (None, 1)                 129       \n",
      "                                                                 \n",
      "=================================================================\n",
      "Total params: 3304769 (12.61 MB)\n",
      "Trainable params: 3304769 (12.61 MB)\n",
      "Non-trainable params: 0 (0.00 Byte)\n",
      "_________________________________________________________________\n"
     ]
    }
   ],
   "source": [
    "model = models.Sequential([\n",
    "    layers.Conv2D(32, (3, 3), activation='relu', input_shape=(X.shape[1], X.shape[2], X.shape[3])),\n",
    "    layers.MaxPooling2D((2, 2)),\n",
    "    layers.Conv2D(64, (3, 3), activation='relu'),\n",
    "    layers.MaxPooling2D((2, 2)),\n",
    "    layers.Conv2D(128, (3, 3), activation='relu'),\n",
    "    layers.MaxPooling2D((2, 2)),\n",
    "    layers.Flatten(),\n",
    "    layers.Dense(128, activation='relu'),\n",
    "    layers.Dropout(0.5),\n",
    "    layers.Dense(1, activation='sigmoid')  # 출력층\n",
    "])\n",
    "\n",
    "# 모델 컴파일\n",
    "model.compile(loss='binary_crossentropy', optimizer=Adam(learning_rate=0.0001), metrics=['accuracy'])\n",
    "\n",
    "# 모델 요약\n",
    "model.summary()"
   ]
  },
  {
   "cell_type": "code",
   "execution_count": 98,
   "metadata": {},
   "outputs": [],
   "source": [
    "class_weights = compute_class_weight('balanced', classes=np.unique(y_train), y=y_train)\n",
    "class_weights = dict(enumerate(class_weights))\n",
    "\n",
    "early_stopping = EarlyStopping(\n",
    "    monitor='val_loss',\n",
    "    patience=10,\n",
    "    restore_best_weights=True,\n",
    "    verbose=1\n",
    ")"
   ]
  },
  {
   "cell_type": "code",
   "execution_count": 99,
   "metadata": {},
   "outputs": [
    {
     "name": "stdout",
     "output_type": "stream",
     "text": [
      "Epoch 1/100\n",
      "42/42 [==============================] - 10s 213ms/step - loss: 0.6973 - accuracy: 0.5125 - val_loss: 0.6849 - val_accuracy: 0.5745\n",
      "Epoch 2/100\n",
      "42/42 [==============================] - 9s 208ms/step - loss: 0.6813 - accuracy: 0.5939 - val_loss: 0.6734 - val_accuracy: 0.5441\n",
      "Epoch 3/100\n",
      "42/42 [==============================] - 9s 224ms/step - loss: 0.6785 - accuracy: 0.5825 - val_loss: 0.6673 - val_accuracy: 0.6383\n",
      "Epoch 4/100\n",
      "42/42 [==============================] - 9s 221ms/step - loss: 0.6530 - accuracy: 0.6175 - val_loss: 0.6462 - val_accuracy: 0.6322\n",
      "Epoch 5/100\n",
      "42/42 [==============================] - 10s 228ms/step - loss: 0.6071 - accuracy: 0.6928 - val_loss: 0.5815 - val_accuracy: 0.6748\n",
      "Epoch 6/100\n",
      "42/42 [==============================] - 9s 221ms/step - loss: 0.5415 - accuracy: 0.7262 - val_loss: 0.5553 - val_accuracy: 0.7021\n",
      "Epoch 7/100\n",
      "42/42 [==============================] - 9s 208ms/step - loss: 0.5574 - accuracy: 0.7255 - val_loss: 0.4709 - val_accuracy: 0.8176\n",
      "Epoch 8/100\n",
      "42/42 [==============================] - 9s 210ms/step - loss: 0.4782 - accuracy: 0.7817 - val_loss: 0.4516 - val_accuracy: 0.8237\n",
      "Epoch 9/100\n",
      "42/42 [==============================] - 9s 208ms/step - loss: 0.4661 - accuracy: 0.7924 - val_loss: 0.4314 - val_accuracy: 0.8298\n",
      "Epoch 10/100\n",
      "42/42 [==============================] - 9s 207ms/step - loss: 0.4213 - accuracy: 0.8335 - val_loss: 0.4005 - val_accuracy: 0.8511\n",
      "Epoch 11/100\n",
      "42/42 [==============================] - 9s 210ms/step - loss: 0.3925 - accuracy: 0.8312 - val_loss: 0.4190 - val_accuracy: 0.8116\n",
      "Epoch 12/100\n",
      "42/42 [==============================] - 10s 233ms/step - loss: 0.3881 - accuracy: 0.8464 - val_loss: 0.3801 - val_accuracy: 0.8359\n",
      "Epoch 13/100\n",
      "42/42 [==============================] - 9s 216ms/step - loss: 0.3623 - accuracy: 0.8540 - val_loss: 0.3289 - val_accuracy: 0.8784\n",
      "Epoch 14/100\n",
      "42/42 [==============================] - 8s 199ms/step - loss: 0.3464 - accuracy: 0.8662 - val_loss: 0.3328 - val_accuracy: 0.8693\n",
      "Epoch 15/100\n",
      "42/42 [==============================] - 9s 206ms/step - loss: 0.3143 - accuracy: 0.8844 - val_loss: 0.3231 - val_accuracy: 0.8663\n",
      "Epoch 16/100\n",
      "42/42 [==============================] - 9s 204ms/step - loss: 0.3290 - accuracy: 0.8700 - val_loss: 0.3001 - val_accuracy: 0.8754\n",
      "Epoch 17/100\n",
      "42/42 [==============================] - 9s 204ms/step - loss: 0.2970 - accuracy: 0.8768 - val_loss: 0.2953 - val_accuracy: 0.8875\n",
      "Epoch 18/100\n",
      "42/42 [==============================] - 9s 205ms/step - loss: 0.2894 - accuracy: 0.8882 - val_loss: 0.4323 - val_accuracy: 0.8085\n",
      "Epoch 19/100\n",
      "42/42 [==============================] - 9s 212ms/step - loss: 0.3380 - accuracy: 0.8624 - val_loss: 0.3150 - val_accuracy: 0.8723\n",
      "Epoch 20/100\n",
      "42/42 [==============================] - 9s 210ms/step - loss: 0.2746 - accuracy: 0.8920 - val_loss: 0.2840 - val_accuracy: 0.8845\n",
      "Epoch 21/100\n",
      "42/42 [==============================] - 9s 209ms/step - loss: 0.2639 - accuracy: 0.8989 - val_loss: 0.3079 - val_accuracy: 0.8784\n",
      "Epoch 22/100\n",
      "42/42 [==============================] - 9s 206ms/step - loss: 0.2752 - accuracy: 0.8928 - val_loss: 0.2788 - val_accuracy: 0.8875\n",
      "Epoch 23/100\n",
      "42/42 [==============================] - 8s 202ms/step - loss: 0.2861 - accuracy: 0.8700 - val_loss: 0.2739 - val_accuracy: 0.8967\n",
      "Epoch 24/100\n",
      "42/42 [==============================] - 9s 222ms/step - loss: 0.2575 - accuracy: 0.9027 - val_loss: 0.2782 - val_accuracy: 0.8784\n",
      "Epoch 25/100\n",
      "42/42 [==============================] - 9s 219ms/step - loss: 0.2416 - accuracy: 0.9042 - val_loss: 0.2718 - val_accuracy: 0.8815\n",
      "Epoch 26/100\n",
      "42/42 [==============================] - 9s 221ms/step - loss: 0.2575 - accuracy: 0.9042 - val_loss: 0.2678 - val_accuracy: 0.8936\n",
      "Epoch 27/100\n",
      "42/42 [==============================] - 9s 207ms/step - loss: 0.2439 - accuracy: 0.9087 - val_loss: 0.2744 - val_accuracy: 0.8875\n",
      "Epoch 28/100\n",
      "42/42 [==============================] - 9s 218ms/step - loss: 0.2324 - accuracy: 0.9087 - val_loss: 0.2724 - val_accuracy: 0.8936\n",
      "Epoch 29/100\n",
      "42/42 [==============================] - 8s 202ms/step - loss: 0.2463 - accuracy: 0.9133 - val_loss: 0.2680 - val_accuracy: 0.8906\n",
      "Epoch 30/100\n",
      "42/42 [==============================] - 9s 206ms/step - loss: 0.2385 - accuracy: 0.9103 - val_loss: 0.2865 - val_accuracy: 0.8875\n",
      "Epoch 31/100\n",
      "42/42 [==============================] - 9s 210ms/step - loss: 0.2494 - accuracy: 0.9034 - val_loss: 0.3138 - val_accuracy: 0.8784\n",
      "Epoch 32/100\n",
      "42/42 [==============================] - 9s 206ms/step - loss: 0.2265 - accuracy: 0.9202 - val_loss: 0.2578 - val_accuracy: 0.8936\n",
      "Epoch 33/100\n",
      "42/42 [==============================] - 9s 206ms/step - loss: 0.2237 - accuracy: 0.9186 - val_loss: 0.2821 - val_accuracy: 0.8875\n",
      "Epoch 34/100\n",
      "42/42 [==============================] - 9s 206ms/step - loss: 0.2066 - accuracy: 0.9255 - val_loss: 0.2570 - val_accuracy: 0.8997\n",
      "Epoch 35/100\n",
      "42/42 [==============================] - 8s 200ms/step - loss: 0.2254 - accuracy: 0.9125 - val_loss: 0.2568 - val_accuracy: 0.8967\n",
      "Epoch 36/100\n",
      "42/42 [==============================] - 8s 197ms/step - loss: 0.1917 - accuracy: 0.9293 - val_loss: 0.2493 - val_accuracy: 0.8906\n",
      "Epoch 37/100\n",
      "42/42 [==============================] - 9s 207ms/step - loss: 0.1980 - accuracy: 0.9293 - val_loss: 0.2546 - val_accuracy: 0.8936\n",
      "Epoch 38/100\n",
      "42/42 [==============================] - 9s 204ms/step - loss: 0.1891 - accuracy: 0.9323 - val_loss: 0.2479 - val_accuracy: 0.9027\n",
      "Epoch 39/100\n",
      "42/42 [==============================] - 9s 204ms/step - loss: 0.1830 - accuracy: 0.9338 - val_loss: 0.2951 - val_accuracy: 0.8936\n",
      "Epoch 40/100\n",
      "42/42 [==============================] - 9s 206ms/step - loss: 0.1961 - accuracy: 0.9240 - val_loss: 0.2480 - val_accuracy: 0.9058\n",
      "Epoch 41/100\n",
      "42/42 [==============================] - 9s 203ms/step - loss: 0.1888 - accuracy: 0.9285 - val_loss: 0.2377 - val_accuracy: 0.9088\n",
      "Epoch 42/100\n",
      "42/42 [==============================] - 9s 205ms/step - loss: 0.1795 - accuracy: 0.9354 - val_loss: 0.2476 - val_accuracy: 0.8936\n",
      "Epoch 43/100\n",
      "42/42 [==============================] - 9s 211ms/step - loss: 0.1672 - accuracy: 0.9452 - val_loss: 0.2837 - val_accuracy: 0.8997\n",
      "Epoch 44/100\n",
      "42/42 [==============================] - 9s 208ms/step - loss: 0.1779 - accuracy: 0.9376 - val_loss: 0.2442 - val_accuracy: 0.8997\n",
      "Epoch 45/100\n",
      "42/42 [==============================] - 9s 208ms/step - loss: 0.1551 - accuracy: 0.9445 - val_loss: 0.2562 - val_accuracy: 0.8997\n",
      "Epoch 46/100\n",
      "42/42 [==============================] - 8s 195ms/step - loss: 0.1698 - accuracy: 0.9430 - val_loss: 0.2536 - val_accuracy: 0.9027\n",
      "Epoch 47/100\n",
      "42/42 [==============================] - 8s 193ms/step - loss: 0.1545 - accuracy: 0.9506 - val_loss: 0.2439 - val_accuracy: 0.8997\n",
      "Epoch 48/100\n",
      "42/42 [==============================] - 8s 189ms/step - loss: 0.1686 - accuracy: 0.9331 - val_loss: 0.2403 - val_accuracy: 0.9058\n",
      "Epoch 49/100\n",
      "42/42 [==============================] - 8s 189ms/step - loss: 0.1638 - accuracy: 0.9475 - val_loss: 0.2291 - val_accuracy: 0.9088\n",
      "Epoch 50/100\n",
      "42/42 [==============================] - 8s 196ms/step - loss: 0.1785 - accuracy: 0.9354 - val_loss: 0.2483 - val_accuracy: 0.9027\n",
      "Epoch 51/100\n",
      "42/42 [==============================] - 8s 191ms/step - loss: 0.1448 - accuracy: 0.9460 - val_loss: 0.2909 - val_accuracy: 0.8906\n",
      "Epoch 52/100\n",
      "42/42 [==============================] - 8s 193ms/step - loss: 0.1625 - accuracy: 0.9399 - val_loss: 0.2565 - val_accuracy: 0.8967\n",
      "Epoch 53/100\n",
      "42/42 [==============================] - 8s 193ms/step - loss: 0.1499 - accuracy: 0.9506 - val_loss: 0.2297 - val_accuracy: 0.8997\n",
      "Epoch 54/100\n",
      "42/42 [==============================] - 8s 203ms/step - loss: 0.1387 - accuracy: 0.9498 - val_loss: 0.2264 - val_accuracy: 0.9088\n",
      "Epoch 55/100\n",
      "42/42 [==============================] - 8s 195ms/step - loss: 0.1417 - accuracy: 0.9536 - val_loss: 0.2683 - val_accuracy: 0.8815\n",
      "Epoch 56/100\n",
      "42/42 [==============================] - 8s 198ms/step - loss: 0.1430 - accuracy: 0.9498 - val_loss: 0.2266 - val_accuracy: 0.9088\n",
      "Epoch 57/100\n",
      "42/42 [==============================] - 8s 190ms/step - loss: 0.1221 - accuracy: 0.9612 - val_loss: 0.2295 - val_accuracy: 0.9058\n",
      "Epoch 58/100\n",
      "42/42 [==============================] - 8s 197ms/step - loss: 0.1324 - accuracy: 0.9551 - val_loss: 0.2374 - val_accuracy: 0.9119\n",
      "Epoch 59/100\n",
      "42/42 [==============================] - 8s 195ms/step - loss: 0.1185 - accuracy: 0.9574 - val_loss: 0.2268 - val_accuracy: 0.9027\n",
      "Epoch 60/100\n",
      "42/42 [==============================] - 8s 198ms/step - loss: 0.1196 - accuracy: 0.9567 - val_loss: 0.2338 - val_accuracy: 0.9027\n",
      "Epoch 61/100\n",
      "42/42 [==============================] - 8s 198ms/step - loss: 0.1100 - accuracy: 0.9635 - val_loss: 0.2324 - val_accuracy: 0.8997\n",
      "Epoch 62/100\n",
      "42/42 [==============================] - 9s 209ms/step - loss: 0.1071 - accuracy: 0.9658 - val_loss: 0.2421 - val_accuracy: 0.9027\n",
      "Epoch 63/100\n",
      "42/42 [==============================] - 8s 201ms/step - loss: 0.1124 - accuracy: 0.9658 - val_loss: 0.2435 - val_accuracy: 0.9119\n",
      "Epoch 64/100\n",
      "42/42 [==============================] - ETA: 0s - loss: 0.1097 - accuracy: 0.9673Restoring model weights from the end of the best epoch: 54.\n",
      "42/42 [==============================] - 8s 199ms/step - loss: 0.1097 - accuracy: 0.9673 - val_loss: 0.2354 - val_accuracy: 0.9088\n",
      "Epoch 64: early stopping\n"
     ]
    }
   ],
   "source": [
    "# 모델 학습\n",
    "history = model.fit(\n",
    "    X_train, y_train,\n",
    "    validation_split=0.2,\n",
    "    epochs=100,\n",
    "    batch_size=32,\n",
    "    class_weight = class_weights,\n",
    "    callbacks=[early_stopping]\n",
    ")"
   ]
  },
  {
   "cell_type": "code",
   "execution_count": 100,
   "metadata": {},
   "outputs": [
    {
     "name": "stdout",
     "output_type": "stream",
     "text": [
      "13/13 - 1s - loss: 0.2341 - accuracy: 0.9051 - 599ms/epoch - 46ms/step\n",
      "Test Loss: 0.23405326902866364\n",
      "Test Accuracy: 0.9051094651222229\n"
     ]
    }
   ],
   "source": [
    "test_loss, test_accuracy = model.evaluate(X_test, y_test, verbose=2)\n",
    "\n",
    "print(f\"Test Loss: {test_loss}\")\n",
    "print(f\"Test Accuracy: {test_accuracy}\")"
   ]
  },
  {
   "cell_type": "code",
   "execution_count": 101,
   "metadata": {},
   "outputs": [
    {
     "name": "stdout",
     "output_type": "stream",
     "text": [
      "13/13 [==============================] - 1s 45ms/step\n",
      "Predicted Classes:  [1 1 0 1 1 0 1 0 0 0 1 0 1 0 0 1 0 0 0 0 1 1 1 0 0 1 0 1 0 1 1 1 1 0 0 0 0\n",
      " 0 1 1 0 0 0 1 0 1 0 0 0 0 0 0 0 0 1 0 0 0 0 0 1 1 0 1 0 1 1 1 1 1 1 1 1 0\n",
      " 1 0 1 0 0 1 0 0 1 0 1 0 0 0 1 1 0 1 0 0 0 0 1 0 0 1 0 1 1 0 1 0 1 0 1 1 1\n",
      " 1 1 1 1 0 1 0 0 0 1 0 0 0 0 1 1 0 1 1 0 0 0 0 1 1 0 0 0 1 1 0 1 1 0 1 1 1\n",
      " 1 1 1 1 0 1 1 0 1 0 0 0 1 1 1 1 0 1 0 0 0 1 0 1 1 1 0 0 1 0 0 0 1 1 1 0 0\n",
      " 0 0 1 0 1 0 0 0 0 1 1 0 1 0 1 0 1 1 0 0 0 0 1 0 0 1 1 1 0 1 0 0 0 0 0 1 1\n",
      " 1 0 1 0 0 0 0 0 0 0 0 1 0 0 0 0 0 1 0 1 0 1 0 1 1 1 1 1 0 0 1 1 1 1 1 0 1\n",
      " 0 1 0 1 0 0 0 1 1 1 1 0 0 0 0 0 1 0 1 0 0 0 1 0 1 1 0 0 0 0 1 1 1 0 0 0 0\n",
      " 0 1 1 1 1 1 0 1 0 0 0 0 1 0 1 1 0 1 0 0 0 1 0 0 1 0 0 0 0 1 0 1 1 0 0 0 1\n",
      " 1 0 0 1 0 0 0 1 0 0 1 0 1 1 1 0 0 1 0 1 0 0 0 0 0 1 0 1 0 1 1 0 1 1 1 0 1\n",
      " 0 0 0 1 0 0 1 1 1 0 1 1 1 0 1 0 1 0 1 1 1 1 0 1 0 0 0 1 1 1 0 1 1 0 1 0 0\n",
      " 0 1 1 0]\n"
     ]
    }
   ],
   "source": [
    "# 예측 수행 (확률 값 반환)\n",
    "predictions = model.predict(X_test)  # 이진 분류에서는 sigmoid 출력\n",
    "\n",
    "# 0.5를 기준으로 클래스 결정\n",
    "predicted_classes = (predictions > 0.5).astype(int).flatten()\n",
    "\n",
    "print(\"Predicted Classes: \", predicted_classes)\n"
   ]
  }
 ],
 "metadata": {
  "kernelspec": {
   "display_name": "human-dl-env2",
   "language": "python",
   "name": "python3"
  },
  "language_info": {
   "codemirror_mode": {
    "name": "ipython",
    "version": 3
   },
   "file_extension": ".py",
   "mimetype": "text/x-python",
   "name": "python",
   "nbconvert_exporter": "python",
   "pygments_lexer": "ipython3",
   "version": "3.9.21"
  }
 },
 "nbformat": 4,
 "nbformat_minor": 2
}
