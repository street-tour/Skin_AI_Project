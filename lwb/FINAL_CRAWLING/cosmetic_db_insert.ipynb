{
 "cells": [
  {
   "cell_type": "code",
   "execution_count": 10,
   "metadata": {},
   "outputs": [],
   "source": [
    "import json\n",
    "import pymysql\n"
   ]
  },
  {
   "cell_type": "code",
   "execution_count": 11,
   "metadata": {},
   "outputs": [],
   "source": [
    "with open(\"product_data.json\", \"r\", encoding=\"utf-8\") as file:\n",
    "    data = json.load(file)\n",
    "\n",
    "conn = pymysql.connect( host=\"127.0.0.1\", port=3306, db=\"cosmetic_product\",\n",
    "                        user=\"humanda\", passwd=\"humanda\")\n",
    "                               \n",
    "cursor = conn.cursor()\n",
    "\n",
    "# Product 테이블 데이터 삽입\n",
    "for product in data:\n",
    "    category = product[\"category\"]\n",
    "    product_name = product[\"product_name\"]\n",
    "    url = product[\"url\"]\n",
    "\n",
    "    sql_product = \"\"\"INSERT INTO product (category, url, product_name)\n",
    "                     VALUES (%s, %s, %s)\"\"\"\n",
    "    cursor.execute(sql_product, (category, url, product_name))                     \n",
    "    product_id = cursor.lastrowid # 삽입된 제품의 ID 가져오기\n",
    "\n",
    "    # Ingredient 테이블 데이터 삽입\n",
    "    for ingredient_data in product[\"ingredients\"]:\n",
    "        for ingredient_name, count in ingredient_data.items():\n",
    "            sql_ingredient = \"\"\"INSERT INTO ingredient (product_no, ingredient, count)\n",
    "                                VALUES (%s, %s, %s)\"\"\"\n",
    "            cursor.execute(sql_ingredient, (product_id, ingredient_name, count))\n",
    "\n",
    "conn.commit()\n",
    "\n",
    "cursor.close()\n",
    "conn.close()"
   ]
  },
  {
   "cell_type": "code",
   "execution_count": 15,
   "metadata": {},
   "outputs": [
    {
     "name": "stdout",
     "output_type": "stream",
     "text": [
      "제품 개수: 21197\n",
      "성분 개수: 46332\n",
      "제품별 성분 개수: ((1, 1), (2, 1), (3, 4), (5, 2), (6, 3))\n"
     ]
    }
   ],
   "source": [
    "conn = pymysql.connect( host=\"127.0.0.1\", port=3306, db=\"cosmetic_product\",\n",
    "                        user=\"humanda\", passwd=\"humanda\")\n",
    "                               \n",
    "cursor = conn.cursor()\n",
    "\n",
    "# 전체 제품 개수 확인\n",
    "cursor.execute(\"SELECT COUNT(*) FROM product\")\n",
    "total_products = cursor.fetchone()[0]\n",
    "print(f\"제품 개수: {total_products}\")\n",
    "\n",
    "# 전체 성분 개수 조회\n",
    "cursor.execute(\"SELECT COUNT(*) FROM ingredient\")\n",
    "total_ingredients = cursor.fetchone()[0]\n",
    "print(f\"성분 개수: {total_ingredients}\")\n",
    "\n",
    "# 제품별 성분 개수 확인\n",
    "cursor.execute(\"\"\"\n",
    "SELECT product_no, COUNT(*) AS ingredient_count\n",
    "FROM ingredient\n",
    "GROUP BY product_no\n",
    "\"\"\")\n",
    "ingredients_check = cursor.fetchall()[:5]\n",
    "print(f\"제품별 성분 개수: {ingredients_check}\")\n",
    "\n",
    "cursor.close()\n",
    "conn.close()"
   ]
  }
 ],
 "metadata": {
  "kernelspec": {
   "display_name": "human-dl-env2",
   "language": "python",
   "name": "python3"
  },
  "language_info": {
   "codemirror_mode": {
    "name": "ipython",
    "version": 3
   },
   "file_extension": ".py",
   "mimetype": "text/x-python",
   "name": "python",
   "nbconvert_exporter": "python",
   "pygments_lexer": "ipython3",
   "version": "3.9.21"
  }
 },
 "nbformat": 4,
 "nbformat_minor": 2
}
