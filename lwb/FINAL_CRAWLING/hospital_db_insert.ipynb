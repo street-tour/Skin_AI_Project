{
 "cells": [
  {
   "cell_type": "code",
   "execution_count": 1,
   "metadata": {},
   "outputs": [],
   "source": [
    "import json\n",
    "import pymysql"
   ]
  },
  {
   "cell_type": "code",
   "execution_count": 3,
   "metadata": {},
   "outputs": [],
   "source": [
    "with open(\"hospital_data.json\", \"r\", encoding=\"utf-8\") as file:\n",
    "    data = json.load(file)\n",
    "\n",
    "conn = pymysql.connect( host=\"127.0.0.1\", port=3306, db=\"hospital\",\n",
    "                        user=\"humanda\", passwd=\"humanda\")\n",
    "                               \n",
    "cursor = conn.cursor()\n",
    "\n",
    "# Hospital 테이블 데이터 삽입\n",
    "for hospital in data:\n",
    "    dermatologist = hospital[\"dermatologist\"]\n",
    "    hospital_name = hospital[\"hospital_name\"]\n",
    "    doctor_name = hospital[\"doctor_name\"]\n",
    "    address = hospital[\"address\"]\n",
    "    number = hospital[\"number\"]\n",
    "\n",
    "    sql_hospital = \"\"\"INSERT INTO hospital (dermatologist, hospital_name, doctor_name, address, number)\n",
    "                     VALUES (%s, %s, %s, %s, %s)\"\"\"\n",
    "    cursor.execute(sql_hospital, (dermatologist, hospital_name, doctor_name, address, number))                     \n",
    "\n",
    "conn.commit()\n",
    "\n",
    "cursor.close()\n",
    "conn.close()"
   ]
  },
  {
   "cell_type": "code",
   "execution_count": 5,
   "metadata": {},
   "outputs": [
    {
     "name": "stdout",
     "output_type": "stream",
     "text": [
      "병원 개수: 915\n",
      "컬럼 `hospital_no`: NULL 값 0개\n",
      "컬럼 `hospital_name`: NULL 값 0개\n",
      "컬럼 `doctor_name`: NULL 값 0개\n",
      "컬럼 `address`: NULL 값 0개\n",
      "컬럼 `number`: NULL 값 0개\n",
      "컬럼 `dermatologist`: NULL 값 0개\n"
     ]
    }
   ],
   "source": [
    "conn = pymysql.connect( host=\"127.0.0.1\", port=3306, db=\"hospital\",\n",
    "                        user=\"humanda\", passwd=\"humanda\")\n",
    "                               \n",
    "cursor = conn.cursor()\n",
    "\n",
    "cursor.execute(\"SELECT COUNT(*) FROM hospital\")\n",
    "total_hospital = cursor.fetchone()[0]\n",
    "print(f\"병원 개수: {total_hospital}\")\n",
    "\n",
    "try:\n",
    "    with conn.cursor() as cursor:\n",
    "        table = \"hospital\"\n",
    "\n",
    "        cursor.execute(f\"SHOW COLUMNS FROM {table}\")\n",
    "        columns = [column[0] for column in cursor.fetchall()]\n",
    "\n",
    "        null_counts = {}\n",
    "\n",
    "        # 각 컬럼에서 NULL 값 개수 조회\n",
    "        for column in columns:\n",
    "            query = f\"SELECT COUNT(*) FROM {table} WHERE {column} IS NULL\"\n",
    "            cursor.execute(query)\n",
    "            count = cursor.fetchone()[0]\n",
    "            null_counts[column] = count\n",
    "\n",
    "        # 결과 출력\n",
    "        for col, count in null_counts.items():\n",
    "            print(f\"컬럼 `{col}`: NULL 값 {count}개\")\n",
    "\n",
    "finally:\n",
    "    cursor.close()\n",
    "    conn.close()"
   ]
  }
 ],
 "metadata": {
  "kernelspec": {
   "display_name": "human-dl-env2",
   "language": "python",
   "name": "python3"
  },
  "language_info": {
   "codemirror_mode": {
    "name": "ipython",
    "version": 3
   },
   "file_extension": ".py",
   "mimetype": "text/x-python",
   "name": "python",
   "nbconvert_exporter": "python",
   "pygments_lexer": "ipython3",
   "version": "3.9.21"
  }
 },
 "nbformat": 4,
 "nbformat_minor": 2
}
