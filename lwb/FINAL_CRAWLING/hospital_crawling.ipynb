{
 "cells": [
  {
   "cell_type": "code",
   "execution_count": 7,
   "metadata": {},
   "outputs": [],
   "source": [
    "import requests\n",
    "from bs4 import BeautifulSoup\n",
    "import pandas as pd\n",
    "import time\n",
    "import json\n",
    "\n",
    "\n",
    "from selenium import webdriver\n",
    "from selenium.webdriver.common.by import By\n"
   ]
  },
  {
   "cell_type": "code",
   "execution_count": 11,
   "metadata": {},
   "outputs": [],
   "source": [
    "# 데이터를 저장하는 리스트 변수\n",
    "hospital_data = []\n",
    "\n",
    "base_url = \"https://www.akd.or.kr/search/sub02.php?mode=&mod=Y&keyfield=mb_addr1&key=%EC%84%9C%EC%9A%B8&key2=&key3=&key4=&sname=&sno=&stel=&member_level=&list_per_page=10&\"\n",
    "max_limit = 910\n",
    "chrome = webdriver.Chrome()\n",
    "time.sleep(5)\n",
    "\n",
    "for idx, start in enumerate(range(0, max_limit + 1, 10)):\n",
    "    full_url = f\"{base_url}start={start}#11\"\n",
    "    response = requests.get(full_url)\n",
    "\n",
    "    if response.status_code != 200:\n",
    "        print(f\"실패 start={start}\")\n",
    "        break\n",
    "    \n",
    "    chrome.get(full_url)\n",
    "    time.sleep(0.5)\n",
    "\n",
    "    soup = BeautifulSoup(chrome.page_source, \"html.parser\")\n",
    "\n",
    "    rows = soup.select(\"tbody tr\")\n",
    "\n",
    "    for row in rows:\n",
    "        columns = row.find_all(\"td\")\n",
    "        if len(columns) < 5:\n",
    "            continue\n",
    "\n",
    "        img_tag = columns[1].find(\"img\")\n",
    "        dermatologist = \"Yes\" if img_tag else \"No\"\n",
    "\n",
    "        hospital_name = columns[2].get_text(strip=True)\n",
    "        doctor_name = columns[3].get_text(strip=True)\n",
    "        address = columns[4].get_text(strip=True)\n",
    "        number = columns[5].get_text(strip=True)\n",
    "\n",
    "        # { 제품명 : 성분리스트 }를 리스트 변수에 저장\n",
    "        hospital_data.append({\n",
    "            \"dermatologist\": dermatologist,\n",
    "            \"hospital_name\" : hospital_name,            \n",
    "            \"doctor_name\" : doctor_name,\n",
    "            \"address\" : address,\n",
    "            \"number\": number\n",
    "        })\n",
    "\n",
    "with open('hospital_data.json', 'w', encoding='utf-8') as f:\n",
    "    json.dump(hospital_data, f, ensure_ascii=False, indent=4)"
   ]
  },
  {
   "cell_type": "code",
   "execution_count": 12,
   "metadata": {},
   "outputs": [],
   "source": [
    "chrome.close()\n",
    "chrome.quit()"
   ]
  },
  {
   "cell_type": "code",
   "execution_count": 13,
   "metadata": {},
   "outputs": [
    {
     "name": "stdout",
     "output_type": "stream",
     "text": [
      "915\n"
     ]
    }
   ],
   "source": [
    "with open('hospital_data.json', 'r', encoding='utf-8') as f:\n",
    "    hospital_data = json.load(f)\n",
    "\n",
    "print(len(hospital_data))"
   ]
  }
 ],
 "metadata": {
  "kernelspec": {
   "display_name": "human-dl-env2",
   "language": "python",
   "name": "python3"
  },
  "language_info": {
   "codemirror_mode": {
    "name": "ipython",
    "version": 3
   },
   "file_extension": ".py",
   "mimetype": "text/x-python",
   "name": "python",
   "nbconvert_exporter": "python",
   "pygments_lexer": "ipython3",
   "version": "3.9.21"
  }
 },
 "nbformat": 4,
 "nbformat_minor": 2
}
