{
 "cells": [
  {
   "cell_type": "code",
   "execution_count": 1,
   "metadata": {},
   "outputs": [
    {
     "name": "stdout",
     "output_type": "stream",
     "text": [
      "WARNING:tensorflow:From c:\\Users\\human\\.conda\\envs\\human-dl-env2\\lib\\site-packages\\keras\\src\\losses.py:2976: The name tf.losses.sparse_softmax_cross_entropy is deprecated. Please use tf.compat.v1.losses.sparse_softmax_cross_entropy instead.\n",
      "\n"
     ]
    }
   ],
   "source": [
    "import pickle\n",
    "import numpy as np\n",
    "from sklearn.model_selection import train_test_split\n",
    "from sklearn.utils.class_weight import compute_class_weight\n",
    "import cv2\n",
    "import os\n",
    "import tensorflow as tf\n",
    "import json\n",
    "\n",
    "\n",
    "from tensorflow.keras import layers, models\n",
    "from tensorflow.keras.optimizers import Adam\n",
    "from tensorflow.keras.utils import to_categorical\n",
    "from tensorflow.keras.callbacks import EarlyStopping"
   ]
  },
  {
   "cell_type": "markdown",
   "metadata": {},
   "source": [
    "### 이미지 불러오기"
   ]
  },
  {
   "cell_type": "code",
   "execution_count": 2,
   "metadata": {},
   "outputs": [],
   "source": [
    "# 데이터가 저장된 최상위 경로\n",
    "base_dir = r\"D:\\final_project_backup\\FINAL_DATA\\한국인 피부상태 측정 데이터\\Training\"\n",
    "image_base_dir_camera = os.path.join(base_dir, \"images\", \"camera\")\n",
    "label_base_dir_camera = os.path.join(base_dir, \"labels\", \"camera\")\n",
    "image_base_dir_pad = os.path.join(base_dir, \"images\", \"pad\")\n",
    "label_base_dir_pad = os.path.join(base_dir, \"labels\", \"pad\")\n",
    "image_base_dir_phone = os.path.join(base_dir, \"images\", \"phone\")\n",
    "label_base_dir_phone = os.path.join(base_dir, \"labels\", \"phone\")"
   ]
  },
  {
   "cell_type": "code",
   "execution_count": 3,
   "metadata": {},
   "outputs": [],
   "source": [
    "# 딕셔너리에 결과 저장\n",
    "image_data = {}  # 이미지 배열 데이터 {파일명: 이미지 배열}\n",
    "target_data = {}  # 타겟 값 {파일명: 타겟 값}\n",
    "# 리사이즈 크기 설정\n",
    "target_size = (128, 128)"
   ]
  },
  {
   "cell_type": "markdown",
   "metadata": {},
   "source": [
    "### _02 : 미간주름에 대해 bbox_crop"
   ]
  },
  {
   "cell_type": "code",
   "execution_count": 4,
   "metadata": {},
   "outputs": [],
   "source": [
    "def find_image_path(base_dirs, id_folder, image_filename):\n",
    "    for base_dir in base_dirs:\n",
    "        image_path = os.path.join(base_dir, id_folder, image_filename)\n",
    "        if os.path.exists(image_path):\n",
    "            return image_path  # 이미지 경로를 찾으면 반환\n",
    "    return None  # 모든 경로에서 이미지 파일을 찾지 못하면 None 반환"
   ]
  },
  {
   "cell_type": "code",
   "execution_count": 5,
   "metadata": {},
   "outputs": [],
   "source": [
    "# 각 JSON 디렉토리 순회\n",
    "\n",
    "label_dirs = [label_base_dir_camera, label_base_dir_pad, label_base_dir_phone]\n",
    "base_dirs = [image_base_dir_camera, image_base_dir_pad, image_base_dir_phone]\n",
    "\n",
    "for label_dir in label_dirs:\n",
    "    for root, _, files in os.walk(label_dir):\n",
    "        for file in files:\n",
    "            if file.endswith(\"_F_02.json\"):\n",
    "                label_path = os.path.join(root, file)\n",
    "                \n",
    "                try:\n",
    "                    # JSON 파일 로드\n",
    "                    with open(label_path, 'r', encoding='utf-8') as f:\n",
    "                        label_data = json.load(f)\n",
    "                    \n",
    "                    # JSON 데이터에서 이미지 파일명 및 id_folder 추출\n",
    "                    image_filename = label_data['info']['filename']\n",
    "                    id_folder = label_data['info']['id']\n",
    "                    \n",
    "                    # 이미지 경로 찾기\n",
    "                    image_path = find_image_path(base_dirs, id_folder, image_filename)\n",
    "                    if image_path is None:\n",
    "                        print(f\"Image file not found for {label_path}: {image_filename}\")\n",
    "                        continue\n",
    "                    \n",
    "                    # 이미지 파일 읽기\n",
    "                    with open(image_path, 'rb') as img_file:\n",
    "                        file_data = np.asarray(bytearray(img_file.read()), dtype=np.uint8)\n",
    "                        image = cv2.imdecode(file_data, cv2.IMREAD_COLOR)\n",
    "                    \n",
    "                    if image is None:\n",
    "                        print(f\"Failed to decode image: {image_path}\")\n",
    "                        continue\n",
    "                    \n",
    "                    # bbox 유효성 검사\n",
    "                    bbox = label_data['images']['bbox']\n",
    "                    x_min, y_min, x_max, y_max = map(int, bbox)\n",
    "                    if x_min >= x_max or y_min >= y_max:\n",
    "                        print(f\"Invalid bbox in file {label_path}: {bbox}\")\n",
    "                        continue\n",
    "                    \n",
    "                    # 이미지 크롭 및 리사이즈\n",
    "                    cropped_image = image[y_min:y_max, x_min:x_max]\n",
    "                    resized_image = cv2.resize(cropped_image, target_size)\n",
    "                    \n",
    "                    # 데이터 저장\n",
    "                    key = os.path.splitext(file)[0]  # 파일명에서 확장자 제거\n",
    "                    image_data[key] = resized_image\n",
    "                    target_data[key] = label_data['annotations']['glabellus_wrinkle']\n",
    "                \n",
    "                except Exception as e:\n",
    "                    print(f\"Error processing file {label_path}: {e}\")\n"
   ]
  },
  {
   "cell_type": "code",
   "execution_count": 6,
   "metadata": {},
   "outputs": [
    {
     "name": "stdout",
     "output_type": "stream",
     "text": [
      "Number of images processed: 2574\n",
      "Number of targets processed: 2574\n"
     ]
    }
   ],
   "source": [
    "print(f\"Number of images processed: {len(image_data)}\")\n",
    "print(f\"Number of targets processed: {len(target_data)}\")"
   ]
  },
  {
   "cell_type": "markdown",
   "metadata": {},
   "source": [
    "### 데이터 저장 및 불러오기"
   ]
  },
  {
   "cell_type": "code",
   "execution_count": 7,
   "metadata": {},
   "outputs": [
    {
     "name": "stdout",
     "output_type": "stream",
     "text": [
      "Data saved successfully!\n"
     ]
    }
   ],
   "source": [
    "import pickle\n",
    "\n",
    "# 이미지 데이터 저장\n",
    "with open('glabellus_wrinkle_image_data.pkl', 'wb') as f:\n",
    "    pickle.dump(image_data, f)\n",
    "\n",
    "# 타겟 데이터 저장\n",
    "with open('glabellus_wrinkle_target_data.pkl', 'wb') as f:\n",
    "    pickle.dump(target_data, f)\n",
    "\n",
    "print(\"Data saved successfully!\")"
   ]
  },
  {
   "cell_type": "code",
   "execution_count": 8,
   "metadata": {},
   "outputs": [],
   "source": [
    "# 데이터 로드\n",
    "with open('glabellus_wrinkle_image_data.pkl', 'rb') as f:\n",
    "    image_data = pickle.load(f)\n",
    "\n",
    "with open('glabellus_wrinkle_target_data.pkl', 'rb') as f:\n",
    "    target_data = pickle.load(f)"
   ]
  },
  {
   "cell_type": "code",
   "execution_count": 9,
   "metadata": {},
   "outputs": [
    {
     "name": "stdout",
     "output_type": "stream",
     "text": [
      "Value: 1, Count: 1110\n",
      "Value: 0, Count: 540\n",
      "Value: 2, Count: 312\n",
      "Value: 3, Count: 270\n",
      "Value: 5, Count: 168\n",
      "Value: 4, Count: 93\n",
      "Value: 6, Count: 81\n"
     ]
    }
   ],
   "source": [
    "from collections import Counter\n",
    "\n",
    "values_list = list(target_data.values())\n",
    "value_counts = Counter(values_list)\n",
    "\n",
    "for value, count in value_counts.items():\n",
    "    print(f\"Value: {value}, Count: {count}\")"
   ]
  },
  {
   "cell_type": "markdown",
   "metadata": {},
   "source": [
    "### 0과 2,3을 묶어서 모델링"
   ]
  },
  {
   "cell_type": "code",
   "execution_count": 10,
   "metadata": {},
   "outputs": [],
   "source": [
    "def merge_classes(target_data):\n",
    "    binary_target_data = {}\n",
    "    for key, value in target_data.items():\n",
    "        if value in [2, 3]:\n",
    "            binary_target_data[key] = '10'\n",
    "        else:\n",
    "            binary_target_data[key] = value\n",
    "    \n",
    "    return binary_target_data\n",
    "\n",
    "binary_target_data = merge_classes(target_data)"
   ]
  },
  {
   "cell_type": "code",
   "execution_count": 11,
   "metadata": {},
   "outputs": [
    {
     "name": "stdout",
     "output_type": "stream",
     "text": [
      "Value: 0, Count: 540\n",
      "Value: 10, Count: 582\n"
     ]
    }
   ],
   "source": [
    "filtered_target_data = {key: value for key, value in binary_target_data.items() if value in [0, '10']}\n",
    "\n",
    "\n",
    "values_list = list(filtered_target_data.values())\n",
    "value_counts = Counter(values_list)\n",
    "\n",
    "for value, count in value_counts.items():\n",
    "    print(f\"Value: {value}, Count: {count}\")"
   ]
  },
  {
   "cell_type": "code",
   "execution_count": 12,
   "metadata": {},
   "outputs": [
    {
     "name": "stdout",
     "output_type": "stream",
     "text": [
      "Length of X: 1122, Length of y: 1122\n"
     ]
    }
   ],
   "source": [
    "common_keys = set(image_data.keys()) & set(filtered_target_data.keys())\n",
    "\n",
    "# 데이터 정렬\n",
    "filtered_image_data = {key: image_data[key] for key in common_keys}\n",
    "filtered_target_data = {key: filtered_target_data[key] for key in common_keys}\n",
    "\n",
    "# X와 y 생성\n",
    "X = np.array(list(filtered_image_data.values()))\n",
    "y = np.array(list(filtered_target_data.values()))\n",
    "\n",
    "print(f\"Length of X: {len(X)}, Length of y: {len(y)}\")"
   ]
  },
  {
   "cell_type": "code",
   "execution_count": 13,
   "metadata": {},
   "outputs": [],
   "source": [
    "class_mapping = {'0': 0, '10': 1}\n",
    "y = np.array([class_mapping[label] for label in y])\n",
    "X = X / 255.0"
   ]
  },
  {
   "cell_type": "code",
   "execution_count": 14,
   "metadata": {},
   "outputs": [
    {
     "name": "stdout",
     "output_type": "stream",
     "text": [
      "X_train shape: (897, 128, 128, 3), y_train shape: (897,)\n",
      "X_test shape: (225, 128, 128, 3), y_test shape: (225,)\n"
     ]
    }
   ],
   "source": [
    "X_train, X_test, y_train, y_test = train_test_split(X, y, test_size=0.2, random_state=42)\n",
    "\n",
    "print(f\"X_train shape: {X_train.shape}, y_train shape: {y_train.shape}\")\n",
    "print(f\"X_test shape: {X_test.shape}, y_test shape: {y_test.shape}\")"
   ]
  },
  {
   "cell_type": "code",
   "execution_count": 15,
   "metadata": {},
   "outputs": [
    {
     "name": "stdout",
     "output_type": "stream",
     "text": [
      "WARNING:tensorflow:From c:\\Users\\human\\.conda\\envs\\human-dl-env2\\lib\\site-packages\\keras\\src\\backend.py:873: The name tf.get_default_graph is deprecated. Please use tf.compat.v1.get_default_graph instead.\n",
      "\n",
      "WARNING:tensorflow:From c:\\Users\\human\\.conda\\envs\\human-dl-env2\\lib\\site-packages\\keras\\src\\layers\\pooling\\max_pooling2d.py:161: The name tf.nn.max_pool is deprecated. Please use tf.nn.max_pool2d instead.\n",
      "\n",
      "Model: \"sequential\"\n",
      "_________________________________________________________________\n",
      " Layer (type)                Output Shape              Param #   \n",
      "=================================================================\n",
      " conv2d (Conv2D)             (None, 126, 126, 32)      896       \n",
      "                                                                 \n",
      " max_pooling2d (MaxPooling2  (None, 63, 63, 32)        0         \n",
      " D)                                                              \n",
      "                                                                 \n",
      " conv2d_1 (Conv2D)           (None, 61, 61, 64)        18496     \n",
      "                                                                 \n",
      " max_pooling2d_1 (MaxPoolin  (None, 30, 30, 64)        0         \n",
      " g2D)                                                            \n",
      "                                                                 \n",
      " conv2d_2 (Conv2D)           (None, 28, 28, 128)       73856     \n",
      "                                                                 \n",
      " max_pooling2d_2 (MaxPoolin  (None, 14, 14, 128)       0         \n",
      " g2D)                                                            \n",
      "                                                                 \n",
      " flatten (Flatten)           (None, 25088)             0         \n",
      "                                                                 \n",
      " dense (Dense)               (None, 128)               3211392   \n",
      "                                                                 \n",
      " dropout (Dropout)           (None, 128)               0         \n",
      "                                                                 \n",
      " dense_1 (Dense)             (None, 1)                 129       \n",
      "                                                                 \n",
      "=================================================================\n",
      "Total params: 3304769 (12.61 MB)\n",
      "Trainable params: 3304769 (12.61 MB)\n",
      "Non-trainable params: 0 (0.00 Byte)\n",
      "_________________________________________________________________\n"
     ]
    }
   ],
   "source": [
    "model = models.Sequential([\n",
    "    layers.Conv2D(32, (3, 3), activation='relu', input_shape=(X.shape[1], X.shape[2], X.shape[3])),\n",
    "    layers.MaxPooling2D((2, 2)),\n",
    "    layers.Conv2D(64, (3, 3), activation='relu'),\n",
    "    layers.MaxPooling2D((2, 2)),\n",
    "    layers.Conv2D(128, (3, 3), activation='relu'),\n",
    "    layers.MaxPooling2D((2, 2)),\n",
    "    layers.Flatten(),\n",
    "    layers.Dense(128, activation='relu'),\n",
    "    layers.Dropout(0.5),\n",
    "    layers.Dense(1, activation='sigmoid')  # 출력층\n",
    "])\n",
    "\n",
    "# 모델 컴파일\n",
    "model.compile(loss='binary_crossentropy', optimizer=Adam(learning_rate=0.0001), metrics=['accuracy'])\n",
    "\n",
    "# 모델 요약\n",
    "model.summary()"
   ]
  },
  {
   "cell_type": "code",
   "execution_count": 16,
   "metadata": {},
   "outputs": [],
   "source": [
    "class_weights = compute_class_weight('balanced', classes=np.unique(y_train), y=y_train)\n",
    "class_weights = dict(enumerate(class_weights))\n",
    "\n",
    "early_stopping = EarlyStopping(\n",
    "    monitor='val_loss',\n",
    "    patience=10,\n",
    "    restore_best_weights=True,\n",
    "    verbose=1\n",
    ")"
   ]
  },
  {
   "cell_type": "code",
   "execution_count": 17,
   "metadata": {},
   "outputs": [
    {
     "name": "stdout",
     "output_type": "stream",
     "text": [
      "Epoch 1/100\n",
      "WARNING:tensorflow:From c:\\Users\\human\\.conda\\envs\\human-dl-env2\\lib\\site-packages\\keras\\src\\utils\\tf_utils.py:492: The name tf.ragged.RaggedTensorValue is deprecated. Please use tf.compat.v1.ragged.RaggedTensorValue instead.\n",
      "\n",
      "WARNING:tensorflow:From c:\\Users\\human\\.conda\\envs\\human-dl-env2\\lib\\site-packages\\keras\\src\\engine\\base_layer_utils.py:384: The name tf.executing_eagerly_outside_functions is deprecated. Please use tf.compat.v1.executing_eagerly_outside_functions instead.\n",
      "\n",
      "23/23 [==============================] - 7s 227ms/step - loss: 0.7049 - accuracy: 0.5007 - val_loss: 0.6950 - val_accuracy: 0.4722\n",
      "Epoch 2/100\n",
      "23/23 [==============================] - 5s 210ms/step - loss: 0.6894 - accuracy: 0.5397 - val_loss: 0.6909 - val_accuracy: 0.5278\n",
      "Epoch 3/100\n",
      "23/23 [==============================] - 5s 225ms/step - loss: 0.6899 - accuracy: 0.5495 - val_loss: 0.6898 - val_accuracy: 0.5278\n",
      "Epoch 4/100\n",
      "23/23 [==============================] - 5s 220ms/step - loss: 0.6838 - accuracy: 0.5537 - val_loss: 0.6849 - val_accuracy: 0.6000\n",
      "Epoch 5/100\n",
      "23/23 [==============================] - 6s 253ms/step - loss: 0.6788 - accuracy: 0.6039 - val_loss: 0.6871 - val_accuracy: 0.5944\n",
      "Epoch 6/100\n",
      "23/23 [==============================] - 5s 230ms/step - loss: 0.6743 - accuracy: 0.5844 - val_loss: 0.6756 - val_accuracy: 0.6111\n",
      "Epoch 7/100\n",
      "23/23 [==============================] - 5s 216ms/step - loss: 0.6650 - accuracy: 0.5886 - val_loss: 0.6899 - val_accuracy: 0.5944\n",
      "Epoch 8/100\n",
      "23/23 [==============================] - 6s 245ms/step - loss: 0.6662 - accuracy: 0.5997 - val_loss: 0.6706 - val_accuracy: 0.6333\n",
      "Epoch 9/100\n",
      "23/23 [==============================] - 6s 238ms/step - loss: 0.6565 - accuracy: 0.6374 - val_loss: 0.6799 - val_accuracy: 0.5722\n",
      "Epoch 10/100\n",
      "23/23 [==============================] - 5s 229ms/step - loss: 0.6507 - accuracy: 0.6067 - val_loss: 0.6612 - val_accuracy: 0.6333\n",
      "Epoch 11/100\n",
      "23/23 [==============================] - 5s 207ms/step - loss: 0.6428 - accuracy: 0.6541 - val_loss: 0.6641 - val_accuracy: 0.6278\n",
      "Epoch 12/100\n",
      "23/23 [==============================] - 5s 214ms/step - loss: 0.6282 - accuracy: 0.6513 - val_loss: 0.7029 - val_accuracy: 0.4722\n",
      "Epoch 13/100\n",
      "23/23 [==============================] - 5s 214ms/step - loss: 0.6368 - accuracy: 0.6248 - val_loss: 0.6471 - val_accuracy: 0.6778\n",
      "Epoch 14/100\n",
      "23/23 [==============================] - 5s 199ms/step - loss: 0.6268 - accuracy: 0.6778 - val_loss: 0.6671 - val_accuracy: 0.6167\n",
      "Epoch 15/100\n",
      "23/23 [==============================] - 5s 199ms/step - loss: 0.6115 - accuracy: 0.6987 - val_loss: 0.6366 - val_accuracy: 0.6889\n",
      "Epoch 16/100\n",
      "23/23 [==============================] - 5s 204ms/step - loss: 0.6031 - accuracy: 0.6946 - val_loss: 0.6334 - val_accuracy: 0.6889\n",
      "Epoch 17/100\n",
      "23/23 [==============================] - 5s 212ms/step - loss: 0.6098 - accuracy: 0.6792 - val_loss: 0.6280 - val_accuracy: 0.6556\n",
      "Epoch 18/100\n",
      "23/23 [==============================] - 5s 213ms/step - loss: 0.6178 - accuracy: 0.6444 - val_loss: 0.7448 - val_accuracy: 0.5444\n",
      "Epoch 19/100\n",
      "23/23 [==============================] - 5s 213ms/step - loss: 0.6253 - accuracy: 0.6485 - val_loss: 0.6342 - val_accuracy: 0.6833\n",
      "Epoch 20/100\n",
      "23/23 [==============================] - 5s 216ms/step - loss: 0.5983 - accuracy: 0.6834 - val_loss: 0.6497 - val_accuracy: 0.6389\n",
      "Epoch 21/100\n",
      "23/23 [==============================] - 5s 226ms/step - loss: 0.5955 - accuracy: 0.6918 - val_loss: 0.6224 - val_accuracy: 0.7000\n",
      "Epoch 22/100\n",
      "23/23 [==============================] - 6s 253ms/step - loss: 0.5729 - accuracy: 0.7155 - val_loss: 0.7043 - val_accuracy: 0.5722\n",
      "Epoch 23/100\n",
      "23/23 [==============================] - 7s 284ms/step - loss: 0.5892 - accuracy: 0.6792 - val_loss: 0.6145 - val_accuracy: 0.6778\n",
      "Epoch 24/100\n",
      "23/23 [==============================] - 6s 273ms/step - loss: 0.5644 - accuracy: 0.7252 - val_loss: 0.6181 - val_accuracy: 0.7000\n",
      "Epoch 25/100\n",
      "23/23 [==============================] - 5s 227ms/step - loss: 0.5656 - accuracy: 0.7420 - val_loss: 0.6780 - val_accuracy: 0.5833\n",
      "Epoch 26/100\n",
      "23/23 [==============================] - 5s 233ms/step - loss: 0.5546 - accuracy: 0.7252 - val_loss: 0.6019 - val_accuracy: 0.7222\n",
      "Epoch 27/100\n",
      "23/23 [==============================] - 5s 233ms/step - loss: 0.5717 - accuracy: 0.7266 - val_loss: 0.6011 - val_accuracy: 0.7000\n",
      "Epoch 28/100\n",
      "23/23 [==============================] - 6s 245ms/step - loss: 0.5498 - accuracy: 0.7294 - val_loss: 0.7253 - val_accuracy: 0.5222\n",
      "Epoch 29/100\n",
      "23/23 [==============================] - 5s 235ms/step - loss: 0.5930 - accuracy: 0.6667 - val_loss: 0.6132 - val_accuracy: 0.7222\n",
      "Epoch 30/100\n",
      "23/23 [==============================] - 5s 237ms/step - loss: 0.5827 - accuracy: 0.7197 - val_loss: 0.6534 - val_accuracy: 0.6556\n",
      "Epoch 31/100\n",
      "23/23 [==============================] - 5s 226ms/step - loss: 0.5614 - accuracy: 0.7336 - val_loss: 0.5967 - val_accuracy: 0.7056\n",
      "Epoch 32/100\n",
      "23/23 [==============================] - 5s 227ms/step - loss: 0.5366 - accuracy: 0.7336 - val_loss: 0.5920 - val_accuracy: 0.7000\n",
      "Epoch 33/100\n",
      "23/23 [==============================] - 5s 218ms/step - loss: 0.5388 - accuracy: 0.7476 - val_loss: 0.6241 - val_accuracy: 0.7111\n",
      "Epoch 34/100\n",
      "23/23 [==============================] - 5s 221ms/step - loss: 0.5333 - accuracy: 0.7434 - val_loss: 0.6195 - val_accuracy: 0.7056\n",
      "Epoch 35/100\n",
      "23/23 [==============================] - 5s 237ms/step - loss: 0.5210 - accuracy: 0.7503 - val_loss: 0.5950 - val_accuracy: 0.7167\n",
      "Epoch 36/100\n",
      "23/23 [==============================] - 5s 220ms/step - loss: 0.5285 - accuracy: 0.7406 - val_loss: 0.5960 - val_accuracy: 0.7222\n",
      "Epoch 37/100\n",
      "23/23 [==============================] - 5s 204ms/step - loss: 0.5249 - accuracy: 0.7490 - val_loss: 0.5879 - val_accuracy: 0.7444\n",
      "Epoch 38/100\n",
      "23/23 [==============================] - 5s 207ms/step - loss: 0.5301 - accuracy: 0.7490 - val_loss: 0.6358 - val_accuracy: 0.6722\n",
      "Epoch 39/100\n",
      "23/23 [==============================] - 5s 219ms/step - loss: 0.5226 - accuracy: 0.7559 - val_loss: 0.6105 - val_accuracy: 0.7278\n",
      "Epoch 40/100\n",
      "23/23 [==============================] - 5s 208ms/step - loss: 0.5322 - accuracy: 0.7476 - val_loss: 0.5696 - val_accuracy: 0.7222\n",
      "Epoch 41/100\n",
      "23/23 [==============================] - 5s 203ms/step - loss: 0.5127 - accuracy: 0.7699 - val_loss: 0.5951 - val_accuracy: 0.7333\n",
      "Epoch 42/100\n",
      "23/23 [==============================] - 5s 202ms/step - loss: 0.5110 - accuracy: 0.7559 - val_loss: 0.5686 - val_accuracy: 0.7278\n",
      "Epoch 43/100\n",
      "23/23 [==============================] - 5s 201ms/step - loss: 0.5095 - accuracy: 0.7838 - val_loss: 0.5851 - val_accuracy: 0.7500\n",
      "Epoch 44/100\n",
      "23/23 [==============================] - 5s 199ms/step - loss: 0.5199 - accuracy: 0.7629 - val_loss: 0.5754 - val_accuracy: 0.7444\n",
      "Epoch 45/100\n",
      "23/23 [==============================] - 5s 203ms/step - loss: 0.5128 - accuracy: 0.7657 - val_loss: 0.5738 - val_accuracy: 0.7111\n",
      "Epoch 46/100\n",
      "23/23 [==============================] - 5s 204ms/step - loss: 0.5079 - accuracy: 0.7671 - val_loss: 0.5691 - val_accuracy: 0.7333\n",
      "Epoch 47/100\n",
      "23/23 [==============================] - 5s 203ms/step - loss: 0.5135 - accuracy: 0.7699 - val_loss: 0.5720 - val_accuracy: 0.6944\n",
      "Epoch 48/100\n",
      "23/23 [==============================] - 5s 203ms/step - loss: 0.4869 - accuracy: 0.7755 - val_loss: 0.5533 - val_accuracy: 0.7222\n",
      "Epoch 49/100\n",
      "23/23 [==============================] - 5s 203ms/step - loss: 0.5423 - accuracy: 0.7392 - val_loss: 0.5558 - val_accuracy: 0.7389\n",
      "Epoch 50/100\n",
      "23/23 [==============================] - 5s 203ms/step - loss: 0.4993 - accuracy: 0.7782 - val_loss: 0.5457 - val_accuracy: 0.7444\n",
      "Epoch 51/100\n",
      "23/23 [==============================] - 5s 200ms/step - loss: 0.5037 - accuracy: 0.7615 - val_loss: 0.5443 - val_accuracy: 0.7556\n",
      "Epoch 52/100\n",
      "23/23 [==============================] - 5s 203ms/step - loss: 0.5122 - accuracy: 0.7629 - val_loss: 0.5985 - val_accuracy: 0.7333\n",
      "Epoch 53/100\n",
      "23/23 [==============================] - 5s 201ms/step - loss: 0.5122 - accuracy: 0.7782 - val_loss: 0.6617 - val_accuracy: 0.6444\n",
      "Epoch 54/100\n",
      "23/23 [==============================] - 5s 200ms/step - loss: 0.5444 - accuracy: 0.7378 - val_loss: 0.5791 - val_accuracy: 0.7278\n",
      "Epoch 55/100\n",
      "23/23 [==============================] - 5s 200ms/step - loss: 0.5033 - accuracy: 0.7671 - val_loss: 0.5423 - val_accuracy: 0.7389\n",
      "Epoch 56/100\n",
      "23/23 [==============================] - 5s 203ms/step - loss: 0.5079 - accuracy: 0.7713 - val_loss: 0.6189 - val_accuracy: 0.7167\n",
      "Epoch 57/100\n",
      "23/23 [==============================] - 5s 200ms/step - loss: 0.4819 - accuracy: 0.7880 - val_loss: 0.5218 - val_accuracy: 0.7778\n",
      "Epoch 58/100\n",
      "23/23 [==============================] - 5s 200ms/step - loss: 0.4692 - accuracy: 0.7936 - val_loss: 0.5998 - val_accuracy: 0.7222\n",
      "Epoch 59/100\n",
      "23/23 [==============================] - 5s 209ms/step - loss: 0.4660 - accuracy: 0.8173 - val_loss: 0.5899 - val_accuracy: 0.7278\n",
      "Epoch 60/100\n",
      "23/23 [==============================] - 5s 221ms/step - loss: 0.4769 - accuracy: 0.7866 - val_loss: 0.5194 - val_accuracy: 0.7722\n",
      "Epoch 61/100\n",
      "23/23 [==============================] - 5s 209ms/step - loss: 0.4699 - accuracy: 0.7964 - val_loss: 0.5313 - val_accuracy: 0.7722\n",
      "Epoch 62/100\n",
      "23/23 [==============================] - 5s 213ms/step - loss: 0.4518 - accuracy: 0.8061 - val_loss: 0.5722 - val_accuracy: 0.7333\n",
      "Epoch 63/100\n",
      "23/23 [==============================] - 5s 222ms/step - loss: 0.4776 - accuracy: 0.7685 - val_loss: 0.5021 - val_accuracy: 0.7833\n",
      "Epoch 64/100\n",
      "23/23 [==============================] - 5s 208ms/step - loss: 0.4712 - accuracy: 0.8061 - val_loss: 0.4912 - val_accuracy: 0.8111\n",
      "Epoch 65/100\n",
      "23/23 [==============================] - 5s 215ms/step - loss: 0.4584 - accuracy: 0.7950 - val_loss: 0.5015 - val_accuracy: 0.7667\n",
      "Epoch 66/100\n",
      "23/23 [==============================] - 5s 212ms/step - loss: 0.4597 - accuracy: 0.8131 - val_loss: 0.4929 - val_accuracy: 0.8167\n",
      "Epoch 67/100\n",
      "23/23 [==============================] - 5s 212ms/step - loss: 0.4425 - accuracy: 0.8187 - val_loss: 0.4925 - val_accuracy: 0.7833\n",
      "Epoch 68/100\n",
      "23/23 [==============================] - 5s 209ms/step - loss: 0.4548 - accuracy: 0.8047 - val_loss: 0.5039 - val_accuracy: 0.7667\n",
      "Epoch 69/100\n",
      "23/23 [==============================] - 5s 206ms/step - loss: 0.4603 - accuracy: 0.7964 - val_loss: 0.4843 - val_accuracy: 0.8167\n",
      "Epoch 70/100\n",
      "23/23 [==============================] - 5s 205ms/step - loss: 0.4399 - accuracy: 0.8187 - val_loss: 0.4898 - val_accuracy: 0.7778\n",
      "Epoch 71/100\n",
      "23/23 [==============================] - 5s 204ms/step - loss: 0.4445 - accuracy: 0.8117 - val_loss: 0.5485 - val_accuracy: 0.7444\n",
      "Epoch 72/100\n",
      "23/23 [==============================] - 5s 217ms/step - loss: 0.4702 - accuracy: 0.7894 - val_loss: 0.4769 - val_accuracy: 0.8056\n",
      "Epoch 73/100\n",
      "23/23 [==============================] - 5s 211ms/step - loss: 0.4324 - accuracy: 0.8285 - val_loss: 0.4823 - val_accuracy: 0.7889\n",
      "Epoch 74/100\n",
      "23/23 [==============================] - 5s 214ms/step - loss: 0.4360 - accuracy: 0.8201 - val_loss: 0.4900 - val_accuracy: 0.7611\n",
      "Epoch 75/100\n",
      "23/23 [==============================] - 5s 210ms/step - loss: 0.4518 - accuracy: 0.8089 - val_loss: 0.4755 - val_accuracy: 0.8111\n",
      "Epoch 76/100\n",
      "23/23 [==============================] - 5s 212ms/step - loss: 0.4268 - accuracy: 0.8312 - val_loss: 0.5421 - val_accuracy: 0.7556\n",
      "Epoch 77/100\n",
      "23/23 [==============================] - 5s 216ms/step - loss: 0.4460 - accuracy: 0.8117 - val_loss: 0.4502 - val_accuracy: 0.8333\n",
      "Epoch 78/100\n",
      "23/23 [==============================] - 5s 221ms/step - loss: 0.4315 - accuracy: 0.8285 - val_loss: 0.4733 - val_accuracy: 0.7944\n",
      "Epoch 79/100\n",
      "23/23 [==============================] - 5s 216ms/step - loss: 0.4330 - accuracy: 0.8243 - val_loss: 0.4812 - val_accuracy: 0.7889\n",
      "Epoch 80/100\n",
      "23/23 [==============================] - 5s 210ms/step - loss: 0.4251 - accuracy: 0.8298 - val_loss: 0.4557 - val_accuracy: 0.7889\n",
      "Epoch 81/100\n",
      "23/23 [==============================] - 5s 207ms/step - loss: 0.4933 - accuracy: 0.7727 - val_loss: 0.5808 - val_accuracy: 0.7111\n",
      "Epoch 82/100\n",
      "23/23 [==============================] - 5s 210ms/step - loss: 0.4600 - accuracy: 0.8033 - val_loss: 0.4500 - val_accuracy: 0.8333\n",
      "Epoch 83/100\n",
      "23/23 [==============================] - 5s 218ms/step - loss: 0.4207 - accuracy: 0.8312 - val_loss: 0.4527 - val_accuracy: 0.8167\n",
      "Epoch 84/100\n",
      "23/23 [==============================] - 5s 219ms/step - loss: 0.4014 - accuracy: 0.8368 - val_loss: 0.5623 - val_accuracy: 0.7278\n",
      "Epoch 85/100\n",
      "23/23 [==============================] - 5s 213ms/step - loss: 0.4197 - accuracy: 0.8368 - val_loss: 0.4831 - val_accuracy: 0.7944\n",
      "Epoch 86/100\n",
      "23/23 [==============================] - 5s 210ms/step - loss: 0.4052 - accuracy: 0.8312 - val_loss: 0.4323 - val_accuracy: 0.8333\n",
      "Epoch 87/100\n",
      "23/23 [==============================] - 5s 203ms/step - loss: 0.3990 - accuracy: 0.8368 - val_loss: 0.4254 - val_accuracy: 0.8444\n",
      "Epoch 88/100\n",
      "23/23 [==============================] - 5s 207ms/step - loss: 0.4027 - accuracy: 0.8438 - val_loss: 0.4630 - val_accuracy: 0.7944\n",
      "Epoch 89/100\n",
      "23/23 [==============================] - 5s 202ms/step - loss: 0.4067 - accuracy: 0.8354 - val_loss: 0.4572 - val_accuracy: 0.8111\n",
      "Epoch 90/100\n",
      "23/23 [==============================] - 5s 204ms/step - loss: 0.4143 - accuracy: 0.8326 - val_loss: 0.4843 - val_accuracy: 0.7944\n",
      "Epoch 91/100\n",
      "23/23 [==============================] - 5s 205ms/step - loss: 0.3922 - accuracy: 0.8508 - val_loss: 0.4722 - val_accuracy: 0.8167\n",
      "Epoch 92/100\n",
      "23/23 [==============================] - 5s 207ms/step - loss: 0.3929 - accuracy: 0.8424 - val_loss: 0.4440 - val_accuracy: 0.8222\n",
      "Epoch 93/100\n",
      "23/23 [==============================] - 5s 209ms/step - loss: 0.3957 - accuracy: 0.8591 - val_loss: 0.4614 - val_accuracy: 0.8056\n",
      "Epoch 94/100\n",
      "23/23 [==============================] - 5s 204ms/step - loss: 0.4152 - accuracy: 0.8326 - val_loss: 0.5111 - val_accuracy: 0.7611\n",
      "Epoch 95/100\n",
      "23/23 [==============================] - 5s 209ms/step - loss: 0.4440 - accuracy: 0.8173 - val_loss: 0.4974 - val_accuracy: 0.7889\n",
      "Epoch 96/100\n",
      "23/23 [==============================] - 5s 205ms/step - loss: 0.3906 - accuracy: 0.8466 - val_loss: 0.4157 - val_accuracy: 0.8500\n",
      "Epoch 97/100\n",
      "23/23 [==============================] - 5s 204ms/step - loss: 0.4000 - accuracy: 0.8312 - val_loss: 0.4890 - val_accuracy: 0.7778\n",
      "Epoch 98/100\n",
      "23/23 [==============================] - 5s 209ms/step - loss: 0.3943 - accuracy: 0.8452 - val_loss: 0.4162 - val_accuracy: 0.8333\n",
      "Epoch 99/100\n",
      "23/23 [==============================] - 5s 210ms/step - loss: 0.3962 - accuracy: 0.8494 - val_loss: 0.4177 - val_accuracy: 0.8278\n",
      "Epoch 100/100\n",
      "23/23 [==============================] - 5s 202ms/step - loss: 0.3818 - accuracy: 0.8466 - val_loss: 0.4203 - val_accuracy: 0.8278\n"
     ]
    }
   ],
   "source": [
    "# 모델 학습\n",
    "history = model.fit(\n",
    "    X_train, y_train,\n",
    "    validation_split=0.2,\n",
    "    epochs=100,\n",
    "    batch_size=32,\n",
    "    class_weight = class_weights,\n",
    "    callbacks=[early_stopping]\n",
    ")"
   ]
  },
  {
   "cell_type": "code",
   "execution_count": 18,
   "metadata": {},
   "outputs": [
    {
     "name": "stdout",
     "output_type": "stream",
     "text": [
      "8/8 - 0s - loss: 0.4032 - accuracy: 0.8578 - 357ms/epoch - 45ms/step\n",
      "Test Loss: 0.40316224098205566\n",
      "Test Accuracy: 0.8577777743339539\n"
     ]
    }
   ],
   "source": [
    "test_loss, test_accuracy = model.evaluate(X_test, y_test, verbose=2)\n",
    "\n",
    "print(f\"Test Loss: {test_loss}\")\n",
    "print(f\"Test Accuracy: {test_accuracy}\")"
   ]
  }
 ],
 "metadata": {
  "kernelspec": {
   "display_name": "human-dl-env2",
   "language": "python",
   "name": "python3"
  },
  "language_info": {
   "codemirror_mode": {
    "name": "ipython",
    "version": 3
   },
   "file_extension": ".py",
   "mimetype": "text/x-python",
   "name": "python",
   "nbconvert_exporter": "python",
   "pygments_lexer": "ipython3",
   "version": "3.9.21"
  }
 },
 "nbformat": 4,
 "nbformat_minor": 2
}
