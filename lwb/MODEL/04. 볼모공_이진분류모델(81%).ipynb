{
 "cells": [
  {
   "cell_type": "code",
   "execution_count": 1,
   "metadata": {},
   "outputs": [
    {
     "name": "stdout",
     "output_type": "stream",
     "text": [
      "WARNING:tensorflow:From c:\\Users\\human\\.conda\\envs\\human-dl-env2\\lib\\site-packages\\keras\\src\\losses.py:2976: The name tf.losses.sparse_softmax_cross_entropy is deprecated. Please use tf.compat.v1.losses.sparse_softmax_cross_entropy instead.\n",
      "\n"
     ]
    }
   ],
   "source": [
    "import pickle\n",
    "import numpy as np\n",
    "from sklearn.model_selection import train_test_split\n",
    "from sklearn.utils.class_weight import compute_class_weight\n",
    "import cv2\n",
    "import os\n",
    "import tensorflow as tf\n",
    "import json\n",
    "import crop\n",
    "\n",
    "\n",
    "from tensorflow.keras import layers, models\n",
    "from tensorflow.keras.optimizers import Adam\n",
    "from tensorflow.keras.utils import to_categorical\n",
    "from tensorflow.keras.callbacks import EarlyStopping\n",
    "from tensorflow.keras.callbacks import LearningRateScheduler\n"
   ]
  },
  {
   "cell_type": "markdown",
   "metadata": {},
   "source": [
    "### _06: 오른쪽 볼 모공(r_cheek_pore)에 대해 bbox_crop"
   ]
  },
  {
   "cell_type": "code",
   "execution_count": 2,
   "metadata": {},
   "outputs": [],
   "source": [
    "label_key = \"_F_06.json\"\n",
    "annotation_key = \"r_cheek_pore\""
   ]
  },
  {
   "cell_type": "code",
   "execution_count": 3,
   "metadata": {},
   "outputs": [],
   "source": [
    "image_data, target_data = crop.process_files(label_key, annotation_key)"
   ]
  },
  {
   "cell_type": "code",
   "execution_count": 4,
   "metadata": {},
   "outputs": [
    {
     "name": "stdout",
     "output_type": "stream",
     "text": [
      "Number of images processed: 2574\n",
      "Number of targets processed: 2574\n"
     ]
    }
   ],
   "source": [
    "print(f\"Number of images processed: {len(image_data)}\")\n",
    "print(f\"Number of targets processed: {len(target_data)}\")"
   ]
  },
  {
   "cell_type": "markdown",
   "metadata": {},
   "source": [
    "### 데이터 저장 및 불러오기"
   ]
  },
  {
   "cell_type": "code",
   "execution_count": 5,
   "metadata": {},
   "outputs": [],
   "source": [
    "# 이미지, 타겟 데이터 저장\n",
    "\n",
    "with open(f'crop_data/{annotation_key}_image_data.pkl', 'wb') as f:\n",
    "    pickle.dump(image_data, f)\n",
    "\n",
    "with open(f'crop_data/{annotation_key}_target_data.pkl', 'wb') as f:\n",
    "    pickle.dump(target_data, f)"
   ]
  },
  {
   "cell_type": "code",
   "execution_count": 6,
   "metadata": {},
   "outputs": [],
   "source": [
    "# 데이터 로드\n",
    "with open(f'crop_data/{annotation_key}_image_data.pkl', 'rb') as f:\n",
    "    image_data = pickle.load(f)\n",
    "\n",
    "with open(f'crop_data/{annotation_key}_target_data.pkl', 'rb') as f:\n",
    "    target_data = pickle.load(f)"
   ]
  },
  {
   "cell_type": "code",
   "execution_count": 7,
   "metadata": {},
   "outputs": [
    {
     "name": "stdout",
     "output_type": "stream",
     "text": [
      "Value: 2, Count: 1569\n",
      "Value: 1, Count: 450\n",
      "Value: 4, Count: 132\n",
      "Value: 3, Count: 321\n",
      "Value: 5, Count: 30\n",
      "Value: 0, Count: 72\n"
     ]
    }
   ],
   "source": [
    "# 데이터 카운트\n",
    "from collections import Counter\n",
    "\n",
    "values_list = list(target_data.values())\n",
    "value_counts = Counter(values_list)\n",
    "\n",
    "for value, count in value_counts.items():\n",
    "    print(f\"Value: {value}, Count: {count}\")"
   ]
  },
  {
   "cell_type": "markdown",
   "metadata": {},
   "source": [
    "### (0,1), (3,4,5)로 모델링"
   ]
  },
  {
   "cell_type": "code",
   "execution_count": 8,
   "metadata": {},
   "outputs": [],
   "source": [
    "def merge_classes(target_data):\n",
    "    binary_target_data = {}\n",
    "    for key, value in target_data.items():\n",
    "        if value in [0, 1]:\n",
    "            binary_target_data[key] = '10'\n",
    "        elif value in [3, 4, 5]:\n",
    "            binary_target_data[key] = '20'\n",
    "        else:\n",
    "            binary_target_data[key] = value\n",
    "    \n",
    "    return binary_target_data\n",
    "\n",
    "binary_target_data = merge_classes(target_data)"
   ]
  },
  {
   "cell_type": "code",
   "execution_count": 9,
   "metadata": {},
   "outputs": [
    {
     "name": "stdout",
     "output_type": "stream",
     "text": [
      "Value: 10, Count: 522\n",
      "Value: 20, Count: 483\n"
     ]
    }
   ],
   "source": [
    "filtered_target_data = {key: value for key, value in binary_target_data.items() if value in ['10', '20']}\n",
    "\n",
    "values_list = list(filtered_target_data.values())\n",
    "value_counts = Counter(values_list)\n",
    "\n",
    "for value, count in value_counts.items():\n",
    "    print(f\"Value: {value}, Count: {count}\")"
   ]
  },
  {
   "cell_type": "code",
   "execution_count": 10,
   "metadata": {},
   "outputs": [
    {
     "name": "stdout",
     "output_type": "stream",
     "text": [
      "Length of X: 1005, Length of y: 1005\n"
     ]
    }
   ],
   "source": [
    "common_keys = set(image_data.keys()) & set(filtered_target_data.keys())\n",
    "\n",
    "# 데이터 정렬\n",
    "filtered_image_data = {key: image_data[key] for key in common_keys}\n",
    "filtered_target_data = {key: filtered_target_data[key] for key in common_keys}\n",
    "\n",
    "# X와 y 생성\n",
    "X = np.array(list(filtered_image_data.values()))\n",
    "y = np.array(list(filtered_target_data.values()))\n",
    "\n",
    "print(f\"Length of X: {len(X)}, Length of y: {len(y)}\")"
   ]
  },
  {
   "cell_type": "code",
   "execution_count": 11,
   "metadata": {},
   "outputs": [
    {
     "name": "stdout",
     "output_type": "stream",
     "text": [
      "X_train shape: (804, 128, 128, 3), y_train shape: (804,)\n",
      "X_test shape: (201, 128, 128, 3), y_test shape: (201,)\n"
     ]
    }
   ],
   "source": [
    "class_mapping = {'10': 0, '20': 1}\n",
    "y = np.array([class_mapping[label] for label in y])\n",
    "X = X / 255.0\n",
    "\n",
    "X_train, X_test, y_train, y_test = train_test_split(X, y, test_size=0.2, random_state=42)\n",
    "\n",
    "print(f\"X_train shape: {X_train.shape}, y_train shape: {y_train.shape}\")\n",
    "print(f\"X_test shape: {X_test.shape}, y_test shape: {y_test.shape}\")"
   ]
  },
  {
   "cell_type": "code",
   "execution_count": 12,
   "metadata": {},
   "outputs": [
    {
     "name": "stdout",
     "output_type": "stream",
     "text": [
      "WARNING:tensorflow:From c:\\Users\\human\\.conda\\envs\\human-dl-env2\\lib\\site-packages\\keras\\src\\backend.py:873: The name tf.get_default_graph is deprecated. Please use tf.compat.v1.get_default_graph instead.\n",
      "\n",
      "WARNING:tensorflow:From c:\\Users\\human\\.conda\\envs\\human-dl-env2\\lib\\site-packages\\keras\\src\\layers\\pooling\\max_pooling2d.py:161: The name tf.nn.max_pool is deprecated. Please use tf.nn.max_pool2d instead.\n",
      "\n",
      "Model: \"sequential\"\n",
      "_________________________________________________________________\n",
      " Layer (type)                Output Shape              Param #   \n",
      "=================================================================\n",
      " conv2d (Conv2D)             (None, 126, 126, 32)      896       \n",
      "                                                                 \n",
      " max_pooling2d (MaxPooling2  (None, 63, 63, 32)        0         \n",
      " D)                                                              \n",
      "                                                                 \n",
      " conv2d_1 (Conv2D)           (None, 61, 61, 64)        18496     \n",
      "                                                                 \n",
      " max_pooling2d_1 (MaxPoolin  (None, 30, 30, 64)        0         \n",
      " g2D)                                                            \n",
      "                                                                 \n",
      " conv2d_2 (Conv2D)           (None, 28, 28, 128)       73856     \n",
      "                                                                 \n",
      " max_pooling2d_2 (MaxPoolin  (None, 14, 14, 128)       0         \n",
      " g2D)                                                            \n",
      "                                                                 \n",
      " flatten (Flatten)           (None, 25088)             0         \n",
      "                                                                 \n",
      " dense (Dense)               (None, 128)               3211392   \n",
      "                                                                 \n",
      " dropout (Dropout)           (None, 128)               0         \n",
      "                                                                 \n",
      " dense_1 (Dense)             (None, 1)                 129       \n",
      "                                                                 \n",
      "=================================================================\n",
      "Total params: 3304769 (12.61 MB)\n",
      "Trainable params: 3304769 (12.61 MB)\n",
      "Non-trainable params: 0 (0.00 Byte)\n",
      "_________________________________________________________________\n"
     ]
    }
   ],
   "source": [
    "model = models.Sequential([\n",
    "    layers.Conv2D(32, (3, 3), activation='relu', input_shape=(X.shape[1], X.shape[2], X.shape[3])),\n",
    "    layers.MaxPooling2D((2, 2)),\n",
    "    layers.Conv2D(64, (3, 3), activation='relu'),\n",
    "    layers.MaxPooling2D((2, 2)),\n",
    "    layers.Conv2D(128, (3, 3), activation='relu'),\n",
    "    layers.MaxPooling2D((2, 2)),\n",
    "    layers.Flatten(),\n",
    "    layers.Dense(128, activation='relu'),\n",
    "    layers.Dropout(0.5),\n",
    "    layers.Dense(1, activation='sigmoid')  # 이진 분류 출력층\n",
    "])\n",
    "\n",
    "# 모델 컴파일\n",
    "model.compile(loss='binary_crossentropy', \n",
    "              optimizer=Adam(learning_rate=0.0001), \n",
    "              metrics=['accuracy'])\n",
    "\n",
    "# 모델 요약\n",
    "model.summary()"
   ]
  },
  {
   "cell_type": "code",
   "execution_count": 13,
   "metadata": {},
   "outputs": [],
   "source": [
    "class_weights = compute_class_weight('balanced', classes=np.unique(y_train), y=y_train)\n",
    "class_weights = dict(enumerate(class_weights))\n",
    "\n",
    "early_stopping = EarlyStopping(\n",
    "    monitor='val_loss',\n",
    "    patience=10,\n",
    "    restore_best_weights=True,\n",
    "    verbose=1\n",
    ")\n"
   ]
  },
  {
   "cell_type": "code",
   "execution_count": 14,
   "metadata": {},
   "outputs": [
    {
     "name": "stdout",
     "output_type": "stream",
     "text": [
      "Epoch 1/100\n",
      "WARNING:tensorflow:From c:\\Users\\human\\.conda\\envs\\human-dl-env2\\lib\\site-packages\\keras\\src\\utils\\tf_utils.py:492: The name tf.ragged.RaggedTensorValue is deprecated. Please use tf.compat.v1.ragged.RaggedTensorValue instead.\n",
      "\n",
      "WARNING:tensorflow:From c:\\Users\\human\\.conda\\envs\\human-dl-env2\\lib\\site-packages\\keras\\src\\engine\\base_layer_utils.py:384: The name tf.executing_eagerly_outside_functions is deprecated. Please use tf.compat.v1.executing_eagerly_outside_functions instead.\n",
      "\n",
      "21/21 [==============================] - 6s 229ms/step - loss: 0.6985 - accuracy: 0.4759 - val_loss: 0.7046 - val_accuracy: 0.4658\n",
      "Epoch 2/100\n",
      "21/21 [==============================] - 4s 197ms/step - loss: 0.6980 - accuracy: 0.4868 - val_loss: 0.6914 - val_accuracy: 0.5714\n",
      "Epoch 3/100\n",
      "21/21 [==============================] - 4s 198ms/step - loss: 0.6898 - accuracy: 0.5303 - val_loss: 0.6941 - val_accuracy: 0.4783\n",
      "Epoch 4/100\n",
      "21/21 [==============================] - 4s 198ms/step - loss: 0.6843 - accuracy: 0.5645 - val_loss: 0.6819 - val_accuracy: 0.5714\n",
      "Epoch 5/100\n",
      "21/21 [==============================] - 4s 197ms/step - loss: 0.6954 - accuracy: 0.5241 - val_loss: 0.6873 - val_accuracy: 0.5714\n",
      "Epoch 6/100\n",
      "21/21 [==============================] - 4s 198ms/step - loss: 0.6835 - accuracy: 0.5661 - val_loss: 0.6891 - val_accuracy: 0.5404\n",
      "Epoch 7/100\n",
      "21/21 [==============================] - 5s 219ms/step - loss: 0.6780 - accuracy: 0.5972 - val_loss: 0.6749 - val_accuracy: 0.5839\n",
      "Epoch 8/100\n",
      "21/21 [==============================] - 4s 208ms/step - loss: 0.6749 - accuracy: 0.5863 - val_loss: 0.6745 - val_accuracy: 0.5590\n",
      "Epoch 9/100\n",
      "21/21 [==============================] - 4s 204ms/step - loss: 0.6723 - accuracy: 0.5677 - val_loss: 0.6619 - val_accuracy: 0.6149\n",
      "Epoch 10/100\n",
      "21/21 [==============================] - 4s 196ms/step - loss: 0.6775 - accuracy: 0.5739 - val_loss: 0.6650 - val_accuracy: 0.6273\n",
      "Epoch 11/100\n",
      "21/21 [==============================] - 4s 196ms/step - loss: 0.6633 - accuracy: 0.6283 - val_loss: 0.6549 - val_accuracy: 0.6522\n",
      "Epoch 12/100\n",
      "21/21 [==============================] - 4s 197ms/step - loss: 0.6428 - accuracy: 0.6563 - val_loss: 0.6384 - val_accuracy: 0.6460\n",
      "Epoch 13/100\n",
      "21/21 [==============================] - 4s 206ms/step - loss: 0.6331 - accuracy: 0.6485 - val_loss: 0.6163 - val_accuracy: 0.6770\n",
      "Epoch 14/100\n",
      "21/21 [==============================] - 4s 205ms/step - loss: 0.6116 - accuracy: 0.6890 - val_loss: 0.6553 - val_accuracy: 0.5963\n",
      "Epoch 15/100\n",
      "21/21 [==============================] - 5s 218ms/step - loss: 0.6076 - accuracy: 0.6967 - val_loss: 0.5708 - val_accuracy: 0.7578\n",
      "Epoch 16/100\n",
      "21/21 [==============================] - 4s 209ms/step - loss: 0.5646 - accuracy: 0.7247 - val_loss: 0.5762 - val_accuracy: 0.6770\n",
      "Epoch 17/100\n",
      "21/21 [==============================] - 5s 222ms/step - loss: 0.5761 - accuracy: 0.6967 - val_loss: 0.6033 - val_accuracy: 0.6522\n",
      "Epoch 18/100\n",
      "21/21 [==============================] - 4s 214ms/step - loss: 0.5682 - accuracy: 0.6921 - val_loss: 0.5263 - val_accuracy: 0.7764\n",
      "Epoch 19/100\n",
      "21/21 [==============================] - 4s 209ms/step - loss: 0.5500 - accuracy: 0.7185 - val_loss: 0.5265 - val_accuracy: 0.7516\n",
      "Epoch 20/100\n",
      "21/21 [==============================] - 4s 198ms/step - loss: 0.5105 - accuracy: 0.7558 - val_loss: 0.4801 - val_accuracy: 0.7826\n",
      "Epoch 21/100\n",
      "21/21 [==============================] - 4s 195ms/step - loss: 0.4931 - accuracy: 0.7745 - val_loss: 0.4815 - val_accuracy: 0.7888\n",
      "Epoch 22/100\n",
      "21/21 [==============================] - 4s 197ms/step - loss: 0.4897 - accuracy: 0.7745 - val_loss: 0.5162 - val_accuracy: 0.7205\n",
      "Epoch 23/100\n",
      "21/21 [==============================] - 4s 197ms/step - loss: 0.4631 - accuracy: 0.7963 - val_loss: 0.4457 - val_accuracy: 0.8012\n",
      "Epoch 24/100\n",
      "21/21 [==============================] - 4s 195ms/step - loss: 0.4694 - accuracy: 0.7823 - val_loss: 0.4491 - val_accuracy: 0.7950\n",
      "Epoch 25/100\n",
      "21/21 [==============================] - 4s 197ms/step - loss: 0.4645 - accuracy: 0.7963 - val_loss: 0.4600 - val_accuracy: 0.7950\n",
      "Epoch 26/100\n",
      "21/21 [==============================] - 4s 195ms/step - loss: 0.4285 - accuracy: 0.8134 - val_loss: 0.4264 - val_accuracy: 0.8012\n",
      "Epoch 27/100\n",
      "21/21 [==============================] - 4s 199ms/step - loss: 0.4317 - accuracy: 0.8118 - val_loss: 0.4807 - val_accuracy: 0.7516\n",
      "Epoch 28/100\n",
      "21/21 [==============================] - 4s 199ms/step - loss: 0.4312 - accuracy: 0.8134 - val_loss: 0.4306 - val_accuracy: 0.8137\n",
      "Epoch 29/100\n",
      "21/21 [==============================] - 4s 197ms/step - loss: 0.4127 - accuracy: 0.8165 - val_loss: 0.4321 - val_accuracy: 0.8075\n",
      "Epoch 30/100\n",
      "21/21 [==============================] - 4s 196ms/step - loss: 0.4178 - accuracy: 0.8227 - val_loss: 0.4408 - val_accuracy: 0.7578\n",
      "Epoch 31/100\n",
      "21/21 [==============================] - 4s 196ms/step - loss: 0.3946 - accuracy: 0.8243 - val_loss: 0.4704 - val_accuracy: 0.7702\n",
      "Epoch 32/100\n",
      "21/21 [==============================] - 4s 197ms/step - loss: 0.4128 - accuracy: 0.8227 - val_loss: 0.4359 - val_accuracy: 0.8075\n",
      "Epoch 33/100\n",
      "21/21 [==============================] - 4s 194ms/step - loss: 0.3999 - accuracy: 0.8149 - val_loss: 0.4402 - val_accuracy: 0.7702\n",
      "Epoch 34/100\n",
      "21/21 [==============================] - 4s 194ms/step - loss: 0.3745 - accuracy: 0.8460 - val_loss: 0.4266 - val_accuracy: 0.7826\n",
      "Epoch 35/100\n",
      "21/21 [==============================] - 4s 199ms/step - loss: 0.3731 - accuracy: 0.8336 - val_loss: 0.4153 - val_accuracy: 0.7826\n",
      "Epoch 36/100\n",
      "21/21 [==============================] - 4s 195ms/step - loss: 0.3813 - accuracy: 0.8351 - val_loss: 0.4178 - val_accuracy: 0.7640\n",
      "Epoch 37/100\n",
      "21/21 [==============================] - 4s 204ms/step - loss: 0.3736 - accuracy: 0.8351 - val_loss: 0.4222 - val_accuracy: 0.7764\n",
      "Epoch 38/100\n",
      "21/21 [==============================] - 4s 195ms/step - loss: 0.3743 - accuracy: 0.8351 - val_loss: 0.4176 - val_accuracy: 0.7888\n",
      "Epoch 39/100\n",
      "21/21 [==============================] - 4s 195ms/step - loss: 0.3818 - accuracy: 0.8367 - val_loss: 0.4201 - val_accuracy: 0.8199\n",
      "Epoch 40/100\n",
      "21/21 [==============================] - 4s 199ms/step - loss: 0.3538 - accuracy: 0.8289 - val_loss: 0.4120 - val_accuracy: 0.8012\n",
      "Epoch 41/100\n",
      "21/21 [==============================] - 5s 225ms/step - loss: 0.3552 - accuracy: 0.8398 - val_loss: 0.4056 - val_accuracy: 0.7826\n",
      "Epoch 42/100\n",
      "21/21 [==============================] - 4s 204ms/step - loss: 0.3728 - accuracy: 0.8383 - val_loss: 0.5031 - val_accuracy: 0.7640\n",
      "Epoch 43/100\n",
      "21/21 [==============================] - 4s 196ms/step - loss: 0.3616 - accuracy: 0.8320 - val_loss: 0.4128 - val_accuracy: 0.7826\n",
      "Epoch 44/100\n",
      "21/21 [==============================] - 4s 197ms/step - loss: 0.3610 - accuracy: 0.8351 - val_loss: 0.4366 - val_accuracy: 0.7702\n",
      "Epoch 45/100\n",
      "21/21 [==============================] - 4s 192ms/step - loss: 0.3466 - accuracy: 0.8507 - val_loss: 0.4283 - val_accuracy: 0.7640\n",
      "Epoch 46/100\n",
      "21/21 [==============================] - 4s 196ms/step - loss: 0.3492 - accuracy: 0.8320 - val_loss: 0.4110 - val_accuracy: 0.7950\n",
      "Epoch 47/100\n",
      "21/21 [==============================] - 4s 193ms/step - loss: 0.3707 - accuracy: 0.8383 - val_loss: 0.4708 - val_accuracy: 0.7764\n",
      "Epoch 48/100\n",
      "21/21 [==============================] - 4s 194ms/step - loss: 0.3572 - accuracy: 0.8585 - val_loss: 0.4282 - val_accuracy: 0.7826\n",
      "Epoch 49/100\n",
      "21/21 [==============================] - 4s 195ms/step - loss: 0.3433 - accuracy: 0.8585 - val_loss: 0.4323 - val_accuracy: 0.7888\n",
      "Epoch 50/100\n",
      "21/21 [==============================] - 4s 194ms/step - loss: 0.3602 - accuracy: 0.8351 - val_loss: 0.4013 - val_accuracy: 0.8199\n",
      "Epoch 51/100\n",
      "21/21 [==============================] - 4s 196ms/step - loss: 0.3302 - accuracy: 0.8569 - val_loss: 0.4512 - val_accuracy: 0.7702\n",
      "Epoch 52/100\n",
      "21/21 [==============================] - 4s 195ms/step - loss: 0.3462 - accuracy: 0.8600 - val_loss: 0.4478 - val_accuracy: 0.7640\n",
      "Epoch 53/100\n",
      "21/21 [==============================] - 4s 195ms/step - loss: 0.3383 - accuracy: 0.8600 - val_loss: 0.4490 - val_accuracy: 0.7702\n",
      "Epoch 54/100\n",
      "21/21 [==============================] - 4s 197ms/step - loss: 0.3331 - accuracy: 0.8507 - val_loss: 0.4259 - val_accuracy: 0.7826\n",
      "Epoch 55/100\n",
      "21/21 [==============================] - 4s 195ms/step - loss: 0.3284 - accuracy: 0.8678 - val_loss: 0.4682 - val_accuracy: 0.7578\n",
      "Epoch 56/100\n",
      "21/21 [==============================] - 4s 196ms/step - loss: 0.3483 - accuracy: 0.8663 - val_loss: 0.4842 - val_accuracy: 0.7516\n",
      "Epoch 57/100\n",
      "21/21 [==============================] - 4s 196ms/step - loss: 0.3469 - accuracy: 0.8460 - val_loss: 0.4695 - val_accuracy: 0.7702\n",
      "Epoch 58/100\n",
      "21/21 [==============================] - 4s 196ms/step - loss: 0.3281 - accuracy: 0.8663 - val_loss: 0.4468 - val_accuracy: 0.7764\n",
      "Epoch 59/100\n",
      "21/21 [==============================] - 4s 196ms/step - loss: 0.3087 - accuracy: 0.8725 - val_loss: 0.4583 - val_accuracy: 0.7826\n",
      "Epoch 60/100\n",
      "20/21 [===========================>..] - ETA: 0s - loss: 0.3164 - accuracy: 0.8687Restoring model weights from the end of the best epoch: 50.\n",
      "21/21 [==============================] - 4s 196ms/step - loss: 0.3152 - accuracy: 0.8694 - val_loss: 0.4527 - val_accuracy: 0.7764\n",
      "Epoch 60: early stopping\n"
     ]
    }
   ],
   "source": [
    "# 모델 학습\n",
    "history = model.fit(\n",
    "    X_train, y_train,\n",
    "    validation_split=0.2,\n",
    "    epochs=100,\n",
    "    batch_size=32,\n",
    "    class_weight = class_weights,\n",
    "    callbacks=[early_stopping]\n",
    ")"
   ]
  },
  {
   "cell_type": "code",
   "execution_count": 15,
   "metadata": {},
   "outputs": [
    {
     "name": "stdout",
     "output_type": "stream",
     "text": [
      "7/7 - 0s - loss: 0.4481 - accuracy: 0.8109 - 303ms/epoch - 43ms/step\n",
      "Test Loss: 0.4480682909488678\n",
      "Test Accuracy: 0.8109452724456787\n"
     ]
    }
   ],
   "source": [
    "test_loss, test_accuracy = model.evaluate(X_test, y_test, verbose=2)\n",
    "\n",
    "print(f\"Test Loss: {test_loss}\")\n",
    "print(f\"Test Accuracy: {test_accuracy}\")"
   ]
  },
  {
   "cell_type": "code",
   "execution_count": 16,
   "metadata": {},
   "outputs": [
    {
     "name": "stdout",
     "output_type": "stream",
     "text": [
      "7/7 [==============================] - 0s 39ms/step\n",
      "Predicted Classes:  [1 1 1 0 1 0 0 1 0 1 1 1 1 0 0 1 0 0 1 1 1 0 0 1 0 0 1 0 0 0 1 0 1 0 1 0 1\n",
      " 1 1 0 0 0 1 1 0 0 0 1 1 0 1 0 0 0 0 0 1 0 0 1 1 0 0 1 1 0 0 1 1 0 1 1 0 0\n",
      " 0 0 0 0 1 1 1 0 1 0 1 0 0 1 1 1 1 0 0 0 0 1 1 0 0 0 0 0 0 0 1 1 1 1 0 1 1\n",
      " 0 0 0 0 0 0 0 1 0 1 1 1 1 0 0 0 1 0 0 0 0 0 1 0 1 0 1 1 0 0 0 0 0 0 1 0 0\n",
      " 0 0 1 0 1 1 0 1 0 1 0 0 0 1 1 1 1 0 0 0 0 0 1 0 0 1 1 1 0 1 1 0 0 0 1 1 1\n",
      " 1 1 1 1 1 1 1 0 1 1 0 0 0 1 0 0]\n"
     ]
    }
   ],
   "source": [
    "# 예측 수행 (확률 값 반환)\n",
    "predictions = model.predict(X_test)  # 이진 분류에서는 sigmoid 출력\n",
    "\n",
    "# 0.5를 기준으로 클래스 결정\n",
    "predicted_classes = (predictions > 0.5).astype(int).flatten()\n",
    "\n",
    "print(\"Predicted Classes: \", predicted_classes)\n"
   ]
  }
 ],
 "metadata": {
  "kernelspec": {
   "display_name": "human-dl-env2",
   "language": "python",
   "name": "python3"
  },
  "language_info": {
   "codemirror_mode": {
    "name": "ipython",
    "version": 3
   },
   "file_extension": ".py",
   "mimetype": "text/x-python",
   "name": "python",
   "nbconvert_exporter": "python",
   "pygments_lexer": "ipython3",
   "version": "3.9.21"
  }
 },
 "nbformat": 4,
 "nbformat_minor": 2
}
