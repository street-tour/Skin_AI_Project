{
 "cells": [
  {
   "cell_type": "code",
   "execution_count": 44,
   "metadata": {},
   "outputs": [],
   "source": [
    "import pickle\n",
    "import numpy as np\n",
    "from sklearn.model_selection import train_test_split\n",
    "from sklearn.utils.class_weight import compute_class_weight\n",
    "import cv2\n",
    "import os\n",
    "import tensorflow as tf\n",
    "import json\n",
    "import crop\n",
    "\n",
    "\n",
    "from tensorflow.keras import layers, models\n",
    "from tensorflow.keras.optimizers import Adam\n",
    "from tensorflow.keras.utils import to_categorical\n",
    "from tensorflow.keras.callbacks import EarlyStopping\n",
    "from tensorflow.keras.callbacks import LearningRateScheduler\n"
   ]
  },
  {
   "cell_type": "markdown",
   "metadata": {},
   "source": []
  },
  {
   "cell_type": "markdown",
   "metadata": {},
   "source": [
    "### _07: 입술건조(lip_dryness)에 대해 bbox_crop"
   ]
  },
  {
   "cell_type": "code",
   "execution_count": 5,
   "metadata": {},
   "outputs": [],
   "source": [
    "label_key = \"_F_07.json\"\n",
    "annotation_key = \"lip_dryness\""
   ]
  },
  {
   "cell_type": "code",
   "execution_count": 6,
   "metadata": {},
   "outputs": [],
   "source": [
    "image_data, target_data = crop.process_files(label_key, annotation_key)"
   ]
  },
  {
   "cell_type": "code",
   "execution_count": 7,
   "metadata": {},
   "outputs": [
    {
     "name": "stdout",
     "output_type": "stream",
     "text": [
      "Number of images processed: 2574\n",
      "Number of targets processed: 2574\n"
     ]
    }
   ],
   "source": [
    "print(f\"Number of images processed: {len(image_data)}\")\n",
    "print(f\"Number of targets processed: {len(target_data)}\")"
   ]
  },
  {
   "cell_type": "markdown",
   "metadata": {},
   "source": [
    "### 데이터 저장 및 불러오기"
   ]
  },
  {
   "cell_type": "code",
   "execution_count": 8,
   "metadata": {},
   "outputs": [],
   "source": [
    "# 이미지, 타겟 데이터 저장\n",
    "\n",
    "with open(f'crop_data/{annotation_key}_image_data.pkl', 'wb') as f:\n",
    "    pickle.dump(image_data, f)\n",
    "\n",
    "with open(f'crop_data/{annotation_key}_target_data.pkl', 'wb') as f:\n",
    "    pickle.dump(target_data, f)"
   ]
  },
  {
   "cell_type": "code",
   "execution_count": 45,
   "metadata": {},
   "outputs": [],
   "source": [
    "# 데이터 로드\n",
    "with open(f'crop_data/{annotation_key}_image_data.pkl', 'rb') as f:\n",
    "    image_data = pickle.load(f)\n",
    "\n",
    "with open(f'crop_data/{annotation_key}_target_data.pkl', 'rb') as f:\n",
    "    target_data = pickle.load(f)"
   ]
  },
  {
   "cell_type": "code",
   "execution_count": 46,
   "metadata": {},
   "outputs": [
    {
     "name": "stdout",
     "output_type": "stream",
     "text": [
      "Value: 2, Count: 1572\n",
      "Value: 3, Count: 477\n",
      "Value: 1, Count: 405\n",
      "Value: 4, Count: 60\n",
      "Value: 0, Count: 60\n"
     ]
    }
   ],
   "source": [
    "# 데이터 카운트\n",
    "from collections import Counter\n",
    "\n",
    "values_list = list(target_data.values())\n",
    "value_counts = Counter(values_list)\n",
    "\n",
    "for value, count in value_counts.items():\n",
    "    print(f\"Value: {value}, Count: {count}\")"
   ]
  },
  {
   "cell_type": "markdown",
   "metadata": {},
   "source": [
    "### (0,1), (3,4)로 모델링"
   ]
  },
  {
   "cell_type": "code",
   "execution_count": 47,
   "metadata": {},
   "outputs": [],
   "source": [
    "def merge_classes(target_data):\n",
    "    binary_target_data = {}\n",
    "    for key, value in target_data.items():\n",
    "        if value in [0, 1]:\n",
    "            binary_target_data[key] = '10'\n",
    "        elif value in [3, 4]:\n",
    "            binary_target_data[key] = '20'\n",
    "        else:\n",
    "            binary_target_data[key] = value\n",
    "    \n",
    "    return binary_target_data\n",
    "\n",
    "binary_target_data = merge_classes(target_data)"
   ]
  },
  {
   "cell_type": "code",
   "execution_count": 48,
   "metadata": {},
   "outputs": [
    {
     "name": "stdout",
     "output_type": "stream",
     "text": [
      "Value: 20, Count: 537\n",
      "Value: 10, Count: 465\n"
     ]
    }
   ],
   "source": [
    "filtered_target_data = {key: value for key, value in binary_target_data.items() if value in ['10', '20']}\n",
    "\n",
    "values_list = list(filtered_target_data.values())\n",
    "value_counts = Counter(values_list)\n",
    "\n",
    "for value, count in value_counts.items():\n",
    "    print(f\"Value: {value}, Count: {count}\")"
   ]
  },
  {
   "cell_type": "code",
   "execution_count": 49,
   "metadata": {},
   "outputs": [
    {
     "name": "stdout",
     "output_type": "stream",
     "text": [
      "Length of X: 1002, Length of y: 1002\n"
     ]
    }
   ],
   "source": [
    "common_keys = set(image_data.keys()) & set(filtered_target_data.keys())\n",
    "\n",
    "# 데이터 정렬\n",
    "filtered_image_data = {key: image_data[key] for key in common_keys}\n",
    "filtered_target_data = {key: filtered_target_data[key] for key in common_keys}\n",
    "\n",
    "# X와 y 생성\n",
    "X = np.array(list(filtered_image_data.values()))\n",
    "y = np.array(list(filtered_target_data.values()))\n",
    "\n",
    "print(f\"Length of X: {len(X)}, Length of y: {len(y)}\")"
   ]
  },
  {
   "cell_type": "code",
   "execution_count": 50,
   "metadata": {},
   "outputs": [
    {
     "name": "stdout",
     "output_type": "stream",
     "text": [
      "X_train shape: (801, 128, 128, 3), y_train shape: (801,)\n",
      "X_test shape: (201, 128, 128, 3), y_test shape: (201,)\n"
     ]
    }
   ],
   "source": [
    "class_mapping = {'10': 0, '20': 1}\n",
    "y = np.array([class_mapping[label] for label in y])\n",
    "X = X / 255.0\n",
    "\n",
    "X_train, X_test, y_train, y_test = train_test_split(X, y, test_size=0.2, random_state=42)\n",
    "\n",
    "print(f\"X_train shape: {X_train.shape}, y_train shape: {y_train.shape}\")\n",
    "print(f\"X_test shape: {X_test.shape}, y_test shape: {y_test.shape}\")"
   ]
  },
  {
   "cell_type": "code",
   "execution_count": 51,
   "metadata": {},
   "outputs": [
    {
     "name": "stdout",
     "output_type": "stream",
     "text": [
      "Model: \"sequential_4\"\n",
      "_________________________________________________________________\n",
      " Layer (type)                Output Shape              Param #   \n",
      "=================================================================\n",
      " conv2d_9 (Conv2D)           (None, 126, 126, 32)      896       \n",
      "                                                                 \n",
      " max_pooling2d_9 (MaxPoolin  (None, 63, 63, 32)        0         \n",
      " g2D)                                                            \n",
      "                                                                 \n",
      " conv2d_10 (Conv2D)          (None, 61, 61, 64)        18496     \n",
      "                                                                 \n",
      " max_pooling2d_10 (MaxPooli  (None, 30, 30, 64)        0         \n",
      " ng2D)                                                           \n",
      "                                                                 \n",
      " conv2d_11 (Conv2D)          (None, 28, 28, 128)       73856     \n",
      "                                                                 \n",
      " max_pooling2d_11 (MaxPooli  (None, 14, 14, 128)       0         \n",
      " ng2D)                                                           \n",
      "                                                                 \n",
      " flatten_3 (Flatten)         (None, 25088)             0         \n",
      "                                                                 \n",
      " dense_8 (Dense)             (None, 128)               3211392   \n",
      "                                                                 \n",
      " dropout_4 (Dropout)         (None, 128)               0         \n",
      "                                                                 \n",
      " dense_9 (Dense)             (None, 1)                 129       \n",
      "                                                                 \n",
      "=================================================================\n",
      "Total params: 3304769 (12.61 MB)\n",
      "Trainable params: 3304769 (12.61 MB)\n",
      "Non-trainable params: 0 (0.00 Byte)\n",
      "_________________________________________________________________\n"
     ]
    }
   ],
   "source": [
    "model = models.Sequential([\n",
    "    layers.Conv2D(32, (3, 3), activation='relu', input_shape=(X.shape[1], X.shape[2], X.shape[3])),\n",
    "    layers.MaxPooling2D((2, 2)),\n",
    "    layers.Conv2D(64, (3, 3), activation='relu'),\n",
    "    layers.MaxPooling2D((2, 2)),\n",
    "    layers.Conv2D(128, (3, 3), activation='relu'),\n",
    "    layers.MaxPooling2D((2, 2)),\n",
    "    layers.Flatten(),\n",
    "    layers.Dense(128, activation='relu'),\n",
    "    layers.Dropout(0.5),\n",
    "    layers.Dense(1, activation='sigmoid')  # 이진 분류 출력층\n",
    "])\n",
    "\n",
    "# 모델 컴파일\n",
    "model.compile(loss='binary_crossentropy', \n",
    "              optimizer=Adam(learning_rate=0.0001), \n",
    "              metrics=['accuracy'])\n",
    "\n",
    "# 모델 요약\n",
    "model.summary()"
   ]
  },
  {
   "cell_type": "code",
   "execution_count": 52,
   "metadata": {},
   "outputs": [],
   "source": [
    "class_weights = compute_class_weight('balanced', classes=np.unique(y_train), y=y_train)\n",
    "class_weights = dict(enumerate(class_weights))\n",
    "\n",
    "early_stopping = EarlyStopping(\n",
    "    monitor='val_loss',\n",
    "    patience=10,\n",
    "    restore_best_weights=True,\n",
    "    verbose=1\n",
    ")\n"
   ]
  },
  {
   "cell_type": "code",
   "execution_count": 53,
   "metadata": {},
   "outputs": [
    {
     "name": "stdout",
     "output_type": "stream",
     "text": [
      "Epoch 1/100\n",
      "20/20 [==============================] - 6s 221ms/step - loss: 0.7033 - accuracy: 0.4781 - val_loss: 0.6926 - val_accuracy: 0.5280\n",
      "Epoch 2/100\n",
      "20/20 [==============================] - 4s 212ms/step - loss: 0.6930 - accuracy: 0.5078 - val_loss: 0.6922 - val_accuracy: 0.5280\n",
      "Epoch 3/100\n",
      "20/20 [==============================] - 4s 208ms/step - loss: 0.6954 - accuracy: 0.4578 - val_loss: 0.6928 - val_accuracy: 0.5280\n",
      "Epoch 4/100\n",
      "20/20 [==============================] - 4s 206ms/step - loss: 0.6931 - accuracy: 0.5156 - val_loss: 0.6929 - val_accuracy: 0.5217\n",
      "Epoch 5/100\n",
      "20/20 [==============================] - 4s 204ms/step - loss: 0.6929 - accuracy: 0.5328 - val_loss: 0.6929 - val_accuracy: 0.4907\n",
      "Epoch 6/100\n",
      "20/20 [==============================] - 4s 205ms/step - loss: 0.6926 - accuracy: 0.5188 - val_loss: 0.6929 - val_accuracy: 0.4720\n",
      "Epoch 7/100\n",
      "20/20 [==============================] - 4s 202ms/step - loss: 0.6939 - accuracy: 0.4953 - val_loss: 0.6928 - val_accuracy: 0.4720\n",
      "Epoch 8/100\n",
      "20/20 [==============================] - 4s 211ms/step - loss: 0.6933 - accuracy: 0.5063 - val_loss: 0.6918 - val_accuracy: 0.5280\n",
      "Epoch 9/100\n",
      "20/20 [==============================] - 4s 205ms/step - loss: 0.6928 - accuracy: 0.5234 - val_loss: 0.6916 - val_accuracy: 0.5280\n",
      "Epoch 10/100\n",
      "20/20 [==============================] - 4s 205ms/step - loss: 0.6937 - accuracy: 0.5000 - val_loss: 0.6932 - val_accuracy: 0.4720\n",
      "Epoch 11/100\n",
      "20/20 [==============================] - 4s 207ms/step - loss: 0.6922 - accuracy: 0.5641 - val_loss: 0.6917 - val_accuracy: 0.5714\n",
      "Epoch 12/100\n",
      "20/20 [==============================] - 4s 205ms/step - loss: 0.6913 - accuracy: 0.5406 - val_loss: 0.6897 - val_accuracy: 0.6087\n",
      "Epoch 13/100\n",
      "20/20 [==============================] - 4s 214ms/step - loss: 0.6928 - accuracy: 0.5125 - val_loss: 0.6857 - val_accuracy: 0.6398\n",
      "Epoch 14/100\n",
      "20/20 [==============================] - 5s 257ms/step - loss: 0.6958 - accuracy: 0.5281 - val_loss: 0.6935 - val_accuracy: 0.4720\n",
      "Epoch 15/100\n",
      "20/20 [==============================] - 5s 241ms/step - loss: 0.6939 - accuracy: 0.5141 - val_loss: 0.6916 - val_accuracy: 0.5466\n",
      "Epoch 16/100\n",
      "20/20 [==============================] - 4s 217ms/step - loss: 0.6942 - accuracy: 0.5031 - val_loss: 0.6913 - val_accuracy: 0.5466\n",
      "Epoch 17/100\n",
      "20/20 [==============================] - 4s 207ms/step - loss: 0.6905 - accuracy: 0.5906 - val_loss: 0.6845 - val_accuracy: 0.5590\n",
      "Epoch 18/100\n",
      "20/20 [==============================] - 4s 217ms/step - loss: 0.6923 - accuracy: 0.5172 - val_loss: 0.6926 - val_accuracy: 0.5093\n",
      "Epoch 19/100\n",
      "20/20 [==============================] - 4s 210ms/step - loss: 0.6887 - accuracy: 0.5406 - val_loss: 0.6829 - val_accuracy: 0.6770\n",
      "Epoch 20/100\n",
      "20/20 [==============================] - 4s 214ms/step - loss: 0.6859 - accuracy: 0.5594 - val_loss: 0.6776 - val_accuracy: 0.6584\n",
      "Epoch 21/100\n",
      "20/20 [==============================] - 4s 219ms/step - loss: 0.6706 - accuracy: 0.6094 - val_loss: 0.6613 - val_accuracy: 0.6832\n",
      "Epoch 22/100\n",
      "20/20 [==============================] - 4s 220ms/step - loss: 0.6755 - accuracy: 0.5781 - val_loss: 0.6614 - val_accuracy: 0.6584\n",
      "Epoch 23/100\n",
      "20/20 [==============================] - 4s 204ms/step - loss: 0.6673 - accuracy: 0.5672 - val_loss: 0.6842 - val_accuracy: 0.5528\n",
      "Epoch 24/100\n",
      "20/20 [==============================] - 4s 203ms/step - loss: 0.6581 - accuracy: 0.6109 - val_loss: 0.6354 - val_accuracy: 0.6335\n",
      "Epoch 25/100\n",
      "20/20 [==============================] - 4s 205ms/step - loss: 0.6564 - accuracy: 0.6109 - val_loss: 0.6314 - val_accuracy: 0.7019\n",
      "Epoch 26/100\n",
      "20/20 [==============================] - 4s 203ms/step - loss: 0.6507 - accuracy: 0.6391 - val_loss: 0.6235 - val_accuracy: 0.6708\n",
      "Epoch 27/100\n",
      "20/20 [==============================] - 4s 205ms/step - loss: 0.6554 - accuracy: 0.6172 - val_loss: 0.6273 - val_accuracy: 0.6957\n",
      "Epoch 28/100\n",
      "20/20 [==============================] - 4s 201ms/step - loss: 0.6477 - accuracy: 0.6391 - val_loss: 0.6495 - val_accuracy: 0.6398\n",
      "Epoch 29/100\n",
      "20/20 [==============================] - 4s 205ms/step - loss: 0.6513 - accuracy: 0.6172 - val_loss: 0.6189 - val_accuracy: 0.7081\n",
      "Epoch 30/100\n",
      "20/20 [==============================] - 4s 201ms/step - loss: 0.6384 - accuracy: 0.6391 - val_loss: 0.6158 - val_accuracy: 0.7081\n",
      "Epoch 31/100\n",
      "20/20 [==============================] - 4s 202ms/step - loss: 0.6332 - accuracy: 0.6500 - val_loss: 0.6102 - val_accuracy: 0.6832\n",
      "Epoch 32/100\n",
      "20/20 [==============================] - 4s 210ms/step - loss: 0.6361 - accuracy: 0.6297 - val_loss: 0.6264 - val_accuracy: 0.6770\n",
      "Epoch 33/100\n",
      "20/20 [==============================] - 4s 218ms/step - loss: 0.6356 - accuracy: 0.6313 - val_loss: 0.6124 - val_accuracy: 0.6957\n",
      "Epoch 34/100\n",
      "20/20 [==============================] - 4s 207ms/step - loss: 0.6303 - accuracy: 0.6516 - val_loss: 0.6099 - val_accuracy: 0.6894\n",
      "Epoch 35/100\n",
      "20/20 [==============================] - 4s 209ms/step - loss: 0.6110 - accuracy: 0.6594 - val_loss: 0.5998 - val_accuracy: 0.7019\n",
      "Epoch 36/100\n",
      "20/20 [==============================] - 4s 210ms/step - loss: 0.6421 - accuracy: 0.6375 - val_loss: 0.6290 - val_accuracy: 0.6335\n",
      "Epoch 37/100\n",
      "20/20 [==============================] - 4s 212ms/step - loss: 0.6176 - accuracy: 0.6828 - val_loss: 0.6150 - val_accuracy: 0.7267\n",
      "Epoch 38/100\n",
      "20/20 [==============================] - 4s 217ms/step - loss: 0.6110 - accuracy: 0.6641 - val_loss: 0.6031 - val_accuracy: 0.7019\n",
      "Epoch 39/100\n",
      "20/20 [==============================] - 4s 212ms/step - loss: 0.6014 - accuracy: 0.6734 - val_loss: 0.6053 - val_accuracy: 0.7143\n",
      "Epoch 40/100\n",
      "20/20 [==============================] - 4s 208ms/step - loss: 0.6121 - accuracy: 0.6781 - val_loss: 0.6118 - val_accuracy: 0.7081\n",
      "Epoch 41/100\n",
      "20/20 [==============================] - 4s 211ms/step - loss: 0.5939 - accuracy: 0.6859 - val_loss: 0.5908 - val_accuracy: 0.7143\n",
      "Epoch 42/100\n",
      "20/20 [==============================] - 5s 227ms/step - loss: 0.6010 - accuracy: 0.6781 - val_loss: 0.6100 - val_accuracy: 0.7143\n",
      "Epoch 43/100\n",
      "20/20 [==============================] - 4s 223ms/step - loss: 0.5959 - accuracy: 0.6969 - val_loss: 0.5919 - val_accuracy: 0.7205\n",
      "Epoch 44/100\n",
      "20/20 [==============================] - 4s 217ms/step - loss: 0.5999 - accuracy: 0.6734 - val_loss: 0.6005 - val_accuracy: 0.6894\n",
      "Epoch 45/100\n",
      "20/20 [==============================] - 4s 216ms/step - loss: 0.5906 - accuracy: 0.6828 - val_loss: 0.6066 - val_accuracy: 0.7019\n",
      "Epoch 46/100\n",
      "20/20 [==============================] - 4s 216ms/step - loss: 0.5988 - accuracy: 0.6812 - val_loss: 0.5949 - val_accuracy: 0.7267\n",
      "Epoch 47/100\n",
      "20/20 [==============================] - 4s 210ms/step - loss: 0.5933 - accuracy: 0.6891 - val_loss: 0.6214 - val_accuracy: 0.6708\n",
      "Epoch 48/100\n",
      "20/20 [==============================] - 4s 202ms/step - loss: 0.5873 - accuracy: 0.7047 - val_loss: 0.5923 - val_accuracy: 0.7267\n",
      "Epoch 49/100\n",
      "20/20 [==============================] - 4s 201ms/step - loss: 0.5973 - accuracy: 0.6984 - val_loss: 0.6026 - val_accuracy: 0.7205\n",
      "Epoch 50/100\n",
      "20/20 [==============================] - 4s 204ms/step - loss: 0.5707 - accuracy: 0.6984 - val_loss: 0.6175 - val_accuracy: 0.6646\n",
      "Epoch 51/100\n",
      "20/20 [==============================] - ETA: 0s - loss: 0.5996 - accuracy: 0.6953Restoring model weights from the end of the best epoch: 41.\n",
      "20/20 [==============================] - 4s 199ms/step - loss: 0.5996 - accuracy: 0.6953 - val_loss: 0.6124 - val_accuracy: 0.7205\n",
      "Epoch 51: early stopping\n"
     ]
    }
   ],
   "source": [
    "# 모델 학습\n",
    "history = model.fit(\n",
    "    X_train, y_train,\n",
    "    validation_split=0.2,\n",
    "    epochs=100,\n",
    "    batch_size=32,\n",
    "    class_weight = class_weights,\n",
    "    callbacks=[early_stopping]\n",
    ")"
   ]
  },
  {
   "cell_type": "code",
   "execution_count": 54,
   "metadata": {},
   "outputs": [
    {
     "name": "stdout",
     "output_type": "stream",
     "text": [
      "7/7 - 0s - loss: 0.5816 - accuracy: 0.7164 - 310ms/epoch - 44ms/step\n",
      "Test Loss: 0.5816039443016052\n",
      "Test Accuracy: 0.7164179086685181\n"
     ]
    }
   ],
   "source": [
    "test_loss, test_accuracy = model.evaluate(X_test, y_test, verbose=2)\n",
    "\n",
    "print(f\"Test Loss: {test_loss}\")\n",
    "print(f\"Test Accuracy: {test_accuracy}\")"
   ]
  },
  {
   "cell_type": "code",
   "execution_count": 55,
   "metadata": {},
   "outputs": [
    {
     "name": "stdout",
     "output_type": "stream",
     "text": [
      "7/7 [==============================] - 0s 42ms/step\n",
      "Predicted Classes:  [1 1 1 1 0 0 0 0 1 0 0 1 0 0 0 0 0 1 0 1 0 0 0 1 0 1 1 0 0 0 1 1 1 1 1 1 0\n",
      " 0 0 1 1 0 1 0 1 1 1 1 0 1 1 1 1 1 1 1 1 1 0 1 1 1 1 1 1 1 1 1 1 0 0 1 1 0\n",
      " 1 1 0 0 1 1 1 1 0 1 1 1 0 1 1 0 1 1 1 1 0 0 1 1 0 1 0 1 0 1 1 1 1 1 1 1 1\n",
      " 1 0 0 0 1 1 1 1 1 1 0 1 1 0 0 1 1 0 1 1 1 1 0 1 1 1 0 0 1 0 0 0 1 0 0 1 1\n",
      " 0 0 1 1 1 0 1 0 0 1 1 1 1 1 1 1 0 1 1 1 0 0 0 1 1 0 1 1 1 0 1 1 0 1 1 1 1\n",
      " 0 1 0 1 0 0 0 0 1 1 1 1 1 1 0 1]\n"
     ]
    }
   ],
   "source": [
    "# 예측 수행 (확률 값 반환)\n",
    "predictions = model.predict(X_test)  # 이진 분류에서는 sigmoid 출력\n",
    "\n",
    "# 0.5를 기준으로 클래스 결정\n",
    "predicted_classes = (predictions > 0.5).astype(int).flatten()\n",
    "\n",
    "print(\"Predicted Classes: \", predicted_classes)\n"
   ]
  }
 ],
 "metadata": {
  "kernelspec": {
   "display_name": "human-dl-env2",
   "language": "python",
   "name": "python3"
  },
  "language_info": {
   "codemirror_mode": {
    "name": "ipython",
    "version": 3
   },
   "file_extension": ".py",
   "mimetype": "text/x-python",
   "name": "python",
   "nbconvert_exporter": "python",
   "pygments_lexer": "ipython3",
   "version": "3.9.21"
  }
 },
 "nbformat": 4,
 "nbformat_minor": 2
}
